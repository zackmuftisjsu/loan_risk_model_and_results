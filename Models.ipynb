{
  "nbformat": 4,
  "nbformat_minor": 0,
  "metadata": {
    "colab": {
      "name": "Models.ipynb",
      "provenance": [],
      "collapsed_sections": [],
      "machine_shape": "hm"
    },
    "kernelspec": {
      "name": "python3",
      "display_name": "Python 3"
    },
    "accelerator": "GPU"
  },
  "cells": [
    {
      "cell_type": "markdown",
      "metadata": {
        "id": "jxT7-GVEmHYW",
        "colab_type": "text"
      },
      "source": [
        "# Data preprocessing"
      ]
    },
    {
      "cell_type": "code",
      "metadata": {
        "id": "z-9m6mUpHSlx",
        "colab_type": "code",
        "outputId": "4d188c1f-e62a-4ae9-9c44-a102a91704b6",
        "colab": {
          "base_uri": "https://localhost:8080/",
          "height": 245
        }
      },
      "source": [
        "!pip install PyDrive"
      ],
      "execution_count": 93,
      "outputs": [
        {
          "output_type": "stream",
          "text": [
            "Requirement already satisfied: PyDrive in /usr/local/lib/python3.6/dist-packages (1.3.1)\n",
            "Requirement already satisfied: PyYAML>=3.0 in /usr/local/lib/python3.6/dist-packages (from PyDrive) (3.13)\n",
            "Requirement already satisfied: oauth2client>=4.0.0 in /usr/local/lib/python3.6/dist-packages (from PyDrive) (4.1.3)\n",
            "Requirement already satisfied: google-api-python-client>=1.2 in /usr/local/lib/python3.6/dist-packages (from PyDrive) (1.7.12)\n",
            "Requirement already satisfied: rsa>=3.1.4 in /usr/local/lib/python3.6/dist-packages (from oauth2client>=4.0.0->PyDrive) (4.0)\n",
            "Requirement already satisfied: pyasn1>=0.1.7 in /usr/local/lib/python3.6/dist-packages (from oauth2client>=4.0.0->PyDrive) (0.4.8)\n",
            "Requirement already satisfied: six>=1.6.1 in /usr/local/lib/python3.6/dist-packages (from oauth2client>=4.0.0->PyDrive) (1.12.0)\n",
            "Requirement already satisfied: httplib2>=0.9.1 in /usr/local/lib/python3.6/dist-packages (from oauth2client>=4.0.0->PyDrive) (0.15.0)\n",
            "Requirement already satisfied: pyasn1-modules>=0.0.5 in /usr/local/lib/python3.6/dist-packages (from oauth2client>=4.0.0->PyDrive) (0.2.8)\n",
            "Requirement already satisfied: google-auth-httplib2>=0.0.3 in /usr/local/lib/python3.6/dist-packages (from google-api-python-client>=1.2->PyDrive) (0.0.3)\n",
            "Requirement already satisfied: google-auth>=1.4.1 in /usr/local/lib/python3.6/dist-packages (from google-api-python-client>=1.2->PyDrive) (1.7.2)\n",
            "Requirement already satisfied: uritemplate<4dev,>=3.0.0 in /usr/local/lib/python3.6/dist-packages (from google-api-python-client>=1.2->PyDrive) (3.0.1)\n",
            "Requirement already satisfied: setuptools>=40.3.0 in /usr/local/lib/python3.6/dist-packages (from google-auth>=1.4.1->google-api-python-client>=1.2->PyDrive) (46.1.3)\n",
            "Requirement already satisfied: cachetools<3.2,>=2.0.0 in /usr/local/lib/python3.6/dist-packages (from google-auth>=1.4.1->google-api-python-client>=1.2->PyDrive) (3.1.1)\n"
          ],
          "name": "stdout"
        }
      ]
    },
    {
      "cell_type": "code",
      "metadata": {
        "id": "d1xyvWF85ky6",
        "colab_type": "code",
        "outputId": "f2f22567-2f90-4c76-e763-6b7c136bf947",
        "colab": {
          "base_uri": "https://localhost:8080/",
          "height": 33
        }
      },
      "source": [
        "!pip install httplib2==0.15.0"
      ],
      "execution_count": 94,
      "outputs": [
        {
          "output_type": "stream",
          "text": [
            "Requirement already satisfied: httplib2==0.15.0 in /usr/local/lib/python3.6/dist-packages (0.15.0)\n"
          ],
          "name": "stdout"
        }
      ]
    },
    {
      "cell_type": "code",
      "metadata": {
        "id": "xYRl0wHg4NUN",
        "colab_type": "code",
        "colab": {}
      },
      "source": [
        "import matplotlib.pylab as plt\n",
        "%matplotlib inline\n",
        "from matplotlib.pylab import rcParams"
      ],
      "execution_count": 0,
      "outputs": []
    },
    {
      "cell_type": "code",
      "metadata": {
        "id": "-G8Q3VhFwgTL",
        "colab_type": "code",
        "outputId": "e8657384-e83a-4ec6-df70-67976ece3501",
        "colab": {
          "base_uri": "https://localhost:8080/",
          "height": 66
        }
      },
      "source": [
        "!pip install xgboost\n",
        "from xgboost import XGBClassifier"
      ],
      "execution_count": 96,
      "outputs": [
        {
          "output_type": "stream",
          "text": [
            "Requirement already satisfied: xgboost in /usr/local/lib/python3.6/dist-packages (0.90)\n",
            "Requirement already satisfied: scipy in /usr/local/lib/python3.6/dist-packages (from xgboost) (1.4.1)\n",
            "Requirement already satisfied: numpy in /usr/local/lib/python3.6/dist-packages (from xgboost) (1.18.3)\n"
          ],
          "name": "stdout"
        }
      ]
    },
    {
      "cell_type": "code",
      "metadata": {
        "id": "T8QoAp-23sP4",
        "colab_type": "code",
        "colab": {}
      },
      "source": [
        "import xgboost"
      ],
      "execution_count": 0,
      "outputs": []
    },
    {
      "cell_type": "code",
      "metadata": {
        "id": "6143NEnnHcyC",
        "colab_type": "code",
        "colab": {}
      },
      "source": [
        "import os\n",
        "from pydrive.auth import GoogleAuth\n",
        "from pydrive.drive import GoogleDrive\n",
        "from google.colab import auth\n",
        "from oauth2client.client import GoogleCredentials"
      ],
      "execution_count": 0,
      "outputs": []
    },
    {
      "cell_type": "code",
      "metadata": {
        "id": "l9uuua9UHekF",
        "colab_type": "code",
        "colab": {}
      },
      "source": [
        "auth.authenticate_user()\n",
        "gauth = GoogleAuth()\n",
        "gauth.credentials = GoogleCredentials.get_application_default()\n",
        "drive = GoogleDrive(gauth)"
      ],
      "execution_count": 0,
      "outputs": []
    },
    {
      "cell_type": "code",
      "metadata": {
        "id": "HZFDzsZIHhaG",
        "colab_type": "code",
        "colab": {}
      },
      "source": [
        "import pandas as pd\n",
        "import numpy as np\n",
        "import seaborn as sb\n",
        "import matplotlib.pyplot as plt\n",
        "import csv\n",
        "import datetime\n",
        "import random\n",
        "import time\n"
      ],
      "execution_count": 0,
      "outputs": []
    },
    {
      "cell_type": "code",
      "metadata": {
        "id": "NoEFlCxVwbR1",
        "colab_type": "code",
        "colab": {}
      },
      "source": [
        "import xgboost\n",
        "import sklearn\n",
        "import sklearn.metrics \n",
        "from numpy import loadtxt\n",
        "from xgboost import XGBClassifier\n",
        "from sklearn.metrics import log_loss\n",
        "from sklearn.metrics import roc_auc_score, roc_curve\n",
        "from sklearn.metrics import accuracy_score\n",
        "from sklearn.metrics import precision_recall_fscore_support as score, precision_score, recall_score, f1_score\n",
        "from sklearn.metrics import confusion_matrix\n",
        "from sklearn.feature_selection import RFE\n",
        "from sklearn.linear_model import LogisticRegression\n",
        "import statsmodels.api as sm\n",
        "from itertools import compress\n",
        "from sklearn import metrics\n",
        "from sklearn.metrics import classification_report\n",
        "from sklearn.preprocessing import LabelEncoder\n"
      ],
      "execution_count": 0,
      "outputs": []
    },
    {
      "cell_type": "code",
      "metadata": {
        "id": "eFe8tzGvHilL",
        "colab_type": "code",
        "colab": {}
      },
      "source": [
        "pd.set_option('display.max_rows', 1000001)\n",
        "pd.set_option('display.max_columns', 1000001)\n",
        "pd.set_option('max_colwidth', 1000)\n",
        "pd.options.display.float_format = \"{:.2f}\".format"
      ],
      "execution_count": 0,
      "outputs": []
    },
    {
      "cell_type": "code",
      "metadata": {
        "id": "nUfFNGVeIQcz",
        "colab_type": "code",
        "colab": {}
      },
      "source": [
        "\n",
        "X = drive.CreateFile({'id': '1j7ozXxMSou-OKgga5Kw09Ii3w2TeUNii'})\n",
        "X.GetContentFile('datadataF.csv')\n",
        "X = pd.read_csv('datadataF.csv')\n",
        "X = X.drop('Unnamed: 0', axis=1)"
      ],
      "execution_count": 0,
      "outputs": []
    },
    {
      "cell_type": "code",
      "metadata": {
        "id": "l5zJPyhJL7WN",
        "colab_type": "code",
        "colab": {}
      },
      "source": [
        "X = X.drop('Decision', axis=1)"
      ],
      "execution_count": 0,
      "outputs": []
    },
    {
      "cell_type": "code",
      "metadata": {
        "id": "bf3DHPZrLI9u",
        "colab_type": "code",
        "colab": {}
      },
      "source": [
        "X['Acceptance Score 2'] = (X['ed_rank']*0.09)+\n",
        "(X['annual_inc_rank']*0.08)+ \n",
        "(X['debt_inc_rank']*0.15)+ \n",
        "(X['credit_util_rank']*0.08)+ \n",
        "(X['home_ownership_rank']*0.07)+ \n",
        "(X['emp_status_rank']*0.07)+ \n",
        "(X['job_title_rank']*0.04)+ \n",
        "(X['married_rank']*0.06)+ \n",
        "(X['children_rank']*0.06)+ \n",
        "(X['loan_length_rank']*0.05)+ \n",
        "(X['home_value_rank']*0.03)+ \n",
        "(X['home_equity_rank']*0.07)+ \n",
        "(X['age_rank']*0.02)+ \n",
        "(X['empl_length_rank']*0.03)+ \n",
        "(X['loan_amount_rank']*0.10)"
      ],
      "execution_count": 0,
      "outputs": []
    },
    {
      "cell_type": "code",
      "metadata": {
        "id": "fECMTCAtMcGa",
        "colab_type": "code",
        "colab": {}
      },
      "source": [
        "def fix_decision_2(row):\n",
        "  if row['Acceptance Score 2'] >= 7:\n",
        "    return 1\n",
        "  else:\n",
        "    return 0"
      ],
      "execution_count": 0,
      "outputs": []
    },
    {
      "cell_type": "code",
      "metadata": {
        "id": "KswwvGXJMdYP",
        "colab_type": "code",
        "colab": {}
      },
      "source": [
        "X['Final Decision 2'] = X.apply(fix_decision_2,axis=1)"
      ],
      "execution_count": 0,
      "outputs": []
    },
    {
      "cell_type": "code",
      "metadata": {
        "id": "ZpP44ZGjIQ0H",
        "colab_type": "code",
        "outputId": "e49fca32-e815-46c3-889a-ed3b53198751",
        "colab": {
          "base_uri": "https://localhost:8080/",
          "height": 915
        }
      },
      "source": [
        "X"
      ],
      "execution_count": 123,
      "outputs": [
        {
          "output_type": "execute_result",
          "data": {
            "text/html": [
              "<div>\n",
              "<style scoped>\n",
              "    .dataframe tbody tr th:only-of-type {\n",
              "        vertical-align: middle;\n",
              "    }\n",
              "\n",
              "    .dataframe tbody tr th {\n",
              "        vertical-align: top;\n",
              "    }\n",
              "\n",
              "    .dataframe thead th {\n",
              "        text-align: right;\n",
              "    }\n",
              "</style>\n",
              "<table border=\"1\" class=\"dataframe\">\n",
              "  <thead>\n",
              "    <tr style=\"text-align: right;\">\n",
              "      <th></th>\n",
              "      <th>id</th>\n",
              "      <th>ed_rank</th>\n",
              "      <th>age_rank</th>\n",
              "      <th>credit_util_rank</th>\n",
              "      <th>loan_length_rank</th>\n",
              "      <th>children_rank</th>\n",
              "      <th>debt_inc_rank</th>\n",
              "      <th>annual_inc_rank</th>\n",
              "      <th>emp_status_rank</th>\n",
              "      <th>gender_rank</th>\n",
              "      <th>home_equity_rank</th>\n",
              "      <th>home_ownership_rank</th>\n",
              "      <th>home_value_rank</th>\n",
              "      <th>job_title_rank</th>\n",
              "      <th>empl_length_rank</th>\n",
              "      <th>loan_amount_rank</th>\n",
              "      <th>married_rank</th>\n",
              "      <th>final_score_weight1</th>\n",
              "      <th>final_score_weight2</th>\n",
              "      <th>final_score_weight3</th>\n",
              "      <th>first_name</th>\n",
              "      <th>last_name</th>\n",
              "      <th>email</th>\n",
              "      <th>gender</th>\n",
              "      <th>emp_status</th>\n",
              "      <th>job_title</th>\n",
              "      <th>empl_length</th>\n",
              "      <th>race</th>\n",
              "      <th>ssn</th>\n",
              "      <th>State</th>\n",
              "      <th>Loan Length</th>\n",
              "      <th>ed_level</th>\n",
              "      <th>annual_inc</th>\n",
              "      <th>Monthly Income</th>\n",
              "      <th>home_ownership</th>\n",
              "      <th>open_credit_lines</th>\n",
              "      <th>age</th>\n",
              "      <th>married</th>\n",
              "      <th>children</th>\n",
              "      <th>Children Amount</th>\n",
              "      <th>Zip Code</th>\n",
              "      <th>Debt/Income Ratio</th>\n",
              "      <th>Metro</th>\n",
              "      <th>Median Zipcode Price</th>\n",
              "      <th>Home_Value</th>\n",
              "      <th>Total Credit Limit</th>\n",
              "      <th>Credit Utilization</th>\n",
              "      <th>Home Ownership</th>\n",
              "      <th>Years Home Owned</th>\n",
              "      <th>Home Equity</th>\n",
              "      <th>Loan_Amount</th>\n",
              "      <th>New Loan Monthly Cost Best Case</th>\n",
              "      <th>Total Credit Balance</th>\n",
              "      <th>Monthly Debt</th>\n",
              "      <th>Credit Line 1 age</th>\n",
              "      <th>Credit Line 2 age</th>\n",
              "      <th>Credit Line 3 age</th>\n",
              "      <th>Credit Line 4 age</th>\n",
              "      <th>Credit Line 5 age</th>\n",
              "      <th>Length of Credit History (avg credit lifespan in yrs)</th>\n",
              "      <th>Credit Mix (# of types of credit)</th>\n",
              "      <th>Recent Activity - Time since newest acct</th>\n",
              "      <th>Recent Activity - # accts applied in last year</th>\n",
              "      <th>Payment History - # payments currently past due</th>\n",
              "      <th>Payment History - # yrs ago last payment missed</th>\n",
              "      <th>Payment History -  Bankruptcy/Reposession/Acct_in_Collection in past</th>\n",
              "      <th>Acceptance Score</th>\n",
              "      <th>Final Decision</th>\n",
              "      <th>Acceptance Score 2</th>\n",
              "      <th>Final Decision 2</th>\n",
              "    </tr>\n",
              "  </thead>\n",
              "  <tbody>\n",
              "    <tr>\n",
              "      <th>0</th>\n",
              "      <td>1</td>\n",
              "      <td>2</td>\n",
              "      <td>8</td>\n",
              "      <td>7</td>\n",
              "      <td>8</td>\n",
              "      <td>10</td>\n",
              "      <td>0</td>\n",
              "      <td>2</td>\n",
              "      <td>10</td>\n",
              "      <td>10</td>\n",
              "      <td>0</td>\n",
              "      <td>5</td>\n",
              "      <td>0</td>\n",
              "      <td>9</td>\n",
              "      <td>6</td>\n",
              "      <td>4</td>\n",
              "      <td>0</td>\n",
              "      <td>5.62</td>\n",
              "      <td>5.07</td>\n",
              "      <td>6.02</td>\n",
              "      <td>Lisa</td>\n",
              "      <td>Jackson</td>\n",
              "      <td>fnielsen@owens-martin.com</td>\n",
              "      <td>F</td>\n",
              "      <td>Fulltime</td>\n",
              "      <td>First/Mid Level Officials and Manager</td>\n",
              "      <td>6</td>\n",
              "      <td>Other</td>\n",
              "      <td>097-71-7287</td>\n",
              "      <td>Alaska</td>\n",
              "      <td>47</td>\n",
              "      <td>2</td>\n",
              "      <td>41001</td>\n",
              "      <td>15750.00</td>\n",
              "      <td>False</td>\n",
              "      <td>4</td>\n",
              "      <td>29</td>\n",
              "      <td>False</td>\n",
              "      <td>False</td>\n",
              "      <td>0</td>\n",
              "      <td>99688</td>\n",
              "      <td>0.61</td>\n",
              "      <td>Anchorage</td>\n",
              "      <td>174354</td>\n",
              "      <td>0</td>\n",
              "      <td>38718.00</td>\n",
              "      <td>0.17</td>\n",
              "      <td>Rent</td>\n",
              "      <td>0</td>\n",
              "      <td>0.00</td>\n",
              "      <td>17950</td>\n",
              "      <td>404.83</td>\n",
              "      <td>6773</td>\n",
              "      <td>9616</td>\n",
              "      <td>4</td>\n",
              "      <td>4</td>\n",
              "      <td>2</td>\n",
              "      <td>4</td>\n",
              "      <td>4</td>\n",
              "      <td>3</td>\n",
              "      <td>4</td>\n",
              "      <td>2</td>\n",
              "      <td>0</td>\n",
              "      <td>0</td>\n",
              "      <td>1</td>\n",
              "      <td>False</td>\n",
              "      <td>2.90</td>\n",
              "      <td>0</td>\n",
              "      <td>4.05</td>\n",
              "      <td>0</td>\n",
              "    </tr>\n",
              "    <tr>\n",
              "      <th>1</th>\n",
              "      <td>2</td>\n",
              "      <td>8</td>\n",
              "      <td>6</td>\n",
              "      <td>10</td>\n",
              "      <td>4</td>\n",
              "      <td>8</td>\n",
              "      <td>10</td>\n",
              "      <td>2</td>\n",
              "      <td>4</td>\n",
              "      <td>0</td>\n",
              "      <td>10</td>\n",
              "      <td>10</td>\n",
              "      <td>2</td>\n",
              "      <td>9</td>\n",
              "      <td>8</td>\n",
              "      <td>4</td>\n",
              "      <td>10</td>\n",
              "      <td>7.38</td>\n",
              "      <td>8.12</td>\n",
              "      <td>7.81</td>\n",
              "      <td>Daniel</td>\n",
              "      <td>Hughes</td>\n",
              "      <td>robinjohns@yahoo.com</td>\n",
              "      <td>M</td>\n",
              "      <td>Parttime</td>\n",
              "      <td>Professional</td>\n",
              "      <td>19</td>\n",
              "      <td>Asian</td>\n",
              "      <td>158-82-3598</td>\n",
              "      <td>New Jersey</td>\n",
              "      <td>22</td>\n",
              "      <td>4</td>\n",
              "      <td>38903</td>\n",
              "      <td>15250.00</td>\n",
              "      <td>True</td>\n",
              "      <td>5</td>\n",
              "      <td>61</td>\n",
              "      <td>True</td>\n",
              "      <td>True</td>\n",
              "      <td>1</td>\n",
              "      <td>7980</td>\n",
              "      <td>0.10</td>\n",
              "      <td>New York-Newark-Jersey City</td>\n",
              "      <td>472328</td>\n",
              "      <td>363093</td>\n",
              "      <td>28953.00</td>\n",
              "      <td>0.03</td>\n",
              "      <td>Own</td>\n",
              "      <td>5</td>\n",
              "      <td>60515.50</td>\n",
              "      <td>21530</td>\n",
              "      <td>1037.35</td>\n",
              "      <td>801</td>\n",
              "      <td>1521</td>\n",
              "      <td>39</td>\n",
              "      <td>25</td>\n",
              "      <td>24</td>\n",
              "      <td>25</td>\n",
              "      <td>28</td>\n",
              "      <td>28</td>\n",
              "      <td>5</td>\n",
              "      <td>24</td>\n",
              "      <td>2</td>\n",
              "      <td>0</td>\n",
              "      <td>4</td>\n",
              "      <td>False</td>\n",
              "      <td>8.55</td>\n",
              "      <td>1</td>\n",
              "      <td>7.32</td>\n",
              "      <td>1</td>\n",
              "    </tr>\n",
              "    <tr>\n",
              "      <th>2</th>\n",
              "      <td>3</td>\n",
              "      <td>4</td>\n",
              "      <td>8</td>\n",
              "      <td>5</td>\n",
              "      <td>6</td>\n",
              "      <td>10</td>\n",
              "      <td>5</td>\n",
              "      <td>0</td>\n",
              "      <td>0</td>\n",
              "      <td>0</td>\n",
              "      <td>0</td>\n",
              "      <td>0</td>\n",
              "      <td>0</td>\n",
              "      <td>0</td>\n",
              "      <td>0</td>\n",
              "      <td>4</td>\n",
              "      <td>10</td>\n",
              "      <td>4.00</td>\n",
              "      <td>4.01</td>\n",
              "      <td>4.66</td>\n",
              "      <td>Katherine</td>\n",
              "      <td>Arnold</td>\n",
              "      <td>wrightana@yahoo.com</td>\n",
              "      <td>M</td>\n",
              "      <td>Student</td>\n",
              "      <td>NaN</td>\n",
              "      <td>0</td>\n",
              "      <td>Asian</td>\n",
              "      <td>568-37-8039</td>\n",
              "      <td>North Carolina</td>\n",
              "      <td>32</td>\n",
              "      <td>3</td>\n",
              "      <td>0</td>\n",
              "      <td>10916.67</td>\n",
              "      <td>False</td>\n",
              "      <td>4</td>\n",
              "      <td>29</td>\n",
              "      <td>True</td>\n",
              "      <td>False</td>\n",
              "      <td>0</td>\n",
              "      <td>28791</td>\n",
              "      <td>0.22</td>\n",
              "      <td>Asheville</td>\n",
              "      <td>274326</td>\n",
              "      <td>0</td>\n",
              "      <td>5194.80</td>\n",
              "      <td>0.33</td>\n",
              "      <td>Other</td>\n",
              "      <td>0</td>\n",
              "      <td>0.00</td>\n",
              "      <td>18640</td>\n",
              "      <td>617.45</td>\n",
              "      <td>1696</td>\n",
              "      <td>2400</td>\n",
              "      <td>4</td>\n",
              "      <td>3</td>\n",
              "      <td>3</td>\n",
              "      <td>3</td>\n",
              "      <td>3</td>\n",
              "      <td>3</td>\n",
              "      <td>4</td>\n",
              "      <td>3</td>\n",
              "      <td>0</td>\n",
              "      <td>0</td>\n",
              "      <td>1</td>\n",
              "      <td>False</td>\n",
              "      <td>5.00</td>\n",
              "      <td>0</td>\n",
              "      <td>3.57</td>\n",
              "      <td>0</td>\n",
              "    </tr>\n",
              "    <tr>\n",
              "      <th>3</th>\n",
              "      <td>4</td>\n",
              "      <td>10</td>\n",
              "      <td>8</td>\n",
              "      <td>7</td>\n",
              "      <td>10</td>\n",
              "      <td>10</td>\n",
              "      <td>0</td>\n",
              "      <td>0</td>\n",
              "      <td>2</td>\n",
              "      <td>10</td>\n",
              "      <td>0</td>\n",
              "      <td>5</td>\n",
              "      <td>0</td>\n",
              "      <td>0</td>\n",
              "      <td>0</td>\n",
              "      <td>4</td>\n",
              "      <td>0</td>\n",
              "      <td>4.50</td>\n",
              "      <td>4.17</td>\n",
              "      <td>4.51</td>\n",
              "      <td>Tracy</td>\n",
              "      <td>Harris</td>\n",
              "      <td>ghernandez@hotmail.com</td>\n",
              "      <td>F</td>\n",
              "      <td>Unemployed</td>\n",
              "      <td>NaN</td>\n",
              "      <td>0</td>\n",
              "      <td>White</td>\n",
              "      <td>840-40-7627</td>\n",
              "      <td>New Mexico</td>\n",
              "      <td>55</td>\n",
              "      <td>5</td>\n",
              "      <td>0</td>\n",
              "      <td>7500.00</td>\n",
              "      <td>False</td>\n",
              "      <td>5</td>\n",
              "      <td>30</td>\n",
              "      <td>False</td>\n",
              "      <td>False</td>\n",
              "      <td>0</td>\n",
              "      <td>87749</td>\n",
              "      <td>2.12</td>\n",
              "      <td>NaN</td>\n",
              "      <td>147420</td>\n",
              "      <td>0</td>\n",
              "      <td>50166.00</td>\n",
              "      <td>0.18</td>\n",
              "      <td>Rent</td>\n",
              "      <td>0</td>\n",
              "      <td>0.00</td>\n",
              "      <td>22410</td>\n",
              "      <td>431.90</td>\n",
              "      <td>8924</td>\n",
              "      <td>15886</td>\n",
              "      <td>6</td>\n",
              "      <td>11</td>\n",
              "      <td>7</td>\n",
              "      <td>9</td>\n",
              "      <td>6</td>\n",
              "      <td>7</td>\n",
              "      <td>5</td>\n",
              "      <td>6</td>\n",
              "      <td>1</td>\n",
              "      <td>1</td>\n",
              "      <td>1</td>\n",
              "      <td>False</td>\n",
              "      <td>2.45</td>\n",
              "      <td>0</td>\n",
              "      <td>3.61</td>\n",
              "      <td>0</td>\n",
              "    </tr>\n",
              "    <tr>\n",
              "      <th>4</th>\n",
              "      <td>5</td>\n",
              "      <td>8</td>\n",
              "      <td>10</td>\n",
              "      <td>7</td>\n",
              "      <td>8</td>\n",
              "      <td>6</td>\n",
              "      <td>10</td>\n",
              "      <td>0</td>\n",
              "      <td>2</td>\n",
              "      <td>0</td>\n",
              "      <td>10</td>\n",
              "      <td>10</td>\n",
              "      <td>2</td>\n",
              "      <td>0</td>\n",
              "      <td>0</td>\n",
              "      <td>4</td>\n",
              "      <td>10</td>\n",
              "      <td>6.19</td>\n",
              "      <td>6.94</td>\n",
              "      <td>6.58</td>\n",
              "      <td>Ernest</td>\n",
              "      <td>Townsend</td>\n",
              "      <td>danielbaldwin@avery-mccoy.com</td>\n",
              "      <td>M</td>\n",
              "      <td>Unemployed</td>\n",
              "      <td>NaN</td>\n",
              "      <td>0</td>\n",
              "      <td>Asian</td>\n",
              "      <td>892-99-9947</td>\n",
              "      <td>Nevada</td>\n",
              "      <td>47</td>\n",
              "      <td>4</td>\n",
              "      <td>0</td>\n",
              "      <td>20083.33</td>\n",
              "      <td>True</td>\n",
              "      <td>3</td>\n",
              "      <td>43</td>\n",
              "      <td>True</td>\n",
              "      <td>True</td>\n",
              "      <td>2</td>\n",
              "      <td>89107</td>\n",
              "      <td>0.03</td>\n",
              "      <td>Las Vegas-Henderson-Paradise</td>\n",
              "      <td>230192</td>\n",
              "      <td>224593</td>\n",
              "      <td>5562.00</td>\n",
              "      <td>0.05</td>\n",
              "      <td>Own</td>\n",
              "      <td>2</td>\n",
              "      <td>14972.87</td>\n",
              "      <td>22330</td>\n",
              "      <td>503.61</td>\n",
              "      <td>287</td>\n",
              "      <td>672</td>\n",
              "      <td>21</td>\n",
              "      <td>21</td>\n",
              "      <td>15</td>\n",
              "      <td>12</td>\n",
              "      <td>9</td>\n",
              "      <td>19</td>\n",
              "      <td>2</td>\n",
              "      <td>15</td>\n",
              "      <td>0</td>\n",
              "      <td>0</td>\n",
              "      <td>0</td>\n",
              "      <td>False</td>\n",
              "      <td>8.45</td>\n",
              "      <td>1</td>\n",
              "      <td>6.34</td>\n",
              "      <td>0</td>\n",
              "    </tr>\n",
              "    <tr>\n",
              "      <th>...</th>\n",
              "      <td>...</td>\n",
              "      <td>...</td>\n",
              "      <td>...</td>\n",
              "      <td>...</td>\n",
              "      <td>...</td>\n",
              "      <td>...</td>\n",
              "      <td>...</td>\n",
              "      <td>...</td>\n",
              "      <td>...</td>\n",
              "      <td>...</td>\n",
              "      <td>...</td>\n",
              "      <td>...</td>\n",
              "      <td>...</td>\n",
              "      <td>...</td>\n",
              "      <td>...</td>\n",
              "      <td>...</td>\n",
              "      <td>...</td>\n",
              "      <td>...</td>\n",
              "      <td>...</td>\n",
              "      <td>...</td>\n",
              "      <td>...</td>\n",
              "      <td>...</td>\n",
              "      <td>...</td>\n",
              "      <td>...</td>\n",
              "      <td>...</td>\n",
              "      <td>...</td>\n",
              "      <td>...</td>\n",
              "      <td>...</td>\n",
              "      <td>...</td>\n",
              "      <td>...</td>\n",
              "      <td>...</td>\n",
              "      <td>...</td>\n",
              "      <td>...</td>\n",
              "      <td>...</td>\n",
              "      <td>...</td>\n",
              "      <td>...</td>\n",
              "      <td>...</td>\n",
              "      <td>...</td>\n",
              "      <td>...</td>\n",
              "      <td>...</td>\n",
              "      <td>...</td>\n",
              "      <td>...</td>\n",
              "      <td>...</td>\n",
              "      <td>...</td>\n",
              "      <td>...</td>\n",
              "      <td>...</td>\n",
              "      <td>...</td>\n",
              "      <td>...</td>\n",
              "      <td>...</td>\n",
              "      <td>...</td>\n",
              "      <td>...</td>\n",
              "      <td>...</td>\n",
              "      <td>...</td>\n",
              "      <td>...</td>\n",
              "      <td>...</td>\n",
              "      <td>...</td>\n",
              "      <td>...</td>\n",
              "      <td>...</td>\n",
              "      <td>...</td>\n",
              "      <td>...</td>\n",
              "      <td>...</td>\n",
              "      <td>...</td>\n",
              "      <td>...</td>\n",
              "      <td>...</td>\n",
              "      <td>...</td>\n",
              "      <td>...</td>\n",
              "      <td>...</td>\n",
              "      <td>...</td>\n",
              "      <td>...</td>\n",
              "      <td>...</td>\n",
              "    </tr>\n",
              "    <tr>\n",
              "      <th>2999995</th>\n",
              "      <td>2999996</td>\n",
              "      <td>0</td>\n",
              "      <td>6</td>\n",
              "      <td>0</td>\n",
              "      <td>8</td>\n",
              "      <td>10</td>\n",
              "      <td>10</td>\n",
              "      <td>2</td>\n",
              "      <td>10</td>\n",
              "      <td>0</td>\n",
              "      <td>0</td>\n",
              "      <td>5</td>\n",
              "      <td>0</td>\n",
              "      <td>9</td>\n",
              "      <td>10</td>\n",
              "      <td>4</td>\n",
              "      <td>10</td>\n",
              "      <td>5.38</td>\n",
              "      <td>4.83</td>\n",
              "      <td>5.59</td>\n",
              "      <td>Maria</td>\n",
              "      <td>Parker</td>\n",
              "      <td>hopkinsbreanna@yahoo.com</td>\n",
              "      <td>M</td>\n",
              "      <td>Fulltime</td>\n",
              "      <td>First/Mid Level Officials and Manager</td>\n",
              "      <td>28</td>\n",
              "      <td>White</td>\n",
              "      <td>234-08-2840</td>\n",
              "      <td>Connecticut</td>\n",
              "      <td>39</td>\n",
              "      <td>1</td>\n",
              "      <td>30903</td>\n",
              "      <td>4000.00</td>\n",
              "      <td>False</td>\n",
              "      <td>0</td>\n",
              "      <td>61</td>\n",
              "      <td>True</td>\n",
              "      <td>False</td>\n",
              "      <td>0</td>\n",
              "      <td>6111</td>\n",
              "      <td>0.00</td>\n",
              "      <td>Hartford-West Hartford-East Hartford</td>\n",
              "      <td>222588</td>\n",
              "      <td>0</td>\n",
              "      <td>0.00</td>\n",
              "      <td>0.00</td>\n",
              "      <td>Rent</td>\n",
              "      <td>0</td>\n",
              "      <td>0.00</td>\n",
              "      <td>19160</td>\n",
              "      <td>520.76</td>\n",
              "      <td>0</td>\n",
              "      <td>0</td>\n",
              "      <td>0</td>\n",
              "      <td>0</td>\n",
              "      <td>0</td>\n",
              "      <td>0</td>\n",
              "      <td>0</td>\n",
              "      <td>0</td>\n",
              "      <td>0</td>\n",
              "      <td>0</td>\n",
              "      <td>0</td>\n",
              "      <td>0</td>\n",
              "      <td>0</td>\n",
              "      <td>False</td>\n",
              "      <td>6.40</td>\n",
              "      <td>0</td>\n",
              "      <td>5.49</td>\n",
              "      <td>0</td>\n",
              "    </tr>\n",
              "    <tr>\n",
              "      <th>2999996</th>\n",
              "      <td>2999997</td>\n",
              "      <td>0</td>\n",
              "      <td>10</td>\n",
              "      <td>0</td>\n",
              "      <td>2</td>\n",
              "      <td>10</td>\n",
              "      <td>10</td>\n",
              "      <td>0</td>\n",
              "      <td>10</td>\n",
              "      <td>10</td>\n",
              "      <td>10</td>\n",
              "      <td>10</td>\n",
              "      <td>2</td>\n",
              "      <td>5</td>\n",
              "      <td>6</td>\n",
              "      <td>4</td>\n",
              "      <td>10</td>\n",
              "      <td>6.56</td>\n",
              "      <td>5.64</td>\n",
              "      <td>5.80</td>\n",
              "      <td>Maureen</td>\n",
              "      <td>Lopez</td>\n",
              "      <td>powelltara@yahoo.com</td>\n",
              "      <td>F</td>\n",
              "      <td>Fulltime</td>\n",
              "      <td>Service Worker</td>\n",
              "      <td>6</td>\n",
              "      <td>Asian</td>\n",
              "      <td>329-55-4505</td>\n",
              "      <td>Alaska</td>\n",
              "      <td>12</td>\n",
              "      <td>1</td>\n",
              "      <td>24224</td>\n",
              "      <td>2583.33</td>\n",
              "      <td>True</td>\n",
              "      <td>0</td>\n",
              "      <td>50</td>\n",
              "      <td>True</td>\n",
              "      <td>False</td>\n",
              "      <td>0</td>\n",
              "      <td>99701</td>\n",
              "      <td>0.00</td>\n",
              "      <td>Fairbanks</td>\n",
              "      <td>197330</td>\n",
              "      <td>115320</td>\n",
              "      <td>0.00</td>\n",
              "      <td>0.00</td>\n",
              "      <td>Own</td>\n",
              "      <td>7</td>\n",
              "      <td>26908.00</td>\n",
              "      <td>20090</td>\n",
              "      <td>1774.62</td>\n",
              "      <td>0</td>\n",
              "      <td>0</td>\n",
              "      <td>0</td>\n",
              "      <td>0</td>\n",
              "      <td>0</td>\n",
              "      <td>0</td>\n",
              "      <td>0</td>\n",
              "      <td>0</td>\n",
              "      <td>0</td>\n",
              "      <td>0</td>\n",
              "      <td>1</td>\n",
              "      <td>0</td>\n",
              "      <td>0</td>\n",
              "      <td>False</td>\n",
              "      <td>6.90</td>\n",
              "      <td>0</td>\n",
              "      <td>5.94</td>\n",
              "      <td>0</td>\n",
              "    </tr>\n",
              "    <tr>\n",
              "      <th>2999997</th>\n",
              "      <td>2999998</td>\n",
              "      <td>2</td>\n",
              "      <td>8</td>\n",
              "      <td>5</td>\n",
              "      <td>2</td>\n",
              "      <td>10</td>\n",
              "      <td>1</td>\n",
              "      <td>2</td>\n",
              "      <td>10</td>\n",
              "      <td>0</td>\n",
              "      <td>0</td>\n",
              "      <td>5</td>\n",
              "      <td>0</td>\n",
              "      <td>8</td>\n",
              "      <td>6</td>\n",
              "      <td>4</td>\n",
              "      <td>10</td>\n",
              "      <td>4.44</td>\n",
              "      <td>3.88</td>\n",
              "      <td>4.71</td>\n",
              "      <td>Carolyn</td>\n",
              "      <td>Ayala</td>\n",
              "      <td>jenniferburke@hotmail.com</td>\n",
              "      <td>M</td>\n",
              "      <td>Fulltime</td>\n",
              "      <td>Technician</td>\n",
              "      <td>6</td>\n",
              "      <td>Black</td>\n",
              "      <td>601-32-3429</td>\n",
              "      <td>Idaho</td>\n",
              "      <td>12</td>\n",
              "      <td>2</td>\n",
              "      <td>43493</td>\n",
              "      <td>2916.67</td>\n",
              "      <td>False</td>\n",
              "      <td>4</td>\n",
              "      <td>29</td>\n",
              "      <td>True</td>\n",
              "      <td>False</td>\n",
              "      <td>0</td>\n",
              "      <td>83619</td>\n",
              "      <td>0.35</td>\n",
              "      <td>Ontario</td>\n",
              "      <td>230928</td>\n",
              "      <td>0</td>\n",
              "      <td>2203.20</td>\n",
              "      <td>0.39</td>\n",
              "      <td>Rent</td>\n",
              "      <td>0</td>\n",
              "      <td>0.00</td>\n",
              "      <td>19750</td>\n",
              "      <td>1744.58</td>\n",
              "      <td>851</td>\n",
              "      <td>1029</td>\n",
              "      <td>3</td>\n",
              "      <td>4</td>\n",
              "      <td>3</td>\n",
              "      <td>4</td>\n",
              "      <td>2</td>\n",
              "      <td>3</td>\n",
              "      <td>3</td>\n",
              "      <td>3</td>\n",
              "      <td>0</td>\n",
              "      <td>2</td>\n",
              "      <td>1</td>\n",
              "      <td>False</td>\n",
              "      <td>2.70</td>\n",
              "      <td>0</td>\n",
              "      <td>4.30</td>\n",
              "      <td>0</td>\n",
              "    </tr>\n",
              "    <tr>\n",
              "      <th>2999998</th>\n",
              "      <td>2999999</td>\n",
              "      <td>4</td>\n",
              "      <td>10</td>\n",
              "      <td>7</td>\n",
              "      <td>10</td>\n",
              "      <td>8</td>\n",
              "      <td>1</td>\n",
              "      <td>0</td>\n",
              "      <td>2</td>\n",
              "      <td>10</td>\n",
              "      <td>0</td>\n",
              "      <td>5</td>\n",
              "      <td>0</td>\n",
              "      <td>0</td>\n",
              "      <td>0</td>\n",
              "      <td>4</td>\n",
              "      <td>10</td>\n",
              "      <td>4.56</td>\n",
              "      <td>3.72</td>\n",
              "      <td>4.21</td>\n",
              "      <td>William</td>\n",
              "      <td>Rodriguez</td>\n",
              "      <td>haleyhicks@russo.org</td>\n",
              "      <td>F</td>\n",
              "      <td>Unemployed</td>\n",
              "      <td>NaN</td>\n",
              "      <td>0</td>\n",
              "      <td>Native American</td>\n",
              "      <td>747-22-4088</td>\n",
              "      <td>Arkansas</td>\n",
              "      <td>57</td>\n",
              "      <td>3</td>\n",
              "      <td>0</td>\n",
              "      <td>3250.00</td>\n",
              "      <td>False</td>\n",
              "      <td>3</td>\n",
              "      <td>44</td>\n",
              "      <td>True</td>\n",
              "      <td>True</td>\n",
              "      <td>1</td>\n",
              "      <td>71740</td>\n",
              "      <td>0.38</td>\n",
              "      <td>Magnolia</td>\n",
              "      <td>78972</td>\n",
              "      <td>0</td>\n",
              "      <td>4503.60</td>\n",
              "      <td>0.01</td>\n",
              "      <td>Rent</td>\n",
              "      <td>0</td>\n",
              "      <td>0.00</td>\n",
              "      <td>19060</td>\n",
              "      <td>354.45</td>\n",
              "      <td>27</td>\n",
              "      <td>1246</td>\n",
              "      <td>19</td>\n",
              "      <td>14</td>\n",
              "      <td>14</td>\n",
              "      <td>12</td>\n",
              "      <td>8</td>\n",
              "      <td>15</td>\n",
              "      <td>2</td>\n",
              "      <td>14</td>\n",
              "      <td>1</td>\n",
              "      <td>0</td>\n",
              "      <td>0</td>\n",
              "      <td>False</td>\n",
              "      <td>2.50</td>\n",
              "      <td>0</td>\n",
              "      <td>3.74</td>\n",
              "      <td>0</td>\n",
              "    </tr>\n",
              "    <tr>\n",
              "      <th>2999999</th>\n",
              "      <td>3000000</td>\n",
              "      <td>8</td>\n",
              "      <td>8</td>\n",
              "      <td>0</td>\n",
              "      <td>2</td>\n",
              "      <td>0</td>\n",
              "      <td>10</td>\n",
              "      <td>8</td>\n",
              "      <td>10</td>\n",
              "      <td>10</td>\n",
              "      <td>10</td>\n",
              "      <td>10</td>\n",
              "      <td>2</td>\n",
              "      <td>9</td>\n",
              "      <td>6</td>\n",
              "      <td>6</td>\n",
              "      <td>10</td>\n",
              "      <td>6.44</td>\n",
              "      <td>6.30</td>\n",
              "      <td>5.86</td>\n",
              "      <td>Joe</td>\n",
              "      <td>Murray</td>\n",
              "      <td>cassidy80@gmail.com</td>\n",
              "      <td>F</td>\n",
              "      <td>Fulltime</td>\n",
              "      <td>First/Mid Level Officials and Manager</td>\n",
              "      <td>7</td>\n",
              "      <td>Native American</td>\n",
              "      <td>270-77-4408</td>\n",
              "      <td>Wyoming</td>\n",
              "      <td>14</td>\n",
              "      <td>4</td>\n",
              "      <td>107492</td>\n",
              "      <td>3583.33</td>\n",
              "      <td>True</td>\n",
              "      <td>0</td>\n",
              "      <td>31</td>\n",
              "      <td>True</td>\n",
              "      <td>True</td>\n",
              "      <td>4</td>\n",
              "      <td>83111</td>\n",
              "      <td>0.00</td>\n",
              "      <td>NaN</td>\n",
              "      <td>290644</td>\n",
              "      <td>366386</td>\n",
              "      <td>0.00</td>\n",
              "      <td>0.00</td>\n",
              "      <td>Own</td>\n",
              "      <td>4</td>\n",
              "      <td>48851.47</td>\n",
              "      <td>14420</td>\n",
              "      <td>1091.80</td>\n",
              "      <td>0</td>\n",
              "      <td>0</td>\n",
              "      <td>0</td>\n",
              "      <td>0</td>\n",
              "      <td>0</td>\n",
              "      <td>0</td>\n",
              "      <td>0</td>\n",
              "      <td>0</td>\n",
              "      <td>0</td>\n",
              "      <td>0</td>\n",
              "      <td>1</td>\n",
              "      <td>0</td>\n",
              "      <td>2</td>\n",
              "      <td>False</td>\n",
              "      <td>7.30</td>\n",
              "      <td>1</td>\n",
              "      <td>7.02</td>\n",
              "      <td>1</td>\n",
              "    </tr>\n",
              "  </tbody>\n",
              "</table>\n",
              "<p>3000000 rows × 70 columns</p>\n",
              "</div>"
            ],
            "text/plain": [
              "              id  ed_rank  age_rank  credit_util_rank  loan_length_rank  \\\n",
              "0              1        2         8                 7                 8   \n",
              "1              2        8         6                10                 4   \n",
              "2              3        4         8                 5                 6   \n",
              "3              4       10         8                 7                10   \n",
              "4              5        8        10                 7                 8   \n",
              "...          ...      ...       ...               ...               ...   \n",
              "2999995  2999996        0         6                 0                 8   \n",
              "2999996  2999997        0        10                 0                 2   \n",
              "2999997  2999998        2         8                 5                 2   \n",
              "2999998  2999999        4        10                 7                10   \n",
              "2999999  3000000        8         8                 0                 2   \n",
              "\n",
              "         children_rank  debt_inc_rank  annual_inc_rank  emp_status_rank  \\\n",
              "0                   10              0                2               10   \n",
              "1                    8             10                2                4   \n",
              "2                   10              5                0                0   \n",
              "3                   10              0                0                2   \n",
              "4                    6             10                0                2   \n",
              "...                ...            ...              ...              ...   \n",
              "2999995             10             10                2               10   \n",
              "2999996             10             10                0               10   \n",
              "2999997             10              1                2               10   \n",
              "2999998              8              1                0                2   \n",
              "2999999              0             10                8               10   \n",
              "\n",
              "         gender_rank  home_equity_rank  home_ownership_rank  home_value_rank  \\\n",
              "0                 10                 0                    5                0   \n",
              "1                  0                10                   10                2   \n",
              "2                  0                 0                    0                0   \n",
              "3                 10                 0                    5                0   \n",
              "4                  0                10                   10                2   \n",
              "...              ...               ...                  ...              ...   \n",
              "2999995            0                 0                    5                0   \n",
              "2999996           10                10                   10                2   \n",
              "2999997            0                 0                    5                0   \n",
              "2999998           10                 0                    5                0   \n",
              "2999999           10                10                   10                2   \n",
              "\n",
              "         job_title_rank  empl_length_rank  loan_amount_rank  married_rank  \\\n",
              "0                     9                 6                 4             0   \n",
              "1                     9                 8                 4            10   \n",
              "2                     0                 0                 4            10   \n",
              "3                     0                 0                 4             0   \n",
              "4                     0                 0                 4            10   \n",
              "...                 ...               ...               ...           ...   \n",
              "2999995               9                10                 4            10   \n",
              "2999996               5                 6                 4            10   \n",
              "2999997               8                 6                 4            10   \n",
              "2999998               0                 0                 4            10   \n",
              "2999999               9                 6                 6            10   \n",
              "\n",
              "         final_score_weight1  final_score_weight2  final_score_weight3  \\\n",
              "0                       5.62                 5.07                 6.02   \n",
              "1                       7.38                 8.12                 7.81   \n",
              "2                       4.00                 4.01                 4.66   \n",
              "3                       4.50                 4.17                 4.51   \n",
              "4                       6.19                 6.94                 6.58   \n",
              "...                      ...                  ...                  ...   \n",
              "2999995                 5.38                 4.83                 5.59   \n",
              "2999996                 6.56                 5.64                 5.80   \n",
              "2999997                 4.44                 3.88                 4.71   \n",
              "2999998                 4.56                 3.72                 4.21   \n",
              "2999999                 6.44                 6.30                 5.86   \n",
              "\n",
              "        first_name  last_name                          email gender  \\\n",
              "0             Lisa    Jackson      fnielsen@owens-martin.com      F   \n",
              "1           Daniel     Hughes           robinjohns@yahoo.com      M   \n",
              "2        Katherine     Arnold            wrightana@yahoo.com      M   \n",
              "3            Tracy     Harris         ghernandez@hotmail.com      F   \n",
              "4           Ernest   Townsend  danielbaldwin@avery-mccoy.com      M   \n",
              "...            ...        ...                            ...    ...   \n",
              "2999995      Maria     Parker       hopkinsbreanna@yahoo.com      M   \n",
              "2999996    Maureen      Lopez           powelltara@yahoo.com      F   \n",
              "2999997    Carolyn      Ayala      jenniferburke@hotmail.com      M   \n",
              "2999998    William  Rodriguez           haleyhicks@russo.org      F   \n",
              "2999999        Joe     Murray            cassidy80@gmail.com      F   \n",
              "\n",
              "         emp_status                              job_title  empl_length  \\\n",
              "0          Fulltime  First/Mid Level Officials and Manager            6   \n",
              "1          Parttime                           Professional           19   \n",
              "2           Student                                    NaN            0   \n",
              "3        Unemployed                                    NaN            0   \n",
              "4        Unemployed                                    NaN            0   \n",
              "...             ...                                    ...          ...   \n",
              "2999995    Fulltime  First/Mid Level Officials and Manager           28   \n",
              "2999996    Fulltime                         Service Worker            6   \n",
              "2999997    Fulltime                             Technician            6   \n",
              "2999998  Unemployed                                    NaN            0   \n",
              "2999999    Fulltime  First/Mid Level Officials and Manager            7   \n",
              "\n",
              "                    race          ssn           State  Loan Length  ed_level  \\\n",
              "0                  Other  097-71-7287          Alaska           47         2   \n",
              "1                  Asian  158-82-3598      New Jersey           22         4   \n",
              "2                  Asian  568-37-8039  North Carolina           32         3   \n",
              "3                  White  840-40-7627      New Mexico           55         5   \n",
              "4                  Asian  892-99-9947          Nevada           47         4   \n",
              "...                  ...          ...             ...          ...       ...   \n",
              "2999995            White  234-08-2840     Connecticut           39         1   \n",
              "2999996            Asian  329-55-4505          Alaska           12         1   \n",
              "2999997            Black  601-32-3429           Idaho           12         2   \n",
              "2999998  Native American  747-22-4088        Arkansas           57         3   \n",
              "2999999  Native American  270-77-4408         Wyoming           14         4   \n",
              "\n",
              "         annual_inc  Monthly Income  home_ownership  open_credit_lines  age  \\\n",
              "0             41001        15750.00           False                  4   29   \n",
              "1             38903        15250.00            True                  5   61   \n",
              "2                 0        10916.67           False                  4   29   \n",
              "3                 0         7500.00           False                  5   30   \n",
              "4                 0        20083.33            True                  3   43   \n",
              "...             ...             ...             ...                ...  ...   \n",
              "2999995       30903         4000.00           False                  0   61   \n",
              "2999996       24224         2583.33            True                  0   50   \n",
              "2999997       43493         2916.67           False                  4   29   \n",
              "2999998           0         3250.00           False                  3   44   \n",
              "2999999      107492         3583.33            True                  0   31   \n",
              "\n",
              "         married  children  Children Amount  Zip Code  Debt/Income Ratio  \\\n",
              "0          False     False                0     99688               0.61   \n",
              "1           True      True                1      7980               0.10   \n",
              "2           True     False                0     28791               0.22   \n",
              "3          False     False                0     87749               2.12   \n",
              "4           True      True                2     89107               0.03   \n",
              "...          ...       ...              ...       ...                ...   \n",
              "2999995     True     False                0      6111               0.00   \n",
              "2999996     True     False                0     99701               0.00   \n",
              "2999997     True     False                0     83619               0.35   \n",
              "2999998     True      True                1     71740               0.38   \n",
              "2999999     True      True                4     83111               0.00   \n",
              "\n",
              "                                        Metro  Median Zipcode Price  \\\n",
              "0                                   Anchorage                174354   \n",
              "1                 New York-Newark-Jersey City                472328   \n",
              "2                                   Asheville                274326   \n",
              "3                                         NaN                147420   \n",
              "4                Las Vegas-Henderson-Paradise                230192   \n",
              "...                                       ...                   ...   \n",
              "2999995  Hartford-West Hartford-East Hartford                222588   \n",
              "2999996                             Fairbanks                197330   \n",
              "2999997                               Ontario                230928   \n",
              "2999998                              Magnolia                 78972   \n",
              "2999999                                   NaN                290644   \n",
              "\n",
              "         Home_Value  Total Credit Limit  Credit Utilization Home Ownership  \\\n",
              "0                 0            38718.00                0.17           Rent   \n",
              "1            363093            28953.00                0.03            Own   \n",
              "2                 0             5194.80                0.33          Other   \n",
              "3                 0            50166.00                0.18           Rent   \n",
              "4            224593             5562.00                0.05            Own   \n",
              "...             ...                 ...                 ...            ...   \n",
              "2999995           0                0.00                0.00           Rent   \n",
              "2999996      115320                0.00                0.00            Own   \n",
              "2999997           0             2203.20                0.39           Rent   \n",
              "2999998           0             4503.60                0.01           Rent   \n",
              "2999999      366386                0.00                0.00            Own   \n",
              "\n",
              "         Years Home Owned  Home Equity  Loan_Amount  \\\n",
              "0                       0         0.00        17950   \n",
              "1                       5     60515.50        21530   \n",
              "2                       0         0.00        18640   \n",
              "3                       0         0.00        22410   \n",
              "4                       2     14972.87        22330   \n",
              "...                   ...          ...          ...   \n",
              "2999995                 0         0.00        19160   \n",
              "2999996                 7     26908.00        20090   \n",
              "2999997                 0         0.00        19750   \n",
              "2999998                 0         0.00        19060   \n",
              "2999999                 4     48851.47        14420   \n",
              "\n",
              "         New Loan Monthly Cost Best Case  Total Credit Balance  Monthly Debt  \\\n",
              "0                                 404.83                  6773          9616   \n",
              "1                                1037.35                   801          1521   \n",
              "2                                 617.45                  1696          2400   \n",
              "3                                 431.90                  8924         15886   \n",
              "4                                 503.61                   287           672   \n",
              "...                                  ...                   ...           ...   \n",
              "2999995                           520.76                     0             0   \n",
              "2999996                          1774.62                     0             0   \n",
              "2999997                          1744.58                   851          1029   \n",
              "2999998                           354.45                    27          1246   \n",
              "2999999                          1091.80                     0             0   \n",
              "\n",
              "         Credit Line 1 age  Credit Line 2 age  Credit Line 3 age  \\\n",
              "0                        4                  4                  2   \n",
              "1                       39                 25                 24   \n",
              "2                        4                  3                  3   \n",
              "3                        6                 11                  7   \n",
              "4                       21                 21                 15   \n",
              "...                    ...                ...                ...   \n",
              "2999995                  0                  0                  0   \n",
              "2999996                  0                  0                  0   \n",
              "2999997                  3                  4                  3   \n",
              "2999998                 19                 14                 14   \n",
              "2999999                  0                  0                  0   \n",
              "\n",
              "         Credit Line 4 age  Credit Line 5 age  \\\n",
              "0                        4                  4   \n",
              "1                       25                 28   \n",
              "2                        3                  3   \n",
              "3                        9                  6   \n",
              "4                       12                  9   \n",
              "...                    ...                ...   \n",
              "2999995                  0                  0   \n",
              "2999996                  0                  0   \n",
              "2999997                  4                  2   \n",
              "2999998                 12                  8   \n",
              "2999999                  0                  0   \n",
              "\n",
              "         Length of Credit History (avg credit lifespan in yrs)  \\\n",
              "0                                                            3   \n",
              "1                                                           28   \n",
              "2                                                            3   \n",
              "3                                                            7   \n",
              "4                                                           19   \n",
              "...                                                        ...   \n",
              "2999995                                                      0   \n",
              "2999996                                                      0   \n",
              "2999997                                                      3   \n",
              "2999998                                                     15   \n",
              "2999999                                                      0   \n",
              "\n",
              "         Credit Mix (# of types of credit)  \\\n",
              "0                                        4   \n",
              "1                                        5   \n",
              "2                                        4   \n",
              "3                                        5   \n",
              "4                                        2   \n",
              "...                                    ...   \n",
              "2999995                                  0   \n",
              "2999996                                  0   \n",
              "2999997                                  3   \n",
              "2999998                                  2   \n",
              "2999999                                  0   \n",
              "\n",
              "         Recent Activity - Time since newest acct  \\\n",
              "0                                               2   \n",
              "1                                              24   \n",
              "2                                               3   \n",
              "3                                               6   \n",
              "4                                              15   \n",
              "...                                           ...   \n",
              "2999995                                         0   \n",
              "2999996                                         0   \n",
              "2999997                                         3   \n",
              "2999998                                        14   \n",
              "2999999                                         0   \n",
              "\n",
              "         Recent Activity - # accts applied in last year  \\\n",
              "0                                                     0   \n",
              "1                                                     2   \n",
              "2                                                     0   \n",
              "3                                                     1   \n",
              "4                                                     0   \n",
              "...                                                 ...   \n",
              "2999995                                               0   \n",
              "2999996                                               1   \n",
              "2999997                                               0   \n",
              "2999998                                               1   \n",
              "2999999                                               1   \n",
              "\n",
              "         Payment History - # payments currently past due  \\\n",
              "0                                                      0   \n",
              "1                                                      0   \n",
              "2                                                      0   \n",
              "3                                                      1   \n",
              "4                                                      0   \n",
              "...                                                  ...   \n",
              "2999995                                                0   \n",
              "2999996                                                0   \n",
              "2999997                                                2   \n",
              "2999998                                                0   \n",
              "2999999                                                0   \n",
              "\n",
              "         Payment History - # yrs ago last payment missed  \\\n",
              "0                                                      1   \n",
              "1                                                      4   \n",
              "2                                                      1   \n",
              "3                                                      1   \n",
              "4                                                      0   \n",
              "...                                                  ...   \n",
              "2999995                                                0   \n",
              "2999996                                                0   \n",
              "2999997                                                1   \n",
              "2999998                                                0   \n",
              "2999999                                                2   \n",
              "\n",
              "         Payment History -  Bankruptcy/Reposession/Acct_in_Collection in past  \\\n",
              "0                                                                       False   \n",
              "1                                                                       False   \n",
              "2                                                                       False   \n",
              "3                                                                       False   \n",
              "4                                                                       False   \n",
              "...                                                                       ...   \n",
              "2999995                                                                 False   \n",
              "2999996                                                                 False   \n",
              "2999997                                                                 False   \n",
              "2999998                                                                 False   \n",
              "2999999                                                                 False   \n",
              "\n",
              "         Acceptance Score  Final Decision  Acceptance Score 2  \\\n",
              "0                    2.90               0                4.05   \n",
              "1                    8.55               1                7.32   \n",
              "2                    5.00               0                3.57   \n",
              "3                    2.45               0                3.61   \n",
              "4                    8.45               1                6.34   \n",
              "...                   ...             ...                 ...   \n",
              "2999995              6.40               0                5.49   \n",
              "2999996              6.90               0                5.94   \n",
              "2999997              2.70               0                4.30   \n",
              "2999998              2.50               0                3.74   \n",
              "2999999              7.30               1                7.02   \n",
              "\n",
              "         Final Decision 2  \n",
              "0                       0  \n",
              "1                       1  \n",
              "2                       0  \n",
              "3                       0  \n",
              "4                       0  \n",
              "...                   ...  \n",
              "2999995                 0  \n",
              "2999996                 0  \n",
              "2999997                 0  \n",
              "2999998                 0  \n",
              "2999999                 1  \n",
              "\n",
              "[3000000 rows x 70 columns]"
            ]
          },
          "metadata": {
            "tags": []
          },
          "execution_count": 123
        }
      ]
    },
    {
      "cell_type": "code",
      "metadata": {
        "id": "BtiRnD0YwPOE",
        "colab_type": "code",
        "colab": {}
      },
      "source": [
        "X = X.drop(['ed_rank',\n",
        " 'age_rank',\n",
        " 'credit_util_rank',\n",
        " 'loan_length_rank',\n",
        " 'children_rank',\n",
        " 'debt_inc_rank',\n",
        " 'annual_inc_rank',\n",
        " 'emp_status_rank',\n",
        " 'gender_rank',\n",
        " 'home_equity_rank',\n",
        " 'home_ownership_rank',\n",
        " 'home_value_rank',\n",
        " 'job_title_rank',\n",
        " 'empl_length_rank',\n",
        " 'loan_amount_rank',\n",
        " 'married_rank',\n",
        " 'final_score_weight1',\n",
        " 'final_score_weight2',\n",
        " 'final_score_weight3',\n",
        " 'first_name',\n",
        " 'last_name',\n",
        " 'email', 'Credit Line 1 age',\n",
        " 'Credit Line 2 age',\n",
        " 'Credit Line 3 age',\n",
        " 'Credit Line 4 age',\n",
        " 'Credit Line 5 age'],axis=1)"
      ],
      "execution_count": 0,
      "outputs": []
    },
    {
      "cell_type": "code",
      "metadata": {
        "id": "szhKXf780kip",
        "colab_type": "code",
        "colab": {}
      },
      "source": [
        "li = [] \n",
        "for i in X.columns:\n",
        "  li.append(i)"
      ],
      "execution_count": 0,
      "outputs": []
    },
    {
      "cell_type": "code",
      "metadata": {
        "id": "BIas_xDC0rwe",
        "colab_type": "code",
        "outputId": "35540ca9-32be-4837-ec75-f96a6df8bbae",
        "colab": {
          "base_uri": "https://localhost:8080/",
          "height": 716
        }
      },
      "source": [
        "li"
      ],
      "execution_count": 126,
      "outputs": [
        {
          "output_type": "execute_result",
          "data": {
            "text/plain": [
              "['id',\n",
              " 'gender',\n",
              " 'emp_status',\n",
              " 'job_title',\n",
              " 'empl_length',\n",
              " 'race',\n",
              " 'ssn',\n",
              " 'State',\n",
              " 'Loan Length',\n",
              " 'ed_level',\n",
              " 'annual_inc',\n",
              " 'Monthly Income',\n",
              " 'home_ownership',\n",
              " 'open_credit_lines',\n",
              " 'age',\n",
              " 'married',\n",
              " 'children',\n",
              " 'Children Amount',\n",
              " 'Zip Code',\n",
              " 'Debt/Income Ratio',\n",
              " 'Metro',\n",
              " 'Median Zipcode Price',\n",
              " 'Home_Value',\n",
              " 'Total Credit Limit',\n",
              " 'Credit Utilization',\n",
              " 'Home Ownership',\n",
              " 'Years Home Owned',\n",
              " 'Home Equity',\n",
              " 'Loan_Amount',\n",
              " 'New Loan Monthly Cost Best Case',\n",
              " 'Total Credit Balance',\n",
              " 'Monthly Debt',\n",
              " 'Length of Credit History (avg credit lifespan in yrs)',\n",
              " 'Credit Mix (# of types of credit)',\n",
              " 'Recent Activity - Time since newest acct',\n",
              " 'Recent Activity - # accts applied in last year',\n",
              " 'Payment History - # payments currently past due',\n",
              " 'Payment History - # yrs ago last payment missed',\n",
              " 'Payment History -  Bankruptcy/Reposession/Acct_in_Collection in past',\n",
              " 'Acceptance Score',\n",
              " 'Final Decision',\n",
              " 'Acceptance Score 2',\n",
              " 'Final Decision 2']"
            ]
          },
          "metadata": {
            "tags": []
          },
          "execution_count": 126
        }
      ]
    },
    {
      "cell_type": "code",
      "metadata": {
        "id": "z0HLo39n0s1V",
        "colab_type": "code",
        "colab": {}
      },
      "source": [
        "k = ['emp_status','gender','job_title','home_ownership','married','children','Home Ownership']\n",
        "x = pd.concat([pd.get_dummies(X[col]) for col in k], axis=1, keys=k)"
      ],
      "execution_count": 0,
      "outputs": []
    },
    {
      "cell_type": "code",
      "metadata": {
        "id": "gluX61Qi4QbR",
        "colab_type": "code",
        "colab": {}
      },
      "source": [
        "everything = pd.concat([X,x], axis=1)"
      ],
      "execution_count": 0,
      "outputs": []
    },
    {
      "cell_type": "code",
      "metadata": {
        "id": "rBCesrQT4671",
        "colab_type": "code",
        "colab": {}
      },
      "source": [
        "k = ['emp_status','gender','job_title','home_ownership','married','children','Children Amount','Home Ownership']\n",
        "for i in k:\n",
        "  everything = everything.drop(i,axis=1)"
      ],
      "execution_count": 0,
      "outputs": []
    },
    {
      "cell_type": "code",
      "metadata": {
        "id": "ApClJSoo6KKM",
        "colab_type": "code",
        "outputId": "252024f3-8aba-4f06-fb82-1cf2938d7417",
        "colab": {
          "base_uri": "https://localhost:8080/",
          "height": 411
        }
      },
      "source": [
        "everything.describe()"
      ],
      "execution_count": 130,
      "outputs": [
        {
          "output_type": "execute_result",
          "data": {
            "text/html": [
              "<div>\n",
              "<style scoped>\n",
              "    .dataframe tbody tr th:only-of-type {\n",
              "        vertical-align: middle;\n",
              "    }\n",
              "\n",
              "    .dataframe tbody tr th {\n",
              "        vertical-align: top;\n",
              "    }\n",
              "\n",
              "    .dataframe thead th {\n",
              "        text-align: right;\n",
              "    }\n",
              "</style>\n",
              "<table border=\"1\" class=\"dataframe\">\n",
              "  <thead>\n",
              "    <tr style=\"text-align: right;\">\n",
              "      <th></th>\n",
              "      <th>id</th>\n",
              "      <th>empl_length</th>\n",
              "      <th>Loan Length</th>\n",
              "      <th>ed_level</th>\n",
              "      <th>annual_inc</th>\n",
              "      <th>Monthly Income</th>\n",
              "      <th>open_credit_lines</th>\n",
              "      <th>age</th>\n",
              "      <th>Zip Code</th>\n",
              "      <th>Debt/Income Ratio</th>\n",
              "      <th>Median Zipcode Price</th>\n",
              "      <th>Home_Value</th>\n",
              "      <th>Total Credit Limit</th>\n",
              "      <th>Credit Utilization</th>\n",
              "      <th>Years Home Owned</th>\n",
              "      <th>Home Equity</th>\n",
              "      <th>Loan_Amount</th>\n",
              "      <th>New Loan Monthly Cost Best Case</th>\n",
              "      <th>Total Credit Balance</th>\n",
              "      <th>Monthly Debt</th>\n",
              "      <th>Length of Credit History (avg credit lifespan in yrs)</th>\n",
              "      <th>Credit Mix (# of types of credit)</th>\n",
              "      <th>Recent Activity - Time since newest acct</th>\n",
              "      <th>Recent Activity - # accts applied in last year</th>\n",
              "      <th>Payment History - # payments currently past due</th>\n",
              "      <th>Payment History - # yrs ago last payment missed</th>\n",
              "      <th>Acceptance Score</th>\n",
              "      <th>Final Decision</th>\n",
              "      <th>Acceptance Score 2</th>\n",
              "      <th>Final Decision 2</th>\n",
              "      <th>(emp_status, Fulltime)</th>\n",
              "      <th>(emp_status, Parttime)</th>\n",
              "      <th>(emp_status, Student)</th>\n",
              "      <th>(emp_status, Unemployed)</th>\n",
              "      <th>(gender, F)</th>\n",
              "      <th>(gender, M)</th>\n",
              "      <th>(job_title, Administrative Support Worker)</th>\n",
              "      <th>(job_title, Craft Worker)</th>\n",
              "      <th>(job_title, Executive/Senior Level Officials and Manager)</th>\n",
              "      <th>(job_title, First/Mid Level Officials and Manager)</th>\n",
              "      <th>(job_title, Laborers and Helper)</th>\n",
              "      <th>(job_title, Operative)</th>\n",
              "      <th>(job_title, Professional)</th>\n",
              "      <th>(job_title, Sales Worker)</th>\n",
              "      <th>(job_title, Service Worker)</th>\n",
              "      <th>(job_title, Technician)</th>\n",
              "      <th>(home_ownership, False)</th>\n",
              "      <th>(home_ownership, True)</th>\n",
              "      <th>(married, False)</th>\n",
              "      <th>(married, True)</th>\n",
              "      <th>(children, False)</th>\n",
              "      <th>(children, True)</th>\n",
              "      <th>(Home Ownership, Other)</th>\n",
              "      <th>(Home Ownership, Own)</th>\n",
              "      <th>(Home Ownership, Rent)</th>\n",
              "    </tr>\n",
              "  </thead>\n",
              "  <tbody>\n",
              "    <tr>\n",
              "      <th>count</th>\n",
              "      <td>3000000.00</td>\n",
              "      <td>3000000.00</td>\n",
              "      <td>3000000.00</td>\n",
              "      <td>3000000.00</td>\n",
              "      <td>3000000.00</td>\n",
              "      <td>3000000.00</td>\n",
              "      <td>3000000.00</td>\n",
              "      <td>3000000.00</td>\n",
              "      <td>3000000.00</td>\n",
              "      <td>3000000.00</td>\n",
              "      <td>3000000.00</td>\n",
              "      <td>3000000.00</td>\n",
              "      <td>3000000.00</td>\n",
              "      <td>3000000.00</td>\n",
              "      <td>3000000.00</td>\n",
              "      <td>3000000.00</td>\n",
              "      <td>3000000.00</td>\n",
              "      <td>3000000.00</td>\n",
              "      <td>3000000.00</td>\n",
              "      <td>3000000.00</td>\n",
              "      <td>3000000.00</td>\n",
              "      <td>3000000.00</td>\n",
              "      <td>3000000.00</td>\n",
              "      <td>3000000.00</td>\n",
              "      <td>3000000.00</td>\n",
              "      <td>3000000.00</td>\n",
              "      <td>3000000.00</td>\n",
              "      <td>3000000.00</td>\n",
              "      <td>3000000.00</td>\n",
              "      <td>3000000.00</td>\n",
              "      <td>3000000.00</td>\n",
              "      <td>3000000.00</td>\n",
              "      <td>3000000.00</td>\n",
              "      <td>3000000.00</td>\n",
              "      <td>3000000.00</td>\n",
              "      <td>3000000.00</td>\n",
              "      <td>3000000.00</td>\n",
              "      <td>3000000.00</td>\n",
              "      <td>3000000.00</td>\n",
              "      <td>3000000.00</td>\n",
              "      <td>3000000.00</td>\n",
              "      <td>3000000.00</td>\n",
              "      <td>3000000.00</td>\n",
              "      <td>3000000.00</td>\n",
              "      <td>3000000.00</td>\n",
              "      <td>3000000.00</td>\n",
              "      <td>3000000.00</td>\n",
              "      <td>3000000.00</td>\n",
              "      <td>3000000.00</td>\n",
              "      <td>3000000.00</td>\n",
              "      <td>3000000.00</td>\n",
              "      <td>3000000.00</td>\n",
              "      <td>3000000.00</td>\n",
              "      <td>3000000.00</td>\n",
              "      <td>3000000.00</td>\n",
              "    </tr>\n",
              "    <tr>\n",
              "      <th>mean</th>\n",
              "      <td>1500000.50</td>\n",
              "      <td>8.14</td>\n",
              "      <td>32.27</td>\n",
              "      <td>3.00</td>\n",
              "      <td>63657.04</td>\n",
              "      <td>6806.33</td>\n",
              "      <td>2.50</td>\n",
              "      <td>44.51</td>\n",
              "      <td>50535.96</td>\n",
              "      <td>0.32</td>\n",
              "      <td>236196.47</td>\n",
              "      <td>101150.13</td>\n",
              "      <td>8619.79</td>\n",
              "      <td>0.10</td>\n",
              "      <td>2.96</td>\n",
              "      <td>23304.35</td>\n",
              "      <td>21001.61</td>\n",
              "      <td>924.98</td>\n",
              "      <td>1067.43</td>\n",
              "      <td>2154.38</td>\n",
              "      <td>12.00</td>\n",
              "      <td>1.83</td>\n",
              "      <td>9.65</td>\n",
              "      <td>0.54</td>\n",
              "      <td>0.47</td>\n",
              "      <td>1.24</td>\n",
              "      <td>5.37</td>\n",
              "      <td>0.25</td>\n",
              "      <td>5.35</td>\n",
              "      <td>0.10</td>\n",
              "      <td>0.77</td>\n",
              "      <td>0.10</td>\n",
              "      <td>0.04</td>\n",
              "      <td>0.10</td>\n",
              "      <td>0.50</td>\n",
              "      <td>0.50</td>\n",
              "      <td>0.06</td>\n",
              "      <td>0.07</td>\n",
              "      <td>0.05</td>\n",
              "      <td>0.07</td>\n",
              "      <td>0.07</td>\n",
              "      <td>0.06</td>\n",
              "      <td>0.06</td>\n",
              "      <td>0.07</td>\n",
              "      <td>0.06</td>\n",
              "      <td>0.07</td>\n",
              "      <td>0.50</td>\n",
              "      <td>0.50</td>\n",
              "      <td>0.50</td>\n",
              "      <td>0.50</td>\n",
              "      <td>0.50</td>\n",
              "      <td>0.50</td>\n",
              "      <td>0.07</td>\n",
              "      <td>0.43</td>\n",
              "      <td>0.50</td>\n",
              "    </tr>\n",
              "    <tr>\n",
              "      <th>std</th>\n",
              "      <td>866025.55</td>\n",
              "      <td>8.11</td>\n",
              "      <td>15.63</td>\n",
              "      <td>1.41</td>\n",
              "      <td>56387.77</td>\n",
              "      <td>4676.67</td>\n",
              "      <td>1.71</td>\n",
              "      <td>12.12</td>\n",
              "      <td>30190.10</td>\n",
              "      <td>0.50</td>\n",
              "      <td>199968.74</td>\n",
              "      <td>184849.63</td>\n",
              "      <td>14526.69</td>\n",
              "      <td>0.11</td>\n",
              "      <td>4.58</td>\n",
              "      <td>53736.77</td>\n",
              "      <td>4999.91</td>\n",
              "      <td>586.41</td>\n",
              "      <td>2584.81</td>\n",
              "      <td>4384.10</td>\n",
              "      <td>9.78</td>\n",
              "      <td>1.36</td>\n",
              "      <td>8.44</td>\n",
              "      <td>0.73</td>\n",
              "      <td>0.94</td>\n",
              "      <td>2.06</td>\n",
              "      <td>2.03</td>\n",
              "      <td>0.43</td>\n",
              "      <td>1.24</td>\n",
              "      <td>0.29</td>\n",
              "      <td>0.42</td>\n",
              "      <td>0.29</td>\n",
              "      <td>0.19</td>\n",
              "      <td>0.29</td>\n",
              "      <td>0.50</td>\n",
              "      <td>0.50</td>\n",
              "      <td>0.25</td>\n",
              "      <td>0.25</td>\n",
              "      <td>0.23</td>\n",
              "      <td>0.25</td>\n",
              "      <td>0.25</td>\n",
              "      <td>0.25</td>\n",
              "      <td>0.25</td>\n",
              "      <td>0.25</td>\n",
              "      <td>0.25</td>\n",
              "      <td>0.25</td>\n",
              "      <td>0.50</td>\n",
              "      <td>0.50</td>\n",
              "      <td>0.50</td>\n",
              "      <td>0.50</td>\n",
              "      <td>0.50</td>\n",
              "      <td>0.50</td>\n",
              "      <td>0.26</td>\n",
              "      <td>0.49</td>\n",
              "      <td>0.50</td>\n",
              "    </tr>\n",
              "    <tr>\n",
              "      <th>min</th>\n",
              "      <td>1.00</td>\n",
              "      <td>0.00</td>\n",
              "      <td>12.00</td>\n",
              "      <td>1.00</td>\n",
              "      <td>0.00</td>\n",
              "      <td>2083.33</td>\n",
              "      <td>0.00</td>\n",
              "      <td>24.00</td>\n",
              "      <td>501.00</td>\n",
              "      <td>0.00</td>\n",
              "      <td>11266.00</td>\n",
              "      <td>0.00</td>\n",
              "      <td>0.00</td>\n",
              "      <td>0.00</td>\n",
              "      <td>0.00</td>\n",
              "      <td>0.00</td>\n",
              "      <td>1020.00</td>\n",
              "      <td>18.37</td>\n",
              "      <td>0.00</td>\n",
              "      <td>0.00</td>\n",
              "      <td>0.00</td>\n",
              "      <td>0.00</td>\n",
              "      <td>0.00</td>\n",
              "      <td>0.00</td>\n",
              "      <td>0.00</td>\n",
              "      <td>0.00</td>\n",
              "      <td>0.85</td>\n",
              "      <td>0.00</td>\n",
              "      <td>0.86</td>\n",
              "      <td>0.00</td>\n",
              "      <td>0.00</td>\n",
              "      <td>0.00</td>\n",
              "      <td>0.00</td>\n",
              "      <td>0.00</td>\n",
              "      <td>0.00</td>\n",
              "      <td>0.00</td>\n",
              "      <td>0.00</td>\n",
              "      <td>0.00</td>\n",
              "      <td>0.00</td>\n",
              "      <td>0.00</td>\n",
              "      <td>0.00</td>\n",
              "      <td>0.00</td>\n",
              "      <td>0.00</td>\n",
              "      <td>0.00</td>\n",
              "      <td>0.00</td>\n",
              "      <td>0.00</td>\n",
              "      <td>0.00</td>\n",
              "      <td>0.00</td>\n",
              "      <td>0.00</td>\n",
              "      <td>0.00</td>\n",
              "      <td>0.00</td>\n",
              "      <td>0.00</td>\n",
              "      <td>0.00</td>\n",
              "      <td>0.00</td>\n",
              "      <td>0.00</td>\n",
              "    </tr>\n",
              "    <tr>\n",
              "      <th>25%</th>\n",
              "      <td>750000.75</td>\n",
              "      <td>0.00</td>\n",
              "      <td>17.00</td>\n",
              "      <td>2.00</td>\n",
              "      <td>28501.00</td>\n",
              "      <td>3666.67</td>\n",
              "      <td>1.00</td>\n",
              "      <td>34.00</td>\n",
              "      <td>25311.00</td>\n",
              "      <td>0.01</td>\n",
              "      <td>116598.00</td>\n",
              "      <td>0.00</td>\n",
              "      <td>477.00</td>\n",
              "      <td>0.01</td>\n",
              "      <td>0.00</td>\n",
              "      <td>0.00</td>\n",
              "      <td>17630.00</td>\n",
              "      <td>478.22</td>\n",
              "      <td>15.00</td>\n",
              "      <td>59.00</td>\n",
              "      <td>3.00</td>\n",
              "      <td>1.00</td>\n",
              "      <td>2.00</td>\n",
              "      <td>0.00</td>\n",
              "      <td>0.00</td>\n",
              "      <td>0.00</td>\n",
              "      <td>3.20</td>\n",
              "      <td>0.00</td>\n",
              "      <td>4.49</td>\n",
              "      <td>0.00</td>\n",
              "      <td>1.00</td>\n",
              "      <td>0.00</td>\n",
              "      <td>0.00</td>\n",
              "      <td>0.00</td>\n",
              "      <td>0.00</td>\n",
              "      <td>0.00</td>\n",
              "      <td>0.00</td>\n",
              "      <td>0.00</td>\n",
              "      <td>0.00</td>\n",
              "      <td>0.00</td>\n",
              "      <td>0.00</td>\n",
              "      <td>0.00</td>\n",
              "      <td>0.00</td>\n",
              "      <td>0.00</td>\n",
              "      <td>0.00</td>\n",
              "      <td>0.00</td>\n",
              "      <td>0.00</td>\n",
              "      <td>0.00</td>\n",
              "      <td>0.00</td>\n",
              "      <td>0.00</td>\n",
              "      <td>0.00</td>\n",
              "      <td>0.00</td>\n",
              "      <td>0.00</td>\n",
              "      <td>0.00</td>\n",
              "      <td>0.00</td>\n",
              "    </tr>\n",
              "    <tr>\n",
              "      <th>50%</th>\n",
              "      <td>1500000.50</td>\n",
              "      <td>7.00</td>\n",
              "      <td>32.00</td>\n",
              "      <td>3.00</td>\n",
              "      <td>46006.00</td>\n",
              "      <td>5250.00</td>\n",
              "      <td>2.00</td>\n",
              "      <td>45.00</td>\n",
              "      <td>52533.00</td>\n",
              "      <td>0.11</td>\n",
              "      <td>186215.00</td>\n",
              "      <td>0.00</td>\n",
              "      <td>3382.20</td>\n",
              "      <td>0.06</td>\n",
              "      <td>0.00</td>\n",
              "      <td>0.00</td>\n",
              "      <td>21000.00</td>\n",
              "      <td>706.15</td>\n",
              "      <td>207.00</td>\n",
              "      <td>596.00</td>\n",
              "      <td>11.00</td>\n",
              "      <td>2.00</td>\n",
              "      <td>8.00</td>\n",
              "      <td>0.00</td>\n",
              "      <td>0.00</td>\n",
              "      <td>0.00</td>\n",
              "      <td>6.15</td>\n",
              "      <td>0.00</td>\n",
              "      <td>5.36</td>\n",
              "      <td>0.00</td>\n",
              "      <td>1.00</td>\n",
              "      <td>0.00</td>\n",
              "      <td>0.00</td>\n",
              "      <td>0.00</td>\n",
              "      <td>0.00</td>\n",
              "      <td>1.00</td>\n",
              "      <td>0.00</td>\n",
              "      <td>0.00</td>\n",
              "      <td>0.00</td>\n",
              "      <td>0.00</td>\n",
              "      <td>0.00</td>\n",
              "      <td>0.00</td>\n",
              "      <td>0.00</td>\n",
              "      <td>0.00</td>\n",
              "      <td>0.00</td>\n",
              "      <td>0.00</td>\n",
              "      <td>1.00</td>\n",
              "      <td>0.00</td>\n",
              "      <td>1.00</td>\n",
              "      <td>0.00</td>\n",
              "      <td>1.00</td>\n",
              "      <td>0.00</td>\n",
              "      <td>0.00</td>\n",
              "      <td>0.00</td>\n",
              "      <td>1.00</td>\n",
              "    </tr>\n",
              "    <tr>\n",
              "      <th>75%</th>\n",
              "      <td>2250000.25</td>\n",
              "      <td>14.00</td>\n",
              "      <td>46.00</td>\n",
              "      <td>4.00</td>\n",
              "      <td>86910.00</td>\n",
              "      <td>7000.00</td>\n",
              "      <td>4.00</td>\n",
              "      <td>55.00</td>\n",
              "      <td>76701.00</td>\n",
              "      <td>0.40</td>\n",
              "      <td>286799.00</td>\n",
              "      <td>151793.25</td>\n",
              "      <td>10395.00</td>\n",
              "      <td>0.16</td>\n",
              "      <td>5.00</td>\n",
              "      <td>25737.76</td>\n",
              "      <td>24380.00</td>\n",
              "      <td>1259.63</td>\n",
              "      <td>965.00</td>\n",
              "      <td>2280.00</td>\n",
              "      <td>20.00</td>\n",
              "      <td>3.00</td>\n",
              "      <td>15.00</td>\n",
              "      <td>1.00</td>\n",
              "      <td>1.00</td>\n",
              "      <td>1.00</td>\n",
              "      <td>7.00</td>\n",
              "      <td>1.00</td>\n",
              "      <td>6.23</td>\n",
              "      <td>0.00</td>\n",
              "      <td>1.00</td>\n",
              "      <td>0.00</td>\n",
              "      <td>0.00</td>\n",
              "      <td>0.00</td>\n",
              "      <td>1.00</td>\n",
              "      <td>1.00</td>\n",
              "      <td>0.00</td>\n",
              "      <td>0.00</td>\n",
              "      <td>0.00</td>\n",
              "      <td>0.00</td>\n",
              "      <td>0.00</td>\n",
              "      <td>0.00</td>\n",
              "      <td>0.00</td>\n",
              "      <td>0.00</td>\n",
              "      <td>0.00</td>\n",
              "      <td>0.00</td>\n",
              "      <td>1.00</td>\n",
              "      <td>1.00</td>\n",
              "      <td>1.00</td>\n",
              "      <td>1.00</td>\n",
              "      <td>1.00</td>\n",
              "      <td>1.00</td>\n",
              "      <td>0.00</td>\n",
              "      <td>1.00</td>\n",
              "      <td>1.00</td>\n",
              "    </tr>\n",
              "    <tr>\n",
              "      <th>max</th>\n",
              "      <td>3000000.00</td>\n",
              "      <td>29.00</td>\n",
              "      <td>60.00</td>\n",
              "      <td>5.00</td>\n",
              "      <td>250000.00</td>\n",
              "      <td>20833.33</td>\n",
              "      <td>5.00</td>\n",
              "      <td>65.00</td>\n",
              "      <td>99901.00</td>\n",
              "      <td>5.01</td>\n",
              "      <td>5498365.00</td>\n",
              "      <td>8143881.00</td>\n",
              "      <td>200493.00</td>\n",
              "      <td>0.49</td>\n",
              "      <td>17.00</td>\n",
              "      <td>3232882.80</td>\n",
              "      <td>45430.00</td>\n",
              "      <td>3977.65</td>\n",
              "      <td>87566.00</td>\n",
              "      <td>93948.00</td>\n",
              "      <td>41.00</td>\n",
              "      <td>5.00</td>\n",
              "      <td>41.00</td>\n",
              "      <td>4.00</td>\n",
              "      <td>5.00</td>\n",
              "      <td>10.00</td>\n",
              "      <td>10.00</td>\n",
              "      <td>1.00</td>\n",
              "      <td>9.56</td>\n",
              "      <td>1.00</td>\n",
              "      <td>1.00</td>\n",
              "      <td>1.00</td>\n",
              "      <td>1.00</td>\n",
              "      <td>1.00</td>\n",
              "      <td>1.00</td>\n",
              "      <td>1.00</td>\n",
              "      <td>1.00</td>\n",
              "      <td>1.00</td>\n",
              "      <td>1.00</td>\n",
              "      <td>1.00</td>\n",
              "      <td>1.00</td>\n",
              "      <td>1.00</td>\n",
              "      <td>1.00</td>\n",
              "      <td>1.00</td>\n",
              "      <td>1.00</td>\n",
              "      <td>1.00</td>\n",
              "      <td>1.00</td>\n",
              "      <td>1.00</td>\n",
              "      <td>1.00</td>\n",
              "      <td>1.00</td>\n",
              "      <td>1.00</td>\n",
              "      <td>1.00</td>\n",
              "      <td>1.00</td>\n",
              "      <td>1.00</td>\n",
              "      <td>1.00</td>\n",
              "    </tr>\n",
              "  </tbody>\n",
              "</table>\n",
              "</div>"
            ],
            "text/plain": [
              "              id  empl_length  Loan Length   ed_level  annual_inc  \\\n",
              "count 3000000.00   3000000.00   3000000.00 3000000.00  3000000.00   \n",
              "mean  1500000.50         8.14        32.27       3.00    63657.04   \n",
              "std    866025.55         8.11        15.63       1.41    56387.77   \n",
              "min         1.00         0.00        12.00       1.00        0.00   \n",
              "25%    750000.75         0.00        17.00       2.00    28501.00   \n",
              "50%   1500000.50         7.00        32.00       3.00    46006.00   \n",
              "75%   2250000.25        14.00        46.00       4.00    86910.00   \n",
              "max   3000000.00        29.00        60.00       5.00   250000.00   \n",
              "\n",
              "       Monthly Income  open_credit_lines        age   Zip Code  \\\n",
              "count      3000000.00         3000000.00 3000000.00 3000000.00   \n",
              "mean          6806.33               2.50      44.51   50535.96   \n",
              "std           4676.67               1.71      12.12   30190.10   \n",
              "min           2083.33               0.00      24.00     501.00   \n",
              "25%           3666.67               1.00      34.00   25311.00   \n",
              "50%           5250.00               2.00      45.00   52533.00   \n",
              "75%           7000.00               4.00      55.00   76701.00   \n",
              "max          20833.33               5.00      65.00   99901.00   \n",
              "\n",
              "       Debt/Income Ratio  Median Zipcode Price  Home_Value  \\\n",
              "count         3000000.00            3000000.00  3000000.00   \n",
              "mean                0.32             236196.47   101150.13   \n",
              "std                 0.50             199968.74   184849.63   \n",
              "min                 0.00              11266.00        0.00   \n",
              "25%                 0.01             116598.00        0.00   \n",
              "50%                 0.11             186215.00        0.00   \n",
              "75%                 0.40             286799.00   151793.25   \n",
              "max                 5.01            5498365.00  8143881.00   \n",
              "\n",
              "       Total Credit Limit  Credit Utilization  Years Home Owned  Home Equity  \\\n",
              "count          3000000.00          3000000.00        3000000.00   3000000.00   \n",
              "mean              8619.79                0.10              2.96     23304.35   \n",
              "std              14526.69                0.11              4.58     53736.77   \n",
              "min                  0.00                0.00              0.00         0.00   \n",
              "25%                477.00                0.01              0.00         0.00   \n",
              "50%               3382.20                0.06              0.00         0.00   \n",
              "75%              10395.00                0.16              5.00     25737.76   \n",
              "max             200493.00                0.49             17.00   3232882.80   \n",
              "\n",
              "       Loan_Amount  New Loan Monthly Cost Best Case  Total Credit Balance  \\\n",
              "count   3000000.00                       3000000.00            3000000.00   \n",
              "mean      21001.61                           924.98               1067.43   \n",
              "std        4999.91                           586.41               2584.81   \n",
              "min        1020.00                            18.37                  0.00   \n",
              "25%       17630.00                           478.22                 15.00   \n",
              "50%       21000.00                           706.15                207.00   \n",
              "75%       24380.00                          1259.63                965.00   \n",
              "max       45430.00                          3977.65              87566.00   \n",
              "\n",
              "       Monthly Debt  Length of Credit History (avg credit lifespan in yrs)  \\\n",
              "count    3000000.00                                             3000000.00   \n",
              "mean        2154.38                                                  12.00   \n",
              "std         4384.10                                                   9.78   \n",
              "min            0.00                                                   0.00   \n",
              "25%           59.00                                                   3.00   \n",
              "50%          596.00                                                  11.00   \n",
              "75%         2280.00                                                  20.00   \n",
              "max        93948.00                                                  41.00   \n",
              "\n",
              "       Credit Mix (# of types of credit)  \\\n",
              "count                         3000000.00   \n",
              "mean                                1.83   \n",
              "std                                 1.36   \n",
              "min                                 0.00   \n",
              "25%                                 1.00   \n",
              "50%                                 2.00   \n",
              "75%                                 3.00   \n",
              "max                                 5.00   \n",
              "\n",
              "       Recent Activity - Time since newest acct  \\\n",
              "count                                3000000.00   \n",
              "mean                                       9.65   \n",
              "std                                        8.44   \n",
              "min                                        0.00   \n",
              "25%                                        2.00   \n",
              "50%                                        8.00   \n",
              "75%                                       15.00   \n",
              "max                                       41.00   \n",
              "\n",
              "       Recent Activity - # accts applied in last year  \\\n",
              "count                                      3000000.00   \n",
              "mean                                             0.54   \n",
              "std                                              0.73   \n",
              "min                                              0.00   \n",
              "25%                                              0.00   \n",
              "50%                                              0.00   \n",
              "75%                                              1.00   \n",
              "max                                              4.00   \n",
              "\n",
              "       Payment History - # payments currently past due  \\\n",
              "count                                       3000000.00   \n",
              "mean                                              0.47   \n",
              "std                                               0.94   \n",
              "min                                               0.00   \n",
              "25%                                               0.00   \n",
              "50%                                               0.00   \n",
              "75%                                               1.00   \n",
              "max                                               5.00   \n",
              "\n",
              "       Payment History - # yrs ago last payment missed  Acceptance Score  \\\n",
              "count                                       3000000.00        3000000.00   \n",
              "mean                                              1.24              5.37   \n",
              "std                                               2.06              2.03   \n",
              "min                                               0.00              0.85   \n",
              "25%                                               0.00              3.20   \n",
              "50%                                               0.00              6.15   \n",
              "75%                                               1.00              7.00   \n",
              "max                                              10.00             10.00   \n",
              "\n",
              "       Final Decision  Acceptance Score 2  Final Decision 2  \\\n",
              "count      3000000.00          3000000.00        3000000.00   \n",
              "mean             0.25                5.35              0.10   \n",
              "std              0.43                1.24              0.29   \n",
              "min              0.00                0.86              0.00   \n",
              "25%              0.00                4.49              0.00   \n",
              "50%              0.00                5.36              0.00   \n",
              "75%              1.00                6.23              0.00   \n",
              "max              1.00                9.56              1.00   \n",
              "\n",
              "       (emp_status, Fulltime)  (emp_status, Parttime)  (emp_status, Student)  \\\n",
              "count              3000000.00              3000000.00             3000000.00   \n",
              "mean                     0.77                    0.10                   0.04   \n",
              "std                      0.42                    0.29                   0.19   \n",
              "min                      0.00                    0.00                   0.00   \n",
              "25%                      1.00                    0.00                   0.00   \n",
              "50%                      1.00                    0.00                   0.00   \n",
              "75%                      1.00                    0.00                   0.00   \n",
              "max                      1.00                    1.00                   1.00   \n",
              "\n",
              "       (emp_status, Unemployed)  (gender, F)  (gender, M)  \\\n",
              "count                3000000.00   3000000.00   3000000.00   \n",
              "mean                       0.10         0.50         0.50   \n",
              "std                        0.29         0.50         0.50   \n",
              "min                        0.00         0.00         0.00   \n",
              "25%                        0.00         0.00         0.00   \n",
              "50%                        0.00         0.00         1.00   \n",
              "75%                        0.00         1.00         1.00   \n",
              "max                        1.00         1.00         1.00   \n",
              "\n",
              "       (job_title, Administrative Support Worker)  (job_title, Craft Worker)  \\\n",
              "count                                  3000000.00                 3000000.00   \n",
              "mean                                         0.06                       0.07   \n",
              "std                                          0.25                       0.25   \n",
              "min                                          0.00                       0.00   \n",
              "25%                                          0.00                       0.00   \n",
              "50%                                          0.00                       0.00   \n",
              "75%                                          0.00                       0.00   \n",
              "max                                          1.00                       1.00   \n",
              "\n",
              "       (job_title, Executive/Senior Level Officials and Manager)  \\\n",
              "count                                                 3000000.00   \n",
              "mean                                                        0.05   \n",
              "std                                                         0.23   \n",
              "min                                                         0.00   \n",
              "25%                                                         0.00   \n",
              "50%                                                         0.00   \n",
              "75%                                                         0.00   \n",
              "max                                                         1.00   \n",
              "\n",
              "       (job_title, First/Mid Level Officials and Manager)  \\\n",
              "count                                          3000000.00   \n",
              "mean                                                 0.07   \n",
              "std                                                  0.25   \n",
              "min                                                  0.00   \n",
              "25%                                                  0.00   \n",
              "50%                                                  0.00   \n",
              "75%                                                  0.00   \n",
              "max                                                  1.00   \n",
              "\n",
              "       (job_title, Laborers and Helper)  (job_title, Operative)  \\\n",
              "count                        3000000.00              3000000.00   \n",
              "mean                               0.07                    0.06   \n",
              "std                                0.25                    0.25   \n",
              "min                                0.00                    0.00   \n",
              "25%                                0.00                    0.00   \n",
              "50%                                0.00                    0.00   \n",
              "75%                                0.00                    0.00   \n",
              "max                                1.00                    1.00   \n",
              "\n",
              "       (job_title, Professional)  (job_title, Sales Worker)  \\\n",
              "count                 3000000.00                 3000000.00   \n",
              "mean                        0.06                       0.07   \n",
              "std                         0.25                       0.25   \n",
              "min                         0.00                       0.00   \n",
              "25%                         0.00                       0.00   \n",
              "50%                         0.00                       0.00   \n",
              "75%                         0.00                       0.00   \n",
              "max                         1.00                       1.00   \n",
              "\n",
              "       (job_title, Service Worker)  (job_title, Technician)  \\\n",
              "count                   3000000.00               3000000.00   \n",
              "mean                          0.06                     0.07   \n",
              "std                           0.25                     0.25   \n",
              "min                           0.00                     0.00   \n",
              "25%                           0.00                     0.00   \n",
              "50%                           0.00                     0.00   \n",
              "75%                           0.00                     0.00   \n",
              "max                           1.00                     1.00   \n",
              "\n",
              "       (home_ownership, False)  (home_ownership, True)  (married, False)  \\\n",
              "count               3000000.00              3000000.00        3000000.00   \n",
              "mean                      0.50                    0.50              0.50   \n",
              "std                       0.50                    0.50              0.50   \n",
              "min                       0.00                    0.00              0.00   \n",
              "25%                       0.00                    0.00              0.00   \n",
              "50%                       1.00                    0.00              1.00   \n",
              "75%                       1.00                    1.00              1.00   \n",
              "max                       1.00                    1.00              1.00   \n",
              "\n",
              "       (married, True)  (children, False)  (children, True)  \\\n",
              "count       3000000.00         3000000.00        3000000.00   \n",
              "mean              0.50               0.50              0.50   \n",
              "std               0.50               0.50              0.50   \n",
              "min               0.00               0.00              0.00   \n",
              "25%               0.00               0.00              0.00   \n",
              "50%               0.00               1.00              0.00   \n",
              "75%               1.00               1.00              1.00   \n",
              "max               1.00               1.00              1.00   \n",
              "\n",
              "       (Home Ownership, Other)  (Home Ownership, Own)  (Home Ownership, Rent)  \n",
              "count               3000000.00             3000000.00              3000000.00  \n",
              "mean                      0.07                   0.43                    0.50  \n",
              "std                       0.26                   0.49                    0.50  \n",
              "min                       0.00                   0.00                    0.00  \n",
              "25%                       0.00                   0.00                    0.00  \n",
              "50%                       0.00                   0.00                    1.00  \n",
              "75%                       0.00                   1.00                    1.00  \n",
              "max                       1.00                   1.00                    1.00  "
            ]
          },
          "metadata": {
            "tags": []
          },
          "execution_count": 130
        }
      ]
    },
    {
      "cell_type": "code",
      "metadata": {
        "id": "MOfzAx247WK5",
        "colab_type": "code",
        "outputId": "7630a322-2835-4b6b-888f-6c7551933337",
        "colab": {
          "base_uri": "https://localhost:8080/",
          "height": 992
        }
      },
      "source": [
        "for col in everything.columns:\n",
        "  print(col)"
      ],
      "execution_count": 131,
      "outputs": [
        {
          "output_type": "stream",
          "text": [
            "id\n",
            "empl_length\n",
            "race\n",
            "ssn\n",
            "State\n",
            "Loan Length\n",
            "ed_level\n",
            "annual_inc\n",
            "Monthly Income\n",
            "open_credit_lines\n",
            "age\n",
            "Zip Code\n",
            "Debt/Income Ratio\n",
            "Metro\n",
            "Median Zipcode Price\n",
            "Home_Value\n",
            "Total Credit Limit\n",
            "Credit Utilization\n",
            "Years Home Owned\n",
            "Home Equity\n",
            "Loan_Amount\n",
            "New Loan Monthly Cost Best Case\n",
            "Total Credit Balance\n",
            "Monthly Debt\n",
            "Length of Credit History (avg credit lifespan in yrs)\n",
            "Credit Mix (# of types of credit)\n",
            "Recent Activity - Time since newest acct\n",
            "Recent Activity - # accts applied in last year\n",
            "Payment History - # payments currently past due\n",
            "Payment History - # yrs ago last payment missed\n",
            "Payment History -  Bankruptcy/Reposession/Acct_in_Collection in past\n",
            "Acceptance Score\n",
            "Final Decision\n",
            "Acceptance Score 2\n",
            "Final Decision 2\n",
            "('emp_status', 'Fulltime')\n",
            "('emp_status', 'Parttime')\n",
            "('emp_status', 'Student')\n",
            "('emp_status', 'Unemployed')\n",
            "('gender', 'F')\n",
            "('gender', 'M')\n",
            "('job_title', 'Administrative Support Worker')\n",
            "('job_title', 'Craft Worker')\n",
            "('job_title', 'Executive/Senior Level Officials and Manager')\n",
            "('job_title', 'First/Mid Level Officials and Manager')\n",
            "('job_title', 'Laborers and Helper')\n",
            "('job_title', 'Operative')\n",
            "('job_title', 'Professional')\n",
            "('job_title', 'Sales Worker')\n",
            "('job_title', 'Service Worker')\n",
            "('job_title', 'Technician')\n",
            "('home_ownership', False)\n",
            "('home_ownership', True)\n",
            "('married', False)\n",
            "('married', True)\n",
            "('children', False)\n",
            "('children', True)\n",
            "('Home Ownership', 'Other')\n",
            "('Home Ownership', 'Own')\n",
            "('Home Ownership', 'Rent')\n"
          ],
          "name": "stdout"
        }
      ]
    },
    {
      "cell_type": "markdown",
      "metadata": {
        "id": "J4jWF5FImRra",
        "colab_type": "text"
      },
      "source": [
        "# Creating train and test sets (70/30 split) "
      ]
    },
    {
      "cell_type": "code",
      "metadata": {
        "id": "Xo38gBcj6QdW",
        "colab_type": "code",
        "colab": {}
      },
      "source": [
        "from sklearn.model_selection import train_test_split\n",
        "\n",
        "train, test = train_test_split(everything, test_size=0.3)"
      ],
      "execution_count": 0,
      "outputs": []
    },
    {
      "cell_type": "code",
      "metadata": {
        "id": "PGa8J26_7aEx",
        "colab_type": "code",
        "outputId": "9a5642bd-4aee-463c-f54b-5a5123e8eb7b",
        "colab": {
          "base_uri": "https://localhost:8080/",
          "height": 411
        }
      },
      "source": [
        "train.describe()"
      ],
      "execution_count": 133,
      "outputs": [
        {
          "output_type": "execute_result",
          "data": {
            "text/html": [
              "<div>\n",
              "<style scoped>\n",
              "    .dataframe tbody tr th:only-of-type {\n",
              "        vertical-align: middle;\n",
              "    }\n",
              "\n",
              "    .dataframe tbody tr th {\n",
              "        vertical-align: top;\n",
              "    }\n",
              "\n",
              "    .dataframe thead th {\n",
              "        text-align: right;\n",
              "    }\n",
              "</style>\n",
              "<table border=\"1\" class=\"dataframe\">\n",
              "  <thead>\n",
              "    <tr style=\"text-align: right;\">\n",
              "      <th></th>\n",
              "      <th>id</th>\n",
              "      <th>empl_length</th>\n",
              "      <th>Loan Length</th>\n",
              "      <th>ed_level</th>\n",
              "      <th>annual_inc</th>\n",
              "      <th>Monthly Income</th>\n",
              "      <th>open_credit_lines</th>\n",
              "      <th>age</th>\n",
              "      <th>Zip Code</th>\n",
              "      <th>Debt/Income Ratio</th>\n",
              "      <th>Median Zipcode Price</th>\n",
              "      <th>Home_Value</th>\n",
              "      <th>Total Credit Limit</th>\n",
              "      <th>Credit Utilization</th>\n",
              "      <th>Years Home Owned</th>\n",
              "      <th>Home Equity</th>\n",
              "      <th>Loan_Amount</th>\n",
              "      <th>New Loan Monthly Cost Best Case</th>\n",
              "      <th>Total Credit Balance</th>\n",
              "      <th>Monthly Debt</th>\n",
              "      <th>Length of Credit History (avg credit lifespan in yrs)</th>\n",
              "      <th>Credit Mix (# of types of credit)</th>\n",
              "      <th>Recent Activity - Time since newest acct</th>\n",
              "      <th>Recent Activity - # accts applied in last year</th>\n",
              "      <th>Payment History - # payments currently past due</th>\n",
              "      <th>Payment History - # yrs ago last payment missed</th>\n",
              "      <th>Acceptance Score</th>\n",
              "      <th>Final Decision</th>\n",
              "      <th>Acceptance Score 2</th>\n",
              "      <th>Final Decision 2</th>\n",
              "      <th>(emp_status, Fulltime)</th>\n",
              "      <th>(emp_status, Parttime)</th>\n",
              "      <th>(emp_status, Student)</th>\n",
              "      <th>(emp_status, Unemployed)</th>\n",
              "      <th>(gender, F)</th>\n",
              "      <th>(gender, M)</th>\n",
              "      <th>(job_title, Administrative Support Worker)</th>\n",
              "      <th>(job_title, Craft Worker)</th>\n",
              "      <th>(job_title, Executive/Senior Level Officials and Manager)</th>\n",
              "      <th>(job_title, First/Mid Level Officials and Manager)</th>\n",
              "      <th>(job_title, Laborers and Helper)</th>\n",
              "      <th>(job_title, Operative)</th>\n",
              "      <th>(job_title, Professional)</th>\n",
              "      <th>(job_title, Sales Worker)</th>\n",
              "      <th>(job_title, Service Worker)</th>\n",
              "      <th>(job_title, Technician)</th>\n",
              "      <th>(home_ownership, False)</th>\n",
              "      <th>(home_ownership, True)</th>\n",
              "      <th>(married, False)</th>\n",
              "      <th>(married, True)</th>\n",
              "      <th>(children, False)</th>\n",
              "      <th>(children, True)</th>\n",
              "      <th>(Home Ownership, Other)</th>\n",
              "      <th>(Home Ownership, Own)</th>\n",
              "      <th>(Home Ownership, Rent)</th>\n",
              "    </tr>\n",
              "  </thead>\n",
              "  <tbody>\n",
              "    <tr>\n",
              "      <th>count</th>\n",
              "      <td>2100000.00</td>\n",
              "      <td>2100000.00</td>\n",
              "      <td>2100000.00</td>\n",
              "      <td>2100000.00</td>\n",
              "      <td>2100000.00</td>\n",
              "      <td>2100000.00</td>\n",
              "      <td>2100000.00</td>\n",
              "      <td>2100000.00</td>\n",
              "      <td>2100000.00</td>\n",
              "      <td>2100000.00</td>\n",
              "      <td>2100000.00</td>\n",
              "      <td>2100000.00</td>\n",
              "      <td>2100000.00</td>\n",
              "      <td>2100000.00</td>\n",
              "      <td>2100000.00</td>\n",
              "      <td>2100000.00</td>\n",
              "      <td>2100000.00</td>\n",
              "      <td>2100000.00</td>\n",
              "      <td>2100000.00</td>\n",
              "      <td>2100000.00</td>\n",
              "      <td>2100000.00</td>\n",
              "      <td>2100000.00</td>\n",
              "      <td>2100000.00</td>\n",
              "      <td>2100000.00</td>\n",
              "      <td>2100000.00</td>\n",
              "      <td>2100000.00</td>\n",
              "      <td>2100000.00</td>\n",
              "      <td>2100000.00</td>\n",
              "      <td>2100000.00</td>\n",
              "      <td>2100000.00</td>\n",
              "      <td>2100000.00</td>\n",
              "      <td>2100000.00</td>\n",
              "      <td>2100000.00</td>\n",
              "      <td>2100000.00</td>\n",
              "      <td>2100000.00</td>\n",
              "      <td>2100000.00</td>\n",
              "      <td>2100000.00</td>\n",
              "      <td>2100000.00</td>\n",
              "      <td>2100000.00</td>\n",
              "      <td>2100000.00</td>\n",
              "      <td>2100000.00</td>\n",
              "      <td>2100000.00</td>\n",
              "      <td>2100000.00</td>\n",
              "      <td>2100000.00</td>\n",
              "      <td>2100000.00</td>\n",
              "      <td>2100000.00</td>\n",
              "      <td>2100000.00</td>\n",
              "      <td>2100000.00</td>\n",
              "      <td>2100000.00</td>\n",
              "      <td>2100000.00</td>\n",
              "      <td>2100000.00</td>\n",
              "      <td>2100000.00</td>\n",
              "      <td>2100000.00</td>\n",
              "      <td>2100000.00</td>\n",
              "      <td>2100000.00</td>\n",
              "    </tr>\n",
              "    <tr>\n",
              "      <th>mean</th>\n",
              "      <td>1500115.07</td>\n",
              "      <td>8.15</td>\n",
              "      <td>32.27</td>\n",
              "      <td>3.00</td>\n",
              "      <td>63634.41</td>\n",
              "      <td>6805.02</td>\n",
              "      <td>2.50</td>\n",
              "      <td>44.51</td>\n",
              "      <td>50544.74</td>\n",
              "      <td>0.32</td>\n",
              "      <td>236293.25</td>\n",
              "      <td>101282.04</td>\n",
              "      <td>8619.40</td>\n",
              "      <td>0.10</td>\n",
              "      <td>2.96</td>\n",
              "      <td>23338.59</td>\n",
              "      <td>21003.68</td>\n",
              "      <td>924.98</td>\n",
              "      <td>1068.51</td>\n",
              "      <td>2155.93</td>\n",
              "      <td>12.00</td>\n",
              "      <td>1.83</td>\n",
              "      <td>9.65</td>\n",
              "      <td>0.54</td>\n",
              "      <td>0.47</td>\n",
              "      <td>1.24</td>\n",
              "      <td>5.37</td>\n",
              "      <td>0.25</td>\n",
              "      <td>5.35</td>\n",
              "      <td>0.10</td>\n",
              "      <td>0.77</td>\n",
              "      <td>0.10</td>\n",
              "      <td>0.04</td>\n",
              "      <td>0.10</td>\n",
              "      <td>0.50</td>\n",
              "      <td>0.50</td>\n",
              "      <td>0.06</td>\n",
              "      <td>0.06</td>\n",
              "      <td>0.05</td>\n",
              "      <td>0.07</td>\n",
              "      <td>0.07</td>\n",
              "      <td>0.06</td>\n",
              "      <td>0.07</td>\n",
              "      <td>0.06</td>\n",
              "      <td>0.06</td>\n",
              "      <td>0.07</td>\n",
              "      <td>0.50</td>\n",
              "      <td>0.50</td>\n",
              "      <td>0.50</td>\n",
              "      <td>0.50</td>\n",
              "      <td>0.50</td>\n",
              "      <td>0.50</td>\n",
              "      <td>0.07</td>\n",
              "      <td>0.43</td>\n",
              "      <td>0.50</td>\n",
              "    </tr>\n",
              "    <tr>\n",
              "      <th>std</th>\n",
              "      <td>865995.44</td>\n",
              "      <td>8.12</td>\n",
              "      <td>15.63</td>\n",
              "      <td>1.41</td>\n",
              "      <td>56375.53</td>\n",
              "      <td>4675.46</td>\n",
              "      <td>1.71</td>\n",
              "      <td>12.12</td>\n",
              "      <td>30193.10</td>\n",
              "      <td>0.50</td>\n",
              "      <td>200268.08</td>\n",
              "      <td>185210.51</td>\n",
              "      <td>14518.22</td>\n",
              "      <td>0.11</td>\n",
              "      <td>4.58</td>\n",
              "      <td>53850.97</td>\n",
              "      <td>5002.22</td>\n",
              "      <td>586.38</td>\n",
              "      <td>2587.71</td>\n",
              "      <td>4385.40</td>\n",
              "      <td>9.78</td>\n",
              "      <td>1.36</td>\n",
              "      <td>8.43</td>\n",
              "      <td>0.73</td>\n",
              "      <td>0.94</td>\n",
              "      <td>2.06</td>\n",
              "      <td>2.03</td>\n",
              "      <td>0.43</td>\n",
              "      <td>1.24</td>\n",
              "      <td>0.29</td>\n",
              "      <td>0.42</td>\n",
              "      <td>0.29</td>\n",
              "      <td>0.19</td>\n",
              "      <td>0.29</td>\n",
              "      <td>0.50</td>\n",
              "      <td>0.50</td>\n",
              "      <td>0.25</td>\n",
              "      <td>0.25</td>\n",
              "      <td>0.23</td>\n",
              "      <td>0.25</td>\n",
              "      <td>0.25</td>\n",
              "      <td>0.25</td>\n",
              "      <td>0.25</td>\n",
              "      <td>0.25</td>\n",
              "      <td>0.25</td>\n",
              "      <td>0.25</td>\n",
              "      <td>0.50</td>\n",
              "      <td>0.50</td>\n",
              "      <td>0.50</td>\n",
              "      <td>0.50</td>\n",
              "      <td>0.50</td>\n",
              "      <td>0.50</td>\n",
              "      <td>0.26</td>\n",
              "      <td>0.49</td>\n",
              "      <td>0.50</td>\n",
              "    </tr>\n",
              "    <tr>\n",
              "      <th>min</th>\n",
              "      <td>2.00</td>\n",
              "      <td>0.00</td>\n",
              "      <td>12.00</td>\n",
              "      <td>1.00</td>\n",
              "      <td>0.00</td>\n",
              "      <td>2083.33</td>\n",
              "      <td>0.00</td>\n",
              "      <td>24.00</td>\n",
              "      <td>501.00</td>\n",
              "      <td>0.00</td>\n",
              "      <td>11266.00</td>\n",
              "      <td>0.00</td>\n",
              "      <td>0.00</td>\n",
              "      <td>0.00</td>\n",
              "      <td>0.00</td>\n",
              "      <td>0.00</td>\n",
              "      <td>1020.00</td>\n",
              "      <td>18.37</td>\n",
              "      <td>0.00</td>\n",
              "      <td>0.00</td>\n",
              "      <td>0.00</td>\n",
              "      <td>0.00</td>\n",
              "      <td>0.00</td>\n",
              "      <td>0.00</td>\n",
              "      <td>0.00</td>\n",
              "      <td>0.00</td>\n",
              "      <td>0.85</td>\n",
              "      <td>0.00</td>\n",
              "      <td>0.86</td>\n",
              "      <td>0.00</td>\n",
              "      <td>0.00</td>\n",
              "      <td>0.00</td>\n",
              "      <td>0.00</td>\n",
              "      <td>0.00</td>\n",
              "      <td>0.00</td>\n",
              "      <td>0.00</td>\n",
              "      <td>0.00</td>\n",
              "      <td>0.00</td>\n",
              "      <td>0.00</td>\n",
              "      <td>0.00</td>\n",
              "      <td>0.00</td>\n",
              "      <td>0.00</td>\n",
              "      <td>0.00</td>\n",
              "      <td>0.00</td>\n",
              "      <td>0.00</td>\n",
              "      <td>0.00</td>\n",
              "      <td>0.00</td>\n",
              "      <td>0.00</td>\n",
              "      <td>0.00</td>\n",
              "      <td>0.00</td>\n",
              "      <td>0.00</td>\n",
              "      <td>0.00</td>\n",
              "      <td>0.00</td>\n",
              "      <td>0.00</td>\n",
              "      <td>0.00</td>\n",
              "    </tr>\n",
              "    <tr>\n",
              "      <th>25%</th>\n",
              "      <td>750257.75</td>\n",
              "      <td>0.00</td>\n",
              "      <td>17.00</td>\n",
              "      <td>2.00</td>\n",
              "      <td>28498.00</td>\n",
              "      <td>3666.67</td>\n",
              "      <td>1.00</td>\n",
              "      <td>34.00</td>\n",
              "      <td>25314.00</td>\n",
              "      <td>0.01</td>\n",
              "      <td>116617.75</td>\n",
              "      <td>0.00</td>\n",
              "      <td>472.50</td>\n",
              "      <td>0.01</td>\n",
              "      <td>0.00</td>\n",
              "      <td>0.00</td>\n",
              "      <td>17630.00</td>\n",
              "      <td>478.35</td>\n",
              "      <td>15.00</td>\n",
              "      <td>58.00</td>\n",
              "      <td>3.00</td>\n",
              "      <td>1.00</td>\n",
              "      <td>2.00</td>\n",
              "      <td>0.00</td>\n",
              "      <td>0.00</td>\n",
              "      <td>0.00</td>\n",
              "      <td>3.20</td>\n",
              "      <td>0.00</td>\n",
              "      <td>4.49</td>\n",
              "      <td>0.00</td>\n",
              "      <td>1.00</td>\n",
              "      <td>0.00</td>\n",
              "      <td>0.00</td>\n",
              "      <td>0.00</td>\n",
              "      <td>0.00</td>\n",
              "      <td>0.00</td>\n",
              "      <td>0.00</td>\n",
              "      <td>0.00</td>\n",
              "      <td>0.00</td>\n",
              "      <td>0.00</td>\n",
              "      <td>0.00</td>\n",
              "      <td>0.00</td>\n",
              "      <td>0.00</td>\n",
              "      <td>0.00</td>\n",
              "      <td>0.00</td>\n",
              "      <td>0.00</td>\n",
              "      <td>0.00</td>\n",
              "      <td>0.00</td>\n",
              "      <td>0.00</td>\n",
              "      <td>0.00</td>\n",
              "      <td>0.00</td>\n",
              "      <td>0.00</td>\n",
              "      <td>0.00</td>\n",
              "      <td>0.00</td>\n",
              "      <td>0.00</td>\n",
              "    </tr>\n",
              "    <tr>\n",
              "      <th>50%</th>\n",
              "      <td>1500257.50</td>\n",
              "      <td>7.00</td>\n",
              "      <td>31.00</td>\n",
              "      <td>3.00</td>\n",
              "      <td>45982.00</td>\n",
              "      <td>5250.00</td>\n",
              "      <td>2.00</td>\n",
              "      <td>45.00</td>\n",
              "      <td>52535.00</td>\n",
              "      <td>0.11</td>\n",
              "      <td>186289.00</td>\n",
              "      <td>0.00</td>\n",
              "      <td>3379.50</td>\n",
              "      <td>0.06</td>\n",
              "      <td>0.00</td>\n",
              "      <td>0.00</td>\n",
              "      <td>21000.00</td>\n",
              "      <td>706.23</td>\n",
              "      <td>206.00</td>\n",
              "      <td>595.00</td>\n",
              "      <td>11.00</td>\n",
              "      <td>2.00</td>\n",
              "      <td>8.00</td>\n",
              "      <td>0.00</td>\n",
              "      <td>0.00</td>\n",
              "      <td>0.00</td>\n",
              "      <td>6.15</td>\n",
              "      <td>0.00</td>\n",
              "      <td>5.36</td>\n",
              "      <td>0.00</td>\n",
              "      <td>1.00</td>\n",
              "      <td>0.00</td>\n",
              "      <td>0.00</td>\n",
              "      <td>0.00</td>\n",
              "      <td>0.00</td>\n",
              "      <td>1.00</td>\n",
              "      <td>0.00</td>\n",
              "      <td>0.00</td>\n",
              "      <td>0.00</td>\n",
              "      <td>0.00</td>\n",
              "      <td>0.00</td>\n",
              "      <td>0.00</td>\n",
              "      <td>0.00</td>\n",
              "      <td>0.00</td>\n",
              "      <td>0.00</td>\n",
              "      <td>0.00</td>\n",
              "      <td>0.00</td>\n",
              "      <td>1.00</td>\n",
              "      <td>0.00</td>\n",
              "      <td>1.00</td>\n",
              "      <td>1.00</td>\n",
              "      <td>0.00</td>\n",
              "      <td>0.00</td>\n",
              "      <td>0.00</td>\n",
              "      <td>0.00</td>\n",
              "    </tr>\n",
              "    <tr>\n",
              "      <th>75%</th>\n",
              "      <td>2250131.25</td>\n",
              "      <td>14.00</td>\n",
              "      <td>46.00</td>\n",
              "      <td>4.00</td>\n",
              "      <td>86890.00</td>\n",
              "      <td>7000.00</td>\n",
              "      <td>4.00</td>\n",
              "      <td>55.00</td>\n",
              "      <td>76834.00</td>\n",
              "      <td>0.40</td>\n",
              "      <td>286825.00</td>\n",
              "      <td>151917.00</td>\n",
              "      <td>10400.40</td>\n",
              "      <td>0.16</td>\n",
              "      <td>5.00</td>\n",
              "      <td>25792.00</td>\n",
              "      <td>24380.00</td>\n",
              "      <td>1259.56</td>\n",
              "      <td>965.00</td>\n",
              "      <td>2282.00</td>\n",
              "      <td>20.00</td>\n",
              "      <td>3.00</td>\n",
              "      <td>15.00</td>\n",
              "      <td>1.00</td>\n",
              "      <td>1.00</td>\n",
              "      <td>1.00</td>\n",
              "      <td>7.00</td>\n",
              "      <td>1.00</td>\n",
              "      <td>6.23</td>\n",
              "      <td>0.00</td>\n",
              "      <td>1.00</td>\n",
              "      <td>0.00</td>\n",
              "      <td>0.00</td>\n",
              "      <td>0.00</td>\n",
              "      <td>1.00</td>\n",
              "      <td>1.00</td>\n",
              "      <td>0.00</td>\n",
              "      <td>0.00</td>\n",
              "      <td>0.00</td>\n",
              "      <td>0.00</td>\n",
              "      <td>0.00</td>\n",
              "      <td>0.00</td>\n",
              "      <td>0.00</td>\n",
              "      <td>0.00</td>\n",
              "      <td>0.00</td>\n",
              "      <td>0.00</td>\n",
              "      <td>1.00</td>\n",
              "      <td>1.00</td>\n",
              "      <td>1.00</td>\n",
              "      <td>1.00</td>\n",
              "      <td>1.00</td>\n",
              "      <td>1.00</td>\n",
              "      <td>0.00</td>\n",
              "      <td>1.00</td>\n",
              "      <td>1.00</td>\n",
              "    </tr>\n",
              "    <tr>\n",
              "      <th>max</th>\n",
              "      <td>3000000.00</td>\n",
              "      <td>29.00</td>\n",
              "      <td>60.00</td>\n",
              "      <td>5.00</td>\n",
              "      <td>250000.00</td>\n",
              "      <td>20833.33</td>\n",
              "      <td>5.00</td>\n",
              "      <td>65.00</td>\n",
              "      <td>99901.00</td>\n",
              "      <td>5.01</td>\n",
              "      <td>5498365.00</td>\n",
              "      <td>8099510.00</td>\n",
              "      <td>200493.00</td>\n",
              "      <td>0.49</td>\n",
              "      <td>17.00</td>\n",
              "      <td>3232882.80</td>\n",
              "      <td>45430.00</td>\n",
              "      <td>3818.65</td>\n",
              "      <td>79800.00</td>\n",
              "      <td>93948.00</td>\n",
              "      <td>41.00</td>\n",
              "      <td>5.00</td>\n",
              "      <td>41.00</td>\n",
              "      <td>4.00</td>\n",
              "      <td>5.00</td>\n",
              "      <td>10.00</td>\n",
              "      <td>9.85</td>\n",
              "      <td>1.00</td>\n",
              "      <td>9.46</td>\n",
              "      <td>1.00</td>\n",
              "      <td>1.00</td>\n",
              "      <td>1.00</td>\n",
              "      <td>1.00</td>\n",
              "      <td>1.00</td>\n",
              "      <td>1.00</td>\n",
              "      <td>1.00</td>\n",
              "      <td>1.00</td>\n",
              "      <td>1.00</td>\n",
              "      <td>1.00</td>\n",
              "      <td>1.00</td>\n",
              "      <td>1.00</td>\n",
              "      <td>1.00</td>\n",
              "      <td>1.00</td>\n",
              "      <td>1.00</td>\n",
              "      <td>1.00</td>\n",
              "      <td>1.00</td>\n",
              "      <td>1.00</td>\n",
              "      <td>1.00</td>\n",
              "      <td>1.00</td>\n",
              "      <td>1.00</td>\n",
              "      <td>1.00</td>\n",
              "      <td>1.00</td>\n",
              "      <td>1.00</td>\n",
              "      <td>1.00</td>\n",
              "      <td>1.00</td>\n",
              "    </tr>\n",
              "  </tbody>\n",
              "</table>\n",
              "</div>"
            ],
            "text/plain": [
              "              id  empl_length  Loan Length   ed_level  annual_inc  \\\n",
              "count 2100000.00   2100000.00   2100000.00 2100000.00  2100000.00   \n",
              "mean  1500115.07         8.15        32.27       3.00    63634.41   \n",
              "std    865995.44         8.12        15.63       1.41    56375.53   \n",
              "min         2.00         0.00        12.00       1.00        0.00   \n",
              "25%    750257.75         0.00        17.00       2.00    28498.00   \n",
              "50%   1500257.50         7.00        31.00       3.00    45982.00   \n",
              "75%   2250131.25        14.00        46.00       4.00    86890.00   \n",
              "max   3000000.00        29.00        60.00       5.00   250000.00   \n",
              "\n",
              "       Monthly Income  open_credit_lines        age   Zip Code  \\\n",
              "count      2100000.00         2100000.00 2100000.00 2100000.00   \n",
              "mean          6805.02               2.50      44.51   50544.74   \n",
              "std           4675.46               1.71      12.12   30193.10   \n",
              "min           2083.33               0.00      24.00     501.00   \n",
              "25%           3666.67               1.00      34.00   25314.00   \n",
              "50%           5250.00               2.00      45.00   52535.00   \n",
              "75%           7000.00               4.00      55.00   76834.00   \n",
              "max          20833.33               5.00      65.00   99901.00   \n",
              "\n",
              "       Debt/Income Ratio  Median Zipcode Price  Home_Value  \\\n",
              "count         2100000.00            2100000.00  2100000.00   \n",
              "mean                0.32             236293.25   101282.04   \n",
              "std                 0.50             200268.08   185210.51   \n",
              "min                 0.00              11266.00        0.00   \n",
              "25%                 0.01             116617.75        0.00   \n",
              "50%                 0.11             186289.00        0.00   \n",
              "75%                 0.40             286825.00   151917.00   \n",
              "max                 5.01            5498365.00  8099510.00   \n",
              "\n",
              "       Total Credit Limit  Credit Utilization  Years Home Owned  Home Equity  \\\n",
              "count          2100000.00          2100000.00        2100000.00   2100000.00   \n",
              "mean              8619.40                0.10              2.96     23338.59   \n",
              "std              14518.22                0.11              4.58     53850.97   \n",
              "min                  0.00                0.00              0.00         0.00   \n",
              "25%                472.50                0.01              0.00         0.00   \n",
              "50%               3379.50                0.06              0.00         0.00   \n",
              "75%              10400.40                0.16              5.00     25792.00   \n",
              "max             200493.00                0.49             17.00   3232882.80   \n",
              "\n",
              "       Loan_Amount  New Loan Monthly Cost Best Case  Total Credit Balance  \\\n",
              "count   2100000.00                       2100000.00            2100000.00   \n",
              "mean      21003.68                           924.98               1068.51   \n",
              "std        5002.22                           586.38               2587.71   \n",
              "min        1020.00                            18.37                  0.00   \n",
              "25%       17630.00                           478.35                 15.00   \n",
              "50%       21000.00                           706.23                206.00   \n",
              "75%       24380.00                          1259.56                965.00   \n",
              "max       45430.00                          3818.65              79800.00   \n",
              "\n",
              "       Monthly Debt  Length of Credit History (avg credit lifespan in yrs)  \\\n",
              "count    2100000.00                                             2100000.00   \n",
              "mean        2155.93                                                  12.00   \n",
              "std         4385.40                                                   9.78   \n",
              "min            0.00                                                   0.00   \n",
              "25%           58.00                                                   3.00   \n",
              "50%          595.00                                                  11.00   \n",
              "75%         2282.00                                                  20.00   \n",
              "max        93948.00                                                  41.00   \n",
              "\n",
              "       Credit Mix (# of types of credit)  \\\n",
              "count                         2100000.00   \n",
              "mean                                1.83   \n",
              "std                                 1.36   \n",
              "min                                 0.00   \n",
              "25%                                 1.00   \n",
              "50%                                 2.00   \n",
              "75%                                 3.00   \n",
              "max                                 5.00   \n",
              "\n",
              "       Recent Activity - Time since newest acct  \\\n",
              "count                                2100000.00   \n",
              "mean                                       9.65   \n",
              "std                                        8.43   \n",
              "min                                        0.00   \n",
              "25%                                        2.00   \n",
              "50%                                        8.00   \n",
              "75%                                       15.00   \n",
              "max                                       41.00   \n",
              "\n",
              "       Recent Activity - # accts applied in last year  \\\n",
              "count                                      2100000.00   \n",
              "mean                                             0.54   \n",
              "std                                              0.73   \n",
              "min                                              0.00   \n",
              "25%                                              0.00   \n",
              "50%                                              0.00   \n",
              "75%                                              1.00   \n",
              "max                                              4.00   \n",
              "\n",
              "       Payment History - # payments currently past due  \\\n",
              "count                                       2100000.00   \n",
              "mean                                              0.47   \n",
              "std                                               0.94   \n",
              "min                                               0.00   \n",
              "25%                                               0.00   \n",
              "50%                                               0.00   \n",
              "75%                                               1.00   \n",
              "max                                               5.00   \n",
              "\n",
              "       Payment History - # yrs ago last payment missed  Acceptance Score  \\\n",
              "count                                       2100000.00        2100000.00   \n",
              "mean                                              1.24              5.37   \n",
              "std                                               2.06              2.03   \n",
              "min                                               0.00              0.85   \n",
              "25%                                               0.00              3.20   \n",
              "50%                                               0.00              6.15   \n",
              "75%                                               1.00              7.00   \n",
              "max                                              10.00              9.85   \n",
              "\n",
              "       Final Decision  Acceptance Score 2  Final Decision 2  \\\n",
              "count      2100000.00          2100000.00        2100000.00   \n",
              "mean             0.25                5.35              0.10   \n",
              "std              0.43                1.24              0.29   \n",
              "min              0.00                0.86              0.00   \n",
              "25%              0.00                4.49              0.00   \n",
              "50%              0.00                5.36              0.00   \n",
              "75%              1.00                6.23              0.00   \n",
              "max              1.00                9.46              1.00   \n",
              "\n",
              "       (emp_status, Fulltime)  (emp_status, Parttime)  (emp_status, Student)  \\\n",
              "count              2100000.00              2100000.00             2100000.00   \n",
              "mean                     0.77                    0.10                   0.04   \n",
              "std                      0.42                    0.29                   0.19   \n",
              "min                      0.00                    0.00                   0.00   \n",
              "25%                      1.00                    0.00                   0.00   \n",
              "50%                      1.00                    0.00                   0.00   \n",
              "75%                      1.00                    0.00                   0.00   \n",
              "max                      1.00                    1.00                   1.00   \n",
              "\n",
              "       (emp_status, Unemployed)  (gender, F)  (gender, M)  \\\n",
              "count                2100000.00   2100000.00   2100000.00   \n",
              "mean                       0.10         0.50         0.50   \n",
              "std                        0.29         0.50         0.50   \n",
              "min                        0.00         0.00         0.00   \n",
              "25%                        0.00         0.00         0.00   \n",
              "50%                        0.00         0.00         1.00   \n",
              "75%                        0.00         1.00         1.00   \n",
              "max                        1.00         1.00         1.00   \n",
              "\n",
              "       (job_title, Administrative Support Worker)  (job_title, Craft Worker)  \\\n",
              "count                                  2100000.00                 2100000.00   \n",
              "mean                                         0.06                       0.06   \n",
              "std                                          0.25                       0.25   \n",
              "min                                          0.00                       0.00   \n",
              "25%                                          0.00                       0.00   \n",
              "50%                                          0.00                       0.00   \n",
              "75%                                          0.00                       0.00   \n",
              "max                                          1.00                       1.00   \n",
              "\n",
              "       (job_title, Executive/Senior Level Officials and Manager)  \\\n",
              "count                                                 2100000.00   \n",
              "mean                                                        0.05   \n",
              "std                                                         0.23   \n",
              "min                                                         0.00   \n",
              "25%                                                         0.00   \n",
              "50%                                                         0.00   \n",
              "75%                                                         0.00   \n",
              "max                                                         1.00   \n",
              "\n",
              "       (job_title, First/Mid Level Officials and Manager)  \\\n",
              "count                                          2100000.00   \n",
              "mean                                                 0.07   \n",
              "std                                                  0.25   \n",
              "min                                                  0.00   \n",
              "25%                                                  0.00   \n",
              "50%                                                  0.00   \n",
              "75%                                                  0.00   \n",
              "max                                                  1.00   \n",
              "\n",
              "       (job_title, Laborers and Helper)  (job_title, Operative)  \\\n",
              "count                        2100000.00              2100000.00   \n",
              "mean                               0.07                    0.06   \n",
              "std                                0.25                    0.25   \n",
              "min                                0.00                    0.00   \n",
              "25%                                0.00                    0.00   \n",
              "50%                                0.00                    0.00   \n",
              "75%                                0.00                    0.00   \n",
              "max                                1.00                    1.00   \n",
              "\n",
              "       (job_title, Professional)  (job_title, Sales Worker)  \\\n",
              "count                 2100000.00                 2100000.00   \n",
              "mean                        0.07                       0.06   \n",
              "std                         0.25                       0.25   \n",
              "min                         0.00                       0.00   \n",
              "25%                         0.00                       0.00   \n",
              "50%                         0.00                       0.00   \n",
              "75%                         0.00                       0.00   \n",
              "max                         1.00                       1.00   \n",
              "\n",
              "       (job_title, Service Worker)  (job_title, Technician)  \\\n",
              "count                   2100000.00               2100000.00   \n",
              "mean                          0.06                     0.07   \n",
              "std                           0.25                     0.25   \n",
              "min                           0.00                     0.00   \n",
              "25%                           0.00                     0.00   \n",
              "50%                           0.00                     0.00   \n",
              "75%                           0.00                     0.00   \n",
              "max                           1.00                     1.00   \n",
              "\n",
              "       (home_ownership, False)  (home_ownership, True)  (married, False)  \\\n",
              "count               2100000.00              2100000.00        2100000.00   \n",
              "mean                      0.50                    0.50              0.50   \n",
              "std                       0.50                    0.50              0.50   \n",
              "min                       0.00                    0.00              0.00   \n",
              "25%                       0.00                    0.00              0.00   \n",
              "50%                       0.00                    1.00              0.00   \n",
              "75%                       1.00                    1.00              1.00   \n",
              "max                       1.00                    1.00              1.00   \n",
              "\n",
              "       (married, True)  (children, False)  (children, True)  \\\n",
              "count       2100000.00         2100000.00        2100000.00   \n",
              "mean              0.50               0.50              0.50   \n",
              "std               0.50               0.50              0.50   \n",
              "min               0.00               0.00              0.00   \n",
              "25%               0.00               0.00              0.00   \n",
              "50%               1.00               1.00              0.00   \n",
              "75%               1.00               1.00              1.00   \n",
              "max               1.00               1.00              1.00   \n",
              "\n",
              "       (Home Ownership, Other)  (Home Ownership, Own)  (Home Ownership, Rent)  \n",
              "count               2100000.00             2100000.00              2100000.00  \n",
              "mean                      0.07                   0.43                    0.50  \n",
              "std                       0.26                   0.49                    0.50  \n",
              "min                       0.00                   0.00                    0.00  \n",
              "25%                       0.00                   0.00                    0.00  \n",
              "50%                       0.00                   0.00                    0.00  \n",
              "75%                       0.00                   1.00                    1.00  \n",
              "max                       1.00                   1.00                    1.00  "
            ]
          },
          "metadata": {
            "tags": []
          },
          "execution_count": 133
        }
      ]
    },
    {
      "cell_type": "code",
      "metadata": {
        "id": "Eom1EXZzwIGC",
        "colab_type": "code",
        "outputId": "6b2f675f-9d33-4f2d-92c2-af0cb581a868",
        "colab": {
          "base_uri": "https://localhost:8080/",
          "height": 411
        }
      },
      "source": [
        "test.describe()"
      ],
      "execution_count": 134,
      "outputs": [
        {
          "output_type": "execute_result",
          "data": {
            "text/html": [
              "<div>\n",
              "<style scoped>\n",
              "    .dataframe tbody tr th:only-of-type {\n",
              "        vertical-align: middle;\n",
              "    }\n",
              "\n",
              "    .dataframe tbody tr th {\n",
              "        vertical-align: top;\n",
              "    }\n",
              "\n",
              "    .dataframe thead th {\n",
              "        text-align: right;\n",
              "    }\n",
              "</style>\n",
              "<table border=\"1\" class=\"dataframe\">\n",
              "  <thead>\n",
              "    <tr style=\"text-align: right;\">\n",
              "      <th></th>\n",
              "      <th>id</th>\n",
              "      <th>empl_length</th>\n",
              "      <th>Loan Length</th>\n",
              "      <th>ed_level</th>\n",
              "      <th>annual_inc</th>\n",
              "      <th>Monthly Income</th>\n",
              "      <th>open_credit_lines</th>\n",
              "      <th>age</th>\n",
              "      <th>Zip Code</th>\n",
              "      <th>Debt/Income Ratio</th>\n",
              "      <th>Median Zipcode Price</th>\n",
              "      <th>Home_Value</th>\n",
              "      <th>Total Credit Limit</th>\n",
              "      <th>Credit Utilization</th>\n",
              "      <th>Years Home Owned</th>\n",
              "      <th>Home Equity</th>\n",
              "      <th>Loan_Amount</th>\n",
              "      <th>New Loan Monthly Cost Best Case</th>\n",
              "      <th>Total Credit Balance</th>\n",
              "      <th>Monthly Debt</th>\n",
              "      <th>Length of Credit History (avg credit lifespan in yrs)</th>\n",
              "      <th>Credit Mix (# of types of credit)</th>\n",
              "      <th>Recent Activity - Time since newest acct</th>\n",
              "      <th>Recent Activity - # accts applied in last year</th>\n",
              "      <th>Payment History - # payments currently past due</th>\n",
              "      <th>Payment History - # yrs ago last payment missed</th>\n",
              "      <th>Acceptance Score</th>\n",
              "      <th>Final Decision</th>\n",
              "      <th>Acceptance Score 2</th>\n",
              "      <th>Final Decision 2</th>\n",
              "      <th>(emp_status, Fulltime)</th>\n",
              "      <th>(emp_status, Parttime)</th>\n",
              "      <th>(emp_status, Student)</th>\n",
              "      <th>(emp_status, Unemployed)</th>\n",
              "      <th>(gender, F)</th>\n",
              "      <th>(gender, M)</th>\n",
              "      <th>(job_title, Administrative Support Worker)</th>\n",
              "      <th>(job_title, Craft Worker)</th>\n",
              "      <th>(job_title, Executive/Senior Level Officials and Manager)</th>\n",
              "      <th>(job_title, First/Mid Level Officials and Manager)</th>\n",
              "      <th>(job_title, Laborers and Helper)</th>\n",
              "      <th>(job_title, Operative)</th>\n",
              "      <th>(job_title, Professional)</th>\n",
              "      <th>(job_title, Sales Worker)</th>\n",
              "      <th>(job_title, Service Worker)</th>\n",
              "      <th>(job_title, Technician)</th>\n",
              "      <th>(home_ownership, False)</th>\n",
              "      <th>(home_ownership, True)</th>\n",
              "      <th>(married, False)</th>\n",
              "      <th>(married, True)</th>\n",
              "      <th>(children, False)</th>\n",
              "      <th>(children, True)</th>\n",
              "      <th>(Home Ownership, Other)</th>\n",
              "      <th>(Home Ownership, Own)</th>\n",
              "      <th>(Home Ownership, Rent)</th>\n",
              "    </tr>\n",
              "  </thead>\n",
              "  <tbody>\n",
              "    <tr>\n",
              "      <th>count</th>\n",
              "      <td>900000.00</td>\n",
              "      <td>900000.00</td>\n",
              "      <td>900000.00</td>\n",
              "      <td>900000.00</td>\n",
              "      <td>900000.00</td>\n",
              "      <td>900000.00</td>\n",
              "      <td>900000.00</td>\n",
              "      <td>900000.00</td>\n",
              "      <td>900000.00</td>\n",
              "      <td>900000.00</td>\n",
              "      <td>900000.00</td>\n",
              "      <td>900000.00</td>\n",
              "      <td>900000.00</td>\n",
              "      <td>900000.00</td>\n",
              "      <td>900000.00</td>\n",
              "      <td>900000.00</td>\n",
              "      <td>900000.00</td>\n",
              "      <td>900000.00</td>\n",
              "      <td>900000.00</td>\n",
              "      <td>900000.00</td>\n",
              "      <td>900000.00</td>\n",
              "      <td>900000.00</td>\n",
              "      <td>900000.00</td>\n",
              "      <td>900000.00</td>\n",
              "      <td>900000.00</td>\n",
              "      <td>900000.00</td>\n",
              "      <td>900000.00</td>\n",
              "      <td>900000.00</td>\n",
              "      <td>900000.00</td>\n",
              "      <td>900000.00</td>\n",
              "      <td>900000.00</td>\n",
              "      <td>900000.00</td>\n",
              "      <td>900000.00</td>\n",
              "      <td>900000.00</td>\n",
              "      <td>900000.00</td>\n",
              "      <td>900000.00</td>\n",
              "      <td>900000.00</td>\n",
              "      <td>900000.00</td>\n",
              "      <td>900000.00</td>\n",
              "      <td>900000.00</td>\n",
              "      <td>900000.00</td>\n",
              "      <td>900000.00</td>\n",
              "      <td>900000.00</td>\n",
              "      <td>900000.00</td>\n",
              "      <td>900000.00</td>\n",
              "      <td>900000.00</td>\n",
              "      <td>900000.00</td>\n",
              "      <td>900000.00</td>\n",
              "      <td>900000.00</td>\n",
              "      <td>900000.00</td>\n",
              "      <td>900000.00</td>\n",
              "      <td>900000.00</td>\n",
              "      <td>900000.00</td>\n",
              "      <td>900000.00</td>\n",
              "      <td>900000.00</td>\n",
              "    </tr>\n",
              "    <tr>\n",
              "      <th>mean</th>\n",
              "      <td>1499733.17</td>\n",
              "      <td>8.14</td>\n",
              "      <td>32.27</td>\n",
              "      <td>3.00</td>\n",
              "      <td>63709.84</td>\n",
              "      <td>6809.39</td>\n",
              "      <td>2.50</td>\n",
              "      <td>44.50</td>\n",
              "      <td>50515.48</td>\n",
              "      <td>0.32</td>\n",
              "      <td>235970.66</td>\n",
              "      <td>100842.33</td>\n",
              "      <td>8620.71</td>\n",
              "      <td>0.10</td>\n",
              "      <td>2.96</td>\n",
              "      <td>23224.45</td>\n",
              "      <td>20996.78</td>\n",
              "      <td>924.97</td>\n",
              "      <td>1064.90</td>\n",
              "      <td>2150.76</td>\n",
              "      <td>12.01</td>\n",
              "      <td>1.83</td>\n",
              "      <td>9.66</td>\n",
              "      <td>0.54</td>\n",
              "      <td>0.47</td>\n",
              "      <td>1.24</td>\n",
              "      <td>5.37</td>\n",
              "      <td>0.25</td>\n",
              "      <td>5.35</td>\n",
              "      <td>0.10</td>\n",
              "      <td>0.77</td>\n",
              "      <td>0.10</td>\n",
              "      <td>0.04</td>\n",
              "      <td>0.10</td>\n",
              "      <td>0.50</td>\n",
              "      <td>0.50</td>\n",
              "      <td>0.06</td>\n",
              "      <td>0.07</td>\n",
              "      <td>0.05</td>\n",
              "      <td>0.06</td>\n",
              "      <td>0.06</td>\n",
              "      <td>0.07</td>\n",
              "      <td>0.06</td>\n",
              "      <td>0.07</td>\n",
              "      <td>0.07</td>\n",
              "      <td>0.07</td>\n",
              "      <td>0.50</td>\n",
              "      <td>0.50</td>\n",
              "      <td>0.50</td>\n",
              "      <td>0.50</td>\n",
              "      <td>0.50</td>\n",
              "      <td>0.50</td>\n",
              "      <td>0.07</td>\n",
              "      <td>0.43</td>\n",
              "      <td>0.50</td>\n",
              "    </tr>\n",
              "    <tr>\n",
              "      <th>std</th>\n",
              "      <td>866096.23</td>\n",
              "      <td>8.11</td>\n",
              "      <td>15.63</td>\n",
              "      <td>1.41</td>\n",
              "      <td>56416.34</td>\n",
              "      <td>4679.50</td>\n",
              "      <td>1.71</td>\n",
              "      <td>12.12</td>\n",
              "      <td>30183.10</td>\n",
              "      <td>0.50</td>\n",
              "      <td>199268.47</td>\n",
              "      <td>184004.56</td>\n",
              "      <td>14546.44</td>\n",
              "      <td>0.11</td>\n",
              "      <td>4.58</td>\n",
              "      <td>53469.32</td>\n",
              "      <td>4994.50</td>\n",
              "      <td>586.47</td>\n",
              "      <td>2578.03</td>\n",
              "      <td>4381.07</td>\n",
              "      <td>9.78</td>\n",
              "      <td>1.36</td>\n",
              "      <td>8.44</td>\n",
              "      <td>0.73</td>\n",
              "      <td>0.94</td>\n",
              "      <td>2.07</td>\n",
              "      <td>2.03</td>\n",
              "      <td>0.43</td>\n",
              "      <td>1.25</td>\n",
              "      <td>0.29</td>\n",
              "      <td>0.42</td>\n",
              "      <td>0.29</td>\n",
              "      <td>0.19</td>\n",
              "      <td>0.29</td>\n",
              "      <td>0.50</td>\n",
              "      <td>0.50</td>\n",
              "      <td>0.25</td>\n",
              "      <td>0.25</td>\n",
              "      <td>0.23</td>\n",
              "      <td>0.25</td>\n",
              "      <td>0.25</td>\n",
              "      <td>0.25</td>\n",
              "      <td>0.25</td>\n",
              "      <td>0.25</td>\n",
              "      <td>0.25</td>\n",
              "      <td>0.25</td>\n",
              "      <td>0.50</td>\n",
              "      <td>0.50</td>\n",
              "      <td>0.50</td>\n",
              "      <td>0.50</td>\n",
              "      <td>0.50</td>\n",
              "      <td>0.50</td>\n",
              "      <td>0.26</td>\n",
              "      <td>0.49</td>\n",
              "      <td>0.50</td>\n",
              "    </tr>\n",
              "    <tr>\n",
              "      <th>min</th>\n",
              "      <td>1.00</td>\n",
              "      <td>0.00</td>\n",
              "      <td>12.00</td>\n",
              "      <td>1.00</td>\n",
              "      <td>0.00</td>\n",
              "      <td>2083.33</td>\n",
              "      <td>0.00</td>\n",
              "      <td>24.00</td>\n",
              "      <td>501.00</td>\n",
              "      <td>0.00</td>\n",
              "      <td>11266.00</td>\n",
              "      <td>0.00</td>\n",
              "      <td>0.00</td>\n",
              "      <td>0.00</td>\n",
              "      <td>0.00</td>\n",
              "      <td>0.00</td>\n",
              "      <td>1020.00</td>\n",
              "      <td>22.34</td>\n",
              "      <td>0.00</td>\n",
              "      <td>0.00</td>\n",
              "      <td>0.00</td>\n",
              "      <td>0.00</td>\n",
              "      <td>0.00</td>\n",
              "      <td>0.00</td>\n",
              "      <td>0.00</td>\n",
              "      <td>0.00</td>\n",
              "      <td>0.85</td>\n",
              "      <td>0.00</td>\n",
              "      <td>0.86</td>\n",
              "      <td>0.00</td>\n",
              "      <td>0.00</td>\n",
              "      <td>0.00</td>\n",
              "      <td>0.00</td>\n",
              "      <td>0.00</td>\n",
              "      <td>0.00</td>\n",
              "      <td>0.00</td>\n",
              "      <td>0.00</td>\n",
              "      <td>0.00</td>\n",
              "      <td>0.00</td>\n",
              "      <td>0.00</td>\n",
              "      <td>0.00</td>\n",
              "      <td>0.00</td>\n",
              "      <td>0.00</td>\n",
              "      <td>0.00</td>\n",
              "      <td>0.00</td>\n",
              "      <td>0.00</td>\n",
              "      <td>0.00</td>\n",
              "      <td>0.00</td>\n",
              "      <td>0.00</td>\n",
              "      <td>0.00</td>\n",
              "      <td>0.00</td>\n",
              "      <td>0.00</td>\n",
              "      <td>0.00</td>\n",
              "      <td>0.00</td>\n",
              "      <td>0.00</td>\n",
              "    </tr>\n",
              "    <tr>\n",
              "      <th>25%</th>\n",
              "      <td>749358.50</td>\n",
              "      <td>0.00</td>\n",
              "      <td>17.00</td>\n",
              "      <td>2.00</td>\n",
              "      <td>28505.75</td>\n",
              "      <td>3666.67</td>\n",
              "      <td>1.00</td>\n",
              "      <td>34.00</td>\n",
              "      <td>25302.00</td>\n",
              "      <td>0.01</td>\n",
              "      <td>116573.00</td>\n",
              "      <td>0.00</td>\n",
              "      <td>483.30</td>\n",
              "      <td>0.01</td>\n",
              "      <td>0.00</td>\n",
              "      <td>0.00</td>\n",
              "      <td>17630.00</td>\n",
              "      <td>477.90</td>\n",
              "      <td>15.00</td>\n",
              "      <td>60.00</td>\n",
              "      <td>3.00</td>\n",
              "      <td>1.00</td>\n",
              "      <td>2.00</td>\n",
              "      <td>0.00</td>\n",
              "      <td>0.00</td>\n",
              "      <td>0.00</td>\n",
              "      <td>3.20</td>\n",
              "      <td>0.00</td>\n",
              "      <td>4.49</td>\n",
              "      <td>0.00</td>\n",
              "      <td>1.00</td>\n",
              "      <td>0.00</td>\n",
              "      <td>0.00</td>\n",
              "      <td>0.00</td>\n",
              "      <td>0.00</td>\n",
              "      <td>0.00</td>\n",
              "      <td>0.00</td>\n",
              "      <td>0.00</td>\n",
              "      <td>0.00</td>\n",
              "      <td>0.00</td>\n",
              "      <td>0.00</td>\n",
              "      <td>0.00</td>\n",
              "      <td>0.00</td>\n",
              "      <td>0.00</td>\n",
              "      <td>0.00</td>\n",
              "      <td>0.00</td>\n",
              "      <td>0.00</td>\n",
              "      <td>0.00</td>\n",
              "      <td>0.00</td>\n",
              "      <td>0.00</td>\n",
              "      <td>0.00</td>\n",
              "      <td>0.00</td>\n",
              "      <td>0.00</td>\n",
              "      <td>0.00</td>\n",
              "      <td>0.00</td>\n",
              "    </tr>\n",
              "    <tr>\n",
              "      <th>50%</th>\n",
              "      <td>1499473.50</td>\n",
              "      <td>7.00</td>\n",
              "      <td>32.00</td>\n",
              "      <td>3.00</td>\n",
              "      <td>46065.00</td>\n",
              "      <td>5250.00</td>\n",
              "      <td>3.00</td>\n",
              "      <td>45.00</td>\n",
              "      <td>52405.00</td>\n",
              "      <td>0.11</td>\n",
              "      <td>186172.00</td>\n",
              "      <td>0.00</td>\n",
              "      <td>3388.50</td>\n",
              "      <td>0.06</td>\n",
              "      <td>0.00</td>\n",
              "      <td>0.00</td>\n",
              "      <td>20990.00</td>\n",
              "      <td>705.96</td>\n",
              "      <td>208.00</td>\n",
              "      <td>600.00</td>\n",
              "      <td>11.00</td>\n",
              "      <td>2.00</td>\n",
              "      <td>8.00</td>\n",
              "      <td>0.00</td>\n",
              "      <td>0.00</td>\n",
              "      <td>0.00</td>\n",
              "      <td>6.15</td>\n",
              "      <td>0.00</td>\n",
              "      <td>5.36</td>\n",
              "      <td>0.00</td>\n",
              "      <td>1.00</td>\n",
              "      <td>0.00</td>\n",
              "      <td>0.00</td>\n",
              "      <td>0.00</td>\n",
              "      <td>0.00</td>\n",
              "      <td>1.00</td>\n",
              "      <td>0.00</td>\n",
              "      <td>0.00</td>\n",
              "      <td>0.00</td>\n",
              "      <td>0.00</td>\n",
              "      <td>0.00</td>\n",
              "      <td>0.00</td>\n",
              "      <td>0.00</td>\n",
              "      <td>0.00</td>\n",
              "      <td>0.00</td>\n",
              "      <td>0.00</td>\n",
              "      <td>1.00</td>\n",
              "      <td>0.00</td>\n",
              "      <td>1.00</td>\n",
              "      <td>0.00</td>\n",
              "      <td>0.00</td>\n",
              "      <td>1.00</td>\n",
              "      <td>0.00</td>\n",
              "      <td>0.00</td>\n",
              "      <td>1.00</td>\n",
              "    </tr>\n",
              "    <tr>\n",
              "      <th>75%</th>\n",
              "      <td>2249692.75</td>\n",
              "      <td>14.00</td>\n",
              "      <td>46.00</td>\n",
              "      <td>4.00</td>\n",
              "      <td>86950.00</td>\n",
              "      <td>7000.00</td>\n",
              "      <td>4.00</td>\n",
              "      <td>55.00</td>\n",
              "      <td>76633.00</td>\n",
              "      <td>0.40</td>\n",
              "      <td>286718.00</td>\n",
              "      <td>151489.25</td>\n",
              "      <td>10378.80</td>\n",
              "      <td>0.16</td>\n",
              "      <td>5.00</td>\n",
              "      <td>25611.25</td>\n",
              "      <td>24360.00</td>\n",
              "      <td>1260.09</td>\n",
              "      <td>966.00</td>\n",
              "      <td>2276.00</td>\n",
              "      <td>20.00</td>\n",
              "      <td>3.00</td>\n",
              "      <td>15.00</td>\n",
              "      <td>1.00</td>\n",
              "      <td>1.00</td>\n",
              "      <td>1.00</td>\n",
              "      <td>7.00</td>\n",
              "      <td>1.00</td>\n",
              "      <td>6.23</td>\n",
              "      <td>0.00</td>\n",
              "      <td>1.00</td>\n",
              "      <td>0.00</td>\n",
              "      <td>0.00</td>\n",
              "      <td>0.00</td>\n",
              "      <td>1.00</td>\n",
              "      <td>1.00</td>\n",
              "      <td>0.00</td>\n",
              "      <td>0.00</td>\n",
              "      <td>0.00</td>\n",
              "      <td>0.00</td>\n",
              "      <td>0.00</td>\n",
              "      <td>0.00</td>\n",
              "      <td>0.00</td>\n",
              "      <td>0.00</td>\n",
              "      <td>0.00</td>\n",
              "      <td>0.00</td>\n",
              "      <td>1.00</td>\n",
              "      <td>1.00</td>\n",
              "      <td>1.00</td>\n",
              "      <td>1.00</td>\n",
              "      <td>1.00</td>\n",
              "      <td>1.00</td>\n",
              "      <td>0.00</td>\n",
              "      <td>1.00</td>\n",
              "      <td>1.00</td>\n",
              "    </tr>\n",
              "    <tr>\n",
              "      <th>max</th>\n",
              "      <td>2999998.00</td>\n",
              "      <td>29.00</td>\n",
              "      <td>60.00</td>\n",
              "      <td>5.00</td>\n",
              "      <td>249998.00</td>\n",
              "      <td>20833.33</td>\n",
              "      <td>5.00</td>\n",
              "      <td>65.00</td>\n",
              "      <td>99901.00</td>\n",
              "      <td>4.88</td>\n",
              "      <td>5498365.00</td>\n",
              "      <td>8143881.00</td>\n",
              "      <td>197559.00</td>\n",
              "      <td>0.49</td>\n",
              "      <td>17.00</td>\n",
              "      <td>2251903.47</td>\n",
              "      <td>45120.00</td>\n",
              "      <td>3977.65</td>\n",
              "      <td>87566.00</td>\n",
              "      <td>92794.00</td>\n",
              "      <td>41.00</td>\n",
              "      <td>5.00</td>\n",
              "      <td>41.00</td>\n",
              "      <td>4.00</td>\n",
              "      <td>5.00</td>\n",
              "      <td>10.00</td>\n",
              "      <td>10.00</td>\n",
              "      <td>1.00</td>\n",
              "      <td>9.56</td>\n",
              "      <td>1.00</td>\n",
              "      <td>1.00</td>\n",
              "      <td>1.00</td>\n",
              "      <td>1.00</td>\n",
              "      <td>1.00</td>\n",
              "      <td>1.00</td>\n",
              "      <td>1.00</td>\n",
              "      <td>1.00</td>\n",
              "      <td>1.00</td>\n",
              "      <td>1.00</td>\n",
              "      <td>1.00</td>\n",
              "      <td>1.00</td>\n",
              "      <td>1.00</td>\n",
              "      <td>1.00</td>\n",
              "      <td>1.00</td>\n",
              "      <td>1.00</td>\n",
              "      <td>1.00</td>\n",
              "      <td>1.00</td>\n",
              "      <td>1.00</td>\n",
              "      <td>1.00</td>\n",
              "      <td>1.00</td>\n",
              "      <td>1.00</td>\n",
              "      <td>1.00</td>\n",
              "      <td>1.00</td>\n",
              "      <td>1.00</td>\n",
              "      <td>1.00</td>\n",
              "    </tr>\n",
              "  </tbody>\n",
              "</table>\n",
              "</div>"
            ],
            "text/plain": [
              "              id  empl_length  Loan Length  ed_level  annual_inc  \\\n",
              "count  900000.00    900000.00    900000.00 900000.00   900000.00   \n",
              "mean  1499733.17         8.14        32.27      3.00    63709.84   \n",
              "std    866096.23         8.11        15.63      1.41    56416.34   \n",
              "min         1.00         0.00        12.00      1.00        0.00   \n",
              "25%    749358.50         0.00        17.00      2.00    28505.75   \n",
              "50%   1499473.50         7.00        32.00      3.00    46065.00   \n",
              "75%   2249692.75        14.00        46.00      4.00    86950.00   \n",
              "max   2999998.00        29.00        60.00      5.00   249998.00   \n",
              "\n",
              "       Monthly Income  open_credit_lines       age  Zip Code  \\\n",
              "count       900000.00          900000.00 900000.00 900000.00   \n",
              "mean          6809.39               2.50     44.50  50515.48   \n",
              "std           4679.50               1.71     12.12  30183.10   \n",
              "min           2083.33               0.00     24.00    501.00   \n",
              "25%           3666.67               1.00     34.00  25302.00   \n",
              "50%           5250.00               3.00     45.00  52405.00   \n",
              "75%           7000.00               4.00     55.00  76633.00   \n",
              "max          20833.33               5.00     65.00  99901.00   \n",
              "\n",
              "       Debt/Income Ratio  Median Zipcode Price  Home_Value  \\\n",
              "count          900000.00             900000.00   900000.00   \n",
              "mean                0.32             235970.66   100842.33   \n",
              "std                 0.50             199268.47   184004.56   \n",
              "min                 0.00              11266.00        0.00   \n",
              "25%                 0.01             116573.00        0.00   \n",
              "50%                 0.11             186172.00        0.00   \n",
              "75%                 0.40             286718.00   151489.25   \n",
              "max                 4.88            5498365.00  8143881.00   \n",
              "\n",
              "       Total Credit Limit  Credit Utilization  Years Home Owned  Home Equity  \\\n",
              "count           900000.00           900000.00         900000.00    900000.00   \n",
              "mean              8620.71                0.10              2.96     23224.45   \n",
              "std              14546.44                0.11              4.58     53469.32   \n",
              "min                  0.00                0.00              0.00         0.00   \n",
              "25%                483.30                0.01              0.00         0.00   \n",
              "50%               3388.50                0.06              0.00         0.00   \n",
              "75%              10378.80                0.16              5.00     25611.25   \n",
              "max             197559.00                0.49             17.00   2251903.47   \n",
              "\n",
              "       Loan_Amount  New Loan Monthly Cost Best Case  Total Credit Balance  \\\n",
              "count    900000.00                        900000.00             900000.00   \n",
              "mean      20996.78                           924.97               1064.90   \n",
              "std        4994.50                           586.47               2578.03   \n",
              "min        1020.00                            22.34                  0.00   \n",
              "25%       17630.00                           477.90                 15.00   \n",
              "50%       20990.00                           705.96                208.00   \n",
              "75%       24360.00                          1260.09                966.00   \n",
              "max       45120.00                          3977.65              87566.00   \n",
              "\n",
              "       Monthly Debt  Length of Credit History (avg credit lifespan in yrs)  \\\n",
              "count     900000.00                                              900000.00   \n",
              "mean        2150.76                                                  12.01   \n",
              "std         4381.07                                                   9.78   \n",
              "min            0.00                                                   0.00   \n",
              "25%           60.00                                                   3.00   \n",
              "50%          600.00                                                  11.00   \n",
              "75%         2276.00                                                  20.00   \n",
              "max        92794.00                                                  41.00   \n",
              "\n",
              "       Credit Mix (# of types of credit)  \\\n",
              "count                          900000.00   \n",
              "mean                                1.83   \n",
              "std                                 1.36   \n",
              "min                                 0.00   \n",
              "25%                                 1.00   \n",
              "50%                                 2.00   \n",
              "75%                                 3.00   \n",
              "max                                 5.00   \n",
              "\n",
              "       Recent Activity - Time since newest acct  \\\n",
              "count                                 900000.00   \n",
              "mean                                       9.66   \n",
              "std                                        8.44   \n",
              "min                                        0.00   \n",
              "25%                                        2.00   \n",
              "50%                                        8.00   \n",
              "75%                                       15.00   \n",
              "max                                       41.00   \n",
              "\n",
              "       Recent Activity - # accts applied in last year  \\\n",
              "count                                       900000.00   \n",
              "mean                                             0.54   \n",
              "std                                              0.73   \n",
              "min                                              0.00   \n",
              "25%                                              0.00   \n",
              "50%                                              0.00   \n",
              "75%                                              1.00   \n",
              "max                                              4.00   \n",
              "\n",
              "       Payment History - # payments currently past due  \\\n",
              "count                                        900000.00   \n",
              "mean                                              0.47   \n",
              "std                                               0.94   \n",
              "min                                               0.00   \n",
              "25%                                               0.00   \n",
              "50%                                               0.00   \n",
              "75%                                               1.00   \n",
              "max                                               5.00   \n",
              "\n",
              "       Payment History - # yrs ago last payment missed  Acceptance Score  \\\n",
              "count                                        900000.00         900000.00   \n",
              "mean                                              1.24              5.37   \n",
              "std                                               2.07              2.03   \n",
              "min                                               0.00              0.85   \n",
              "25%                                               0.00              3.20   \n",
              "50%                                               0.00              6.15   \n",
              "75%                                               1.00              7.00   \n",
              "max                                              10.00             10.00   \n",
              "\n",
              "       Final Decision  Acceptance Score 2  Final Decision 2  \\\n",
              "count       900000.00           900000.00         900000.00   \n",
              "mean             0.25                5.35              0.10   \n",
              "std              0.43                1.25              0.29   \n",
              "min              0.00                0.86              0.00   \n",
              "25%              0.00                4.49              0.00   \n",
              "50%              0.00                5.36              0.00   \n",
              "75%              1.00                6.23              0.00   \n",
              "max              1.00                9.56              1.00   \n",
              "\n",
              "       (emp_status, Fulltime)  (emp_status, Parttime)  (emp_status, Student)  \\\n",
              "count               900000.00               900000.00              900000.00   \n",
              "mean                     0.77                    0.10                   0.04   \n",
              "std                      0.42                    0.29                   0.19   \n",
              "min                      0.00                    0.00                   0.00   \n",
              "25%                      1.00                    0.00                   0.00   \n",
              "50%                      1.00                    0.00                   0.00   \n",
              "75%                      1.00                    0.00                   0.00   \n",
              "max                      1.00                    1.00                   1.00   \n",
              "\n",
              "       (emp_status, Unemployed)  (gender, F)  (gender, M)  \\\n",
              "count                 900000.00    900000.00    900000.00   \n",
              "mean                       0.10         0.50         0.50   \n",
              "std                        0.29         0.50         0.50   \n",
              "min                        0.00         0.00         0.00   \n",
              "25%                        0.00         0.00         0.00   \n",
              "50%                        0.00         0.00         1.00   \n",
              "75%                        0.00         1.00         1.00   \n",
              "max                        1.00         1.00         1.00   \n",
              "\n",
              "       (job_title, Administrative Support Worker)  (job_title, Craft Worker)  \\\n",
              "count                                   900000.00                  900000.00   \n",
              "mean                                         0.06                       0.07   \n",
              "std                                          0.25                       0.25   \n",
              "min                                          0.00                       0.00   \n",
              "25%                                          0.00                       0.00   \n",
              "50%                                          0.00                       0.00   \n",
              "75%                                          0.00                       0.00   \n",
              "max                                          1.00                       1.00   \n",
              "\n",
              "       (job_title, Executive/Senior Level Officials and Manager)  \\\n",
              "count                                                  900000.00   \n",
              "mean                                                        0.05   \n",
              "std                                                         0.23   \n",
              "min                                                         0.00   \n",
              "25%                                                         0.00   \n",
              "50%                                                         0.00   \n",
              "75%                                                         0.00   \n",
              "max                                                         1.00   \n",
              "\n",
              "       (job_title, First/Mid Level Officials and Manager)  \\\n",
              "count                                           900000.00   \n",
              "mean                                                 0.06   \n",
              "std                                                  0.25   \n",
              "min                                                  0.00   \n",
              "25%                                                  0.00   \n",
              "50%                                                  0.00   \n",
              "75%                                                  0.00   \n",
              "max                                                  1.00   \n",
              "\n",
              "       (job_title, Laborers and Helper)  (job_title, Operative)  \\\n",
              "count                         900000.00               900000.00   \n",
              "mean                               0.06                    0.07   \n",
              "std                                0.25                    0.25   \n",
              "min                                0.00                    0.00   \n",
              "25%                                0.00                    0.00   \n",
              "50%                                0.00                    0.00   \n",
              "75%                                0.00                    0.00   \n",
              "max                                1.00                    1.00   \n",
              "\n",
              "       (job_title, Professional)  (job_title, Sales Worker)  \\\n",
              "count                  900000.00                  900000.00   \n",
              "mean                        0.06                       0.07   \n",
              "std                         0.25                       0.25   \n",
              "min                         0.00                       0.00   \n",
              "25%                         0.00                       0.00   \n",
              "50%                         0.00                       0.00   \n",
              "75%                         0.00                       0.00   \n",
              "max                         1.00                       1.00   \n",
              "\n",
              "       (job_title, Service Worker)  (job_title, Technician)  \\\n",
              "count                    900000.00                900000.00   \n",
              "mean                          0.07                     0.07   \n",
              "std                           0.25                     0.25   \n",
              "min                           0.00                     0.00   \n",
              "25%                           0.00                     0.00   \n",
              "50%                           0.00                     0.00   \n",
              "75%                           0.00                     0.00   \n",
              "max                           1.00                     1.00   \n",
              "\n",
              "       (home_ownership, False)  (home_ownership, True)  (married, False)  \\\n",
              "count                900000.00               900000.00         900000.00   \n",
              "mean                      0.50                    0.50              0.50   \n",
              "std                       0.50                    0.50              0.50   \n",
              "min                       0.00                    0.00              0.00   \n",
              "25%                       0.00                    0.00              0.00   \n",
              "50%                       1.00                    0.00              1.00   \n",
              "75%                       1.00                    1.00              1.00   \n",
              "max                       1.00                    1.00              1.00   \n",
              "\n",
              "       (married, True)  (children, False)  (children, True)  \\\n",
              "count        900000.00          900000.00         900000.00   \n",
              "mean              0.50               0.50              0.50   \n",
              "std               0.50               0.50              0.50   \n",
              "min               0.00               0.00              0.00   \n",
              "25%               0.00               0.00              0.00   \n",
              "50%               0.00               0.00              1.00   \n",
              "75%               1.00               1.00              1.00   \n",
              "max               1.00               1.00              1.00   \n",
              "\n",
              "       (Home Ownership, Other)  (Home Ownership, Own)  (Home Ownership, Rent)  \n",
              "count                900000.00              900000.00               900000.00  \n",
              "mean                      0.07                   0.43                    0.50  \n",
              "std                       0.26                   0.49                    0.50  \n",
              "min                       0.00                   0.00                    0.00  \n",
              "25%                       0.00                   0.00                    0.00  \n",
              "50%                       0.00                   0.00                    1.00  \n",
              "75%                       0.00                   1.00                    1.00  \n",
              "max                       1.00                   1.00                    1.00  "
            ]
          },
          "metadata": {
            "tags": []
          },
          "execution_count": 134
        }
      ]
    },
    {
      "cell_type": "code",
      "metadata": {
        "id": "5VS4t9x67cIu",
        "colab_type": "code",
        "colab": {}
      },
      "source": [
        "X_train = train.drop(['Acceptance Score','Final Decision','id','Zip Code','race','ssn','State','Metro','Acceptance Score 2','Final Decision 2'],axis=1).values\n",
        "Y_train = train['Final Decision 2'].values\n",
        "X_test = test.drop(['Acceptance Score','Final Decision','id','Zip Code','race','ssn','State','Metro','Acceptance Score 2','Final Decision 2'],axis=1).values\n",
        "y_test = test['Final Decision 2'].values"
      ],
      "execution_count": 0,
      "outputs": []
    },
    {
      "cell_type": "code",
      "metadata": {
        "id": "5_KKSNDdwlsV",
        "colab_type": "code",
        "colab": {}
      },
      "source": [
        "X_train_nocredit = train.drop(['Acceptance Score','Final Decision','id','Zip Code','race','ssn','State','Metro','Acceptance Score 2','Final Decision 2',\n",
        "                               'Length of Credit History (avg credit lifespan in yrs)',\n",
        "                                'Credit Mix (# of types of credit)',\n",
        "                                'Recent Activity - Time since newest acct',\n",
        "                                'Recent Activity - # accts applied in last year',\n",
        "                                'Payment History - # payments currently past due',\n",
        "                                'Payment History - # yrs ago last payment missed',\n",
        "                                'Payment History -  Bankruptcy/Reposession/Acct_in_Collection in past'],axis=1).values\n",
        "Y_train_nocredit = train['Final Decision 2'].values\n",
        "X_test_nocredit = test.drop(['Acceptance Score','Final Decision','id','Zip Code','race','ssn','State','Metro','Acceptance Score 2','Final Decision 2','Length of Credit History (avg credit lifespan in yrs)',\n",
        "                              'Credit Mix (# of types of credit)',\n",
        "                              'Recent Activity - Time since newest acct',\n",
        "                              'Recent Activity - # accts applied in last year',\n",
        "                              'Payment History - # payments currently past due',\n",
        "                              'Payment History - # yrs ago last payment missed',\n",
        "                              'Payment History -  Bankruptcy/Reposession/Acct_in_Collection in past'],axis=1).values\n",
        "y_test_nocredit = test['Final Decision 2'].values"
      ],
      "execution_count": 0,
      "outputs": []
    },
    {
      "cell_type": "code",
      "metadata": {
        "id": "VAoYZ4ff0qtY",
        "colab_type": "code",
        "outputId": "0576b61b-46ef-488c-8089-da9b2deaa0f7",
        "colab": {
          "base_uri": "https://localhost:8080/",
          "height": 131
        }
      },
      "source": [
        "X_train"
      ],
      "execution_count": 137,
      "outputs": [
        {
          "output_type": "execute_result",
          "data": {
            "text/plain": [
              "array([[17, 16, 3, ..., 0, 0, 1],\n",
              "       [6, 15, 2, ..., 0, 1, 0],\n",
              "       [7, 15, 3, ..., 0, 0, 1],\n",
              "       ...,\n",
              "       [27, 57, 5, ..., 0, 0, 1],\n",
              "       [4, 45, 1, ..., 0, 1, 0],\n",
              "       [0, 32, 1, ..., 0, 0, 1]], dtype=object)"
            ]
          },
          "metadata": {
            "tags": []
          },
          "execution_count": 137
        }
      ]
    },
    {
      "cell_type": "markdown",
      "metadata": {
        "id": "IUR0DZ0_maWh",
        "colab_type": "text"
      },
      "source": [
        "# Training XGBoost model"
      ]
    },
    {
      "cell_type": "code",
      "metadata": {
        "id": "1ANpmXv_xsXi",
        "colab_type": "code",
        "colab": {}
      },
      "source": [
        "model_nocredit = XGBClassifier()"
      ],
      "execution_count": 0,
      "outputs": []
    },
    {
      "cell_type": "markdown",
      "metadata": {
        "id": "a3QMZkZZqF6d",
        "colab_type": "text"
      },
      "source": [
        "Time is in seconds below..."
      ]
    },
    {
      "cell_type": "code",
      "metadata": {
        "id": "fU0PLrVNxxM0",
        "colab_type": "code",
        "outputId": "5b51bef9-8752-43d4-8f65-d1316f2c809b",
        "colab": {
          "base_uri": "https://localhost:8080/",
          "height": 131
        }
      },
      "source": [
        "start = time.time()\n",
        "print(\"Starting Training...\\n\")\n",
        "model_nocredit.fit(X_train_nocredit,Y_train_nocredit)\n",
        "print(\"------------------------------------------------\\nDone!\\n\\nElapsed Time: \")\n",
        "end = time.time()\n",
        "print(end - start)"
      ],
      "execution_count": 150,
      "outputs": [
        {
          "output_type": "stream",
          "text": [
            "Starting Training...\n",
            "\n",
            "------------------------------------------------\n",
            "Done!\n",
            "\n",
            "Elapsed Time: \n",
            "371.32266306877136\n"
          ],
          "name": "stdout"
        }
      ]
    },
    {
      "cell_type": "code",
      "metadata": {
        "id": "Eb9wSRG9x2Q-",
        "colab_type": "code",
        "colab": {}
      },
      "source": [
        "Y_pred_nocredit = model_nocredit.predict(X_test_nocredit)"
      ],
      "execution_count": 0,
      "outputs": []
    },
    {
      "cell_type": "code",
      "metadata": {
        "id": "rkxRQgzSyPX9",
        "colab_type": "code",
        "outputId": "71dbc97a-ecce-4094-f94e-759e1609bd48",
        "colab": {
          "base_uri": "https://localhost:8080/",
          "height": 33
        }
      },
      "source": [
        "acc = accuracy_score(y_test_nocredit,Y_pred_nocredit)\n",
        "print(\"Accuracy: %.2f\" % (acc*100),'%')"
      ],
      "execution_count": 152,
      "outputs": [
        {
          "output_type": "stream",
          "text": [
            "Accuracy: 97.18 %\n"
          ],
          "name": "stdout"
        }
      ]
    },
    {
      "cell_type": "code",
      "metadata": {
        "id": "K4myh2kIqv2c",
        "colab_type": "code",
        "colab": {
          "base_uri": "https://localhost:8080/",
          "height": 82
        },
        "outputId": "5b38c3d8-6ba9-460b-a0a5-e477d4a847d7"
      },
      "source": [
        "xgg_pred = pd.DataFrame(Y_pred_nocredit)\n",
        "xgg_pred = xgg_pred.rename(columns={0:\"XGB Decision\"})\n",
        "xgg_pred.groupby('XGB Decision')['XGB Decision'].count()"
      ],
      "execution_count": 173,
      "outputs": [
        {
          "output_type": "execute_result",
          "data": {
            "text/plain": [
              "XGB Decision\n",
              "0    829184\n",
              "1     70816\n",
              "Name: XGB Decision, dtype: int64"
            ]
          },
          "metadata": {
            "tags": []
          },
          "execution_count": 173
        }
      ]
    },
    {
      "cell_type": "code",
      "metadata": {
        "id": "6XoZ1ca-r_VR",
        "colab_type": "code",
        "colab": {}
      },
      "source": [
        "pred_act = pd.concat([xgg_pred,test['Final Decision 2']],axis=1)"
      ],
      "execution_count": 0,
      "outputs": []
    },
    {
      "cell_type": "code",
      "metadata": {
        "id": "bws8qSimsO3b",
        "colab_type": "code",
        "colab": {
          "base_uri": "https://localhost:8080/",
          "height": 133
        },
        "outputId": "5d1411e3-57a3-433a-e68d-b5ace680409c"
      },
      "source": [
        "pred_act.groupby('Final Decision 2').count()"
      ],
      "execution_count": 176,
      "outputs": [
        {
          "output_type": "execute_result",
          "data": {
            "text/html": [
              "<div>\n",
              "<style scoped>\n",
              "    .dataframe tbody tr th:only-of-type {\n",
              "        vertical-align: middle;\n",
              "    }\n",
              "\n",
              "    .dataframe tbody tr th {\n",
              "        vertical-align: top;\n",
              "    }\n",
              "\n",
              "    .dataframe thead th {\n",
              "        text-align: right;\n",
              "    }\n",
              "</style>\n",
              "<table border=\"1\" class=\"dataframe\">\n",
              "  <thead>\n",
              "    <tr style=\"text-align: right;\">\n",
              "      <th></th>\n",
              "      <th>XGB Decision</th>\n",
              "    </tr>\n",
              "    <tr>\n",
              "      <th>Final Decision 2</th>\n",
              "      <th></th>\n",
              "    </tr>\n",
              "  </thead>\n",
              "  <tbody>\n",
              "    <tr>\n",
              "      <th>0.00</th>\n",
              "      <td>244509</td>\n",
              "    </tr>\n",
              "    <tr>\n",
              "      <th>1.00</th>\n",
              "      <td>25768</td>\n",
              "    </tr>\n",
              "  </tbody>\n",
              "</table>\n",
              "</div>"
            ],
            "text/plain": [
              "                  XGB Decision\n",
              "Final Decision 2              \n",
              "0.00                    244509\n",
              "1.00                     25768"
            ]
          },
          "metadata": {
            "tags": []
          },
          "execution_count": 176
        }
      ]
    },
    {
      "cell_type": "code",
      "metadata": {
        "id": "krOSHnY2sX_2",
        "colab_type": "code",
        "colab": {
          "base_uri": "https://localhost:8080/",
          "height": 133
        },
        "outputId": "9bdcddd2-2f6e-4e62-8c08-5a99cabff626"
      },
      "source": [
        "pred_act.groupby('XGB Decision').count()"
      ],
      "execution_count": 177,
      "outputs": [
        {
          "output_type": "execute_result",
          "data": {
            "text/html": [
              "<div>\n",
              "<style scoped>\n",
              "    .dataframe tbody tr th:only-of-type {\n",
              "        vertical-align: middle;\n",
              "    }\n",
              "\n",
              "    .dataframe tbody tr th {\n",
              "        vertical-align: top;\n",
              "    }\n",
              "\n",
              "    .dataframe thead th {\n",
              "        text-align: right;\n",
              "    }\n",
              "</style>\n",
              "<table border=\"1\" class=\"dataframe\">\n",
              "  <thead>\n",
              "    <tr style=\"text-align: right;\">\n",
              "      <th></th>\n",
              "      <th>Final Decision 2</th>\n",
              "    </tr>\n",
              "    <tr>\n",
              "      <th>XGB Decision</th>\n",
              "      <th></th>\n",
              "    </tr>\n",
              "  </thead>\n",
              "  <tbody>\n",
              "    <tr>\n",
              "      <th>0.00</th>\n",
              "      <td>249225</td>\n",
              "    </tr>\n",
              "    <tr>\n",
              "      <th>1.00</th>\n",
              "      <td>21052</td>\n",
              "    </tr>\n",
              "  </tbody>\n",
              "</table>\n",
              "</div>"
            ],
            "text/plain": [
              "              Final Decision 2\n",
              "XGB Decision                  \n",
              "0.00                    249225\n",
              "1.00                     21052"
            ]
          },
          "metadata": {
            "tags": []
          },
          "execution_count": 177
        }
      ]
    },
    {
      "cell_type": "markdown",
      "metadata": {
        "id": "wxScBEUGs0BK",
        "colab_type": "text"
      },
      "source": [
        "# Training Naive Bayes Model"
      ]
    },
    {
      "cell_type": "code",
      "metadata": {
        "id": "S1YBfnBZs9ky",
        "colab_type": "code",
        "colab": {}
      },
      "source": [
        "from sklearn.naive_bayes import GaussianNB"
      ],
      "execution_count": 0,
      "outputs": []
    },
    {
      "cell_type": "code",
      "metadata": {
        "id": "OJIPAz5aypz9",
        "colab_type": "code",
        "outputId": "d5c22ebb-ff93-4c56-e50c-6a6cf22162e4",
        "colab": {
          "base_uri": "https://localhost:8080/",
          "height": 131
        }
      },
      "source": [
        "naive_model_nocredit = GaussianNB()\n",
        "start = time.time()\n",
        "print(\"Starting Training...\\n\")\n",
        "naive_model_nocredit.fit(X_train_nocredit,Y_train_nocredit)\n",
        "print(\"------------------------------------------------\\nDone!\\n\\nElapsed Time: \")\n",
        "end = time.time()\n",
        "print(end - start)"
      ],
      "execution_count": 52,
      "outputs": [
        {
          "output_type": "stream",
          "text": [
            "Starting Training...\n",
            "\n",
            "------------------------------------------------\n",
            "Done!\n",
            "\n",
            "Elapsed Time: \n",
            "1.3874843120574951\n"
          ],
          "name": "stdout"
        }
      ]
    },
    {
      "cell_type": "code",
      "metadata": {
        "id": "YTtrF_W8y5m4",
        "colab_type": "code",
        "colab": {}
      },
      "source": [
        "Y_pred_naive_nocredit = naive_model_nocredit.predict(X_test_nocredit)"
      ],
      "execution_count": 0,
      "outputs": []
    },
    {
      "cell_type": "code",
      "metadata": {
        "id": "OGcas5kNzA8f",
        "colab_type": "code",
        "outputId": "ef47d227-8d43-4f4a-fb03-38b748ed18bc",
        "colab": {
          "base_uri": "https://localhost:8080/",
          "height": 33
        }
      },
      "source": [
        "acc = accuracy_score(y_test_nocredit,Y_pred_naive_nocredit)\n",
        "print(\"Accuracy naive bayes no credit: %.2f\" % (acc*100),'%')"
      ],
      "execution_count": 56,
      "outputs": [
        {
          "output_type": "stream",
          "text": [
            "Accuracy naive bayes no credit: 77.36 %\n"
          ],
          "name": "stdout"
        }
      ]
    },
    {
      "cell_type": "markdown",
      "metadata": {
        "id": "zsPVwf6Eu7AY",
        "colab_type": "text"
      },
      "source": [
        "# Training Logistic Regression"
      ]
    },
    {
      "cell_type": "code",
      "metadata": {
        "id": "Mg6obA4lvghh",
        "colab_type": "code",
        "colab": {}
      },
      "source": [
        "from sklearn.linear_model import LogisticRegression"
      ],
      "execution_count": 0,
      "outputs": []
    },
    {
      "cell_type": "code",
      "metadata": {
        "id": "gqtqXhKizX_9",
        "colab_type": "code",
        "outputId": "5cd463da-4336-427b-d012-e3bcd6843ff2",
        "colab": {
          "base_uri": "https://localhost:8080/",
          "height": 261
        }
      },
      "source": [
        "logreg_nocredit = LogisticRegression()\n",
        "start = time.time()\n",
        "print(\"Starting Training...\\n\")\n",
        "logreg_nocredit.fit(X_train_nocredit, Y_train_nocredit)\n",
        "print(\"------------------------------------------------\\nDone!\\n\\nElapsed Time: \")\n",
        "end = time.time()\n",
        "print(end - start)"
      ],
      "execution_count": 75,
      "outputs": [
        {
          "output_type": "stream",
          "text": [
            "Starting Training...\n",
            "\n",
            "------------------------------------------------\n",
            "Done!\n",
            "\n",
            "Elapsed Time: \n",
            "40.82137179374695\n"
          ],
          "name": "stdout"
        },
        {
          "output_type": "stream",
          "text": [
            "/usr/local/lib/python3.6/dist-packages/sklearn/linear_model/_logistic.py:940: ConvergenceWarning: lbfgs failed to converge (status=1):\n",
            "STOP: TOTAL NO. of ITERATIONS REACHED LIMIT.\n",
            "\n",
            "Increase the number of iterations (max_iter) or scale the data as shown in:\n",
            "    https://scikit-learn.org/stable/modules/preprocessing.html\n",
            "Please also refer to the documentation for alternative solver options:\n",
            "    https://scikit-learn.org/stable/modules/linear_model.html#logistic-regression\n",
            "  extra_warning_msg=_LOGISTIC_SOLVER_CONVERGENCE_MSG)\n"
          ],
          "name": "stderr"
        }
      ]
    },
    {
      "cell_type": "code",
      "metadata": {
        "id": "arE59F2z0Eid",
        "colab_type": "code",
        "colab": {}
      },
      "source": [
        "Y_pred_logreg_nocredit = logreg_nocredit.predict(X_test_nocredit)"
      ],
      "execution_count": 0,
      "outputs": []
    },
    {
      "cell_type": "code",
      "metadata": {
        "id": "oD7wuaN50j0E",
        "colab_type": "code",
        "outputId": "ca191930-2686-40a0-ecd5-0e61bbdaa6e3",
        "colab": {
          "base_uri": "https://localhost:8080/",
          "height": 33
        }
      },
      "source": [
        "acc = accuracy_score(y_test_nocredit,Y_pred_logreg_nocredit)\n",
        "print(\"Accuracy logreg: %.2f\" % (acc*100),'%')"
      ],
      "execution_count": 79,
      "outputs": [
        {
          "output_type": "stream",
          "text": [
            "Accuracy logreg: 91.60 %\n"
          ],
          "name": "stdout"
        }
      ]
    },
    {
      "cell_type": "markdown",
      "metadata": {
        "id": "6cte25eW6cNK",
        "colab_type": "text"
      },
      "source": [
        "# Plotting Trees (XGBoost)"
      ]
    },
    {
      "cell_type": "markdown",
      "metadata": {
        "id": "q-wyNRgd5_oc",
        "colab_type": "text"
      },
      "source": [
        "#### If x is one of the leaf values shown, we can find the probability of a datapoint being class 1 (approved) using: \n",
        "\n",
        "1/(1+np.exp(-1*-x))"
      ]
    },
    {
      "cell_type": "markdown",
      "metadata": {
        "id": "aQSPZXKp6jL2",
        "colab_type": "text"
      },
      "source": [
        "### First Tree"
      ]
    },
    {
      "cell_type": "code",
      "metadata": {
        "id": "3Gzluu6t42-g",
        "colab_type": "code",
        "outputId": "1996b198-6559-4d5e-d4e8-377092ca3905",
        "colab": {
          "base_uri": "https://localhost:8080/",
          "height": 393
        }
      },
      "source": [
        "rcParams['figure.figsize'] = 30,30\n",
        "xgboost.plot_tree(model_nocredit,num_trees=0)"
      ],
      "execution_count": 164,
      "outputs": [
        {
          "output_type": "execute_result",
          "data": {
            "text/plain": [
              "<matplotlib.axes._subplots.AxesSubplot at 0x7f9036659e48>"
            ]
          },
          "metadata": {
            "tags": []
          },
          "execution_count": 164
        },
        {
          "output_type": "display_data",
          "data": {
            "image/png": "[encoded data removed]",
            "text/plain": [
              "<Figure size 2160x2160 with 1 Axes>"
            ]
          },
          "metadata": {
            "tags": [],
            "needs_background": "light"
          }
        }
      ]
    },
    {
      "cell_type": "markdown",
      "metadata": {
        "id": "ODW_FUt964zq",
        "colab_type": "text"
      },
      "source": [
        "### Last Tree"
      ]
    },
    {
      "cell_type": "code",
      "metadata": {
        "id": "scSX0_IK67RI",
        "colab_type": "code",
        "outputId": "ecf48d68-055a-4184-b111-c325a7d66ae4",
        "colab": {
          "base_uri": "https://localhost:8080/",
          "height": 375
        }
      },
      "source": [
        "rcParams['figure.figsize'] = 30,30\n",
        "xgboost.plot_tree(model_nocredit,num_trees=99)"
      ],
      "execution_count": 165,
      "outputs": [
        {
          "output_type": "execute_result",
          "data": {
            "text/plain": [
              "<matplotlib.axes._subplots.AxesSubplot at 0x7f9036626d68>"
            ]
          },
          "metadata": {
            "tags": []
          },
          "execution_count": 165
        },
        {
          "output_type": "display_data",
          "data": {
            "image/png": "[encoded data removed]",
            "text/plain": [
              "<Figure size 2160x2160 with 1 Axes>"
            ]
          },
          "metadata": {
            "tags": [],
            "needs_background": "light"
          }
        }
      ]
    },
    {
      "cell_type": "markdown",
      "metadata": {
        "id": "5HqZIgtbeHlM",
        "colab_type": "text"
      },
      "source": [
        "# fico based decision"
      ]
    },
    {
      "cell_type": "code",
      "metadata": {
        "id": "gLadfwSVeL1H",
        "colab_type": "code",
        "outputId": "dfe75025-9f68-476e-d862-db1ed40d6d8a",
        "colab": {
          "base_uri": "https://localhost:8080/",
          "height": 223
        }
      },
      "source": [
        "X_test_fico.head()"
      ],
      "execution_count": 0,
      "outputs": [
        {
          "output_type": "execute_result",
          "data": {
            "text/html": [
              "<div>\n",
              "<style scoped>\n",
              "    .dataframe tbody tr th:only-of-type {\n",
              "        vertical-align: middle;\n",
              "    }\n",
              "\n",
              "    .dataframe tbody tr th {\n",
              "        vertical-align: top;\n",
              "    }\n",
              "\n",
              "    .dataframe thead th {\n",
              "        text-align: right;\n",
              "    }\n",
              "</style>\n",
              "<table border=\"1\" class=\"dataframe\">\n",
              "  <thead>\n",
              "    <tr style=\"text-align: right;\">\n",
              "      <th></th>\n",
              "      <th>Length of Credit History (avg credit lifespan in yrs)</th>\n",
              "      <th>Credit Mix (# of types of credit)</th>\n",
              "      <th>Recent Activity - Time since newest acct</th>\n",
              "      <th>Recent Activity - # accts applied in last year</th>\n",
              "      <th>Payment History - # payments currently past due</th>\n",
              "      <th>Payment History - # yrs ago last payment missed</th>\n",
              "      <th>Payment History -  Bankruptcy/Reposession/Acct_in_Collection in past</th>\n",
              "      <th>Credit Utilization</th>\n",
              "      <th>FICO</th>\n",
              "    </tr>\n",
              "  </thead>\n",
              "  <tbody>\n",
              "    <tr>\n",
              "      <th>0</th>\n",
              "      <td>8</td>\n",
              "      <td>5</td>\n",
              "      <td>3</td>\n",
              "      <td>0</td>\n",
              "      <td>0</td>\n",
              "      <td>0</td>\n",
              "      <td>True</td>\n",
              "      <td>0.01</td>\n",
              "      <td>731.00</td>\n",
              "    </tr>\n",
              "    <tr>\n",
              "      <th>1</th>\n",
              "      <td>16</td>\n",
              "      <td>1</td>\n",
              "      <td>16</td>\n",
              "      <td>0</td>\n",
              "      <td>0</td>\n",
              "      <td>3</td>\n",
              "      <td>False</td>\n",
              "      <td>0.04</td>\n",
              "      <td>700.00</td>\n",
              "    </tr>\n",
              "    <tr>\n",
              "      <th>2</th>\n",
              "      <td>31</td>\n",
              "      <td>1</td>\n",
              "      <td>28</td>\n",
              "      <td>1</td>\n",
              "      <td>0</td>\n",
              "      <td>0</td>\n",
              "      <td>False</td>\n",
              "      <td>0.12</td>\n",
              "      <td>712.00</td>\n",
              "    </tr>\n",
              "    <tr>\n",
              "      <th>3</th>\n",
              "      <td>7</td>\n",
              "      <td>1</td>\n",
              "      <td>7</td>\n",
              "      <td>1</td>\n",
              "      <td>0</td>\n",
              "      <td>0</td>\n",
              "      <td>False</td>\n",
              "      <td>0.02</td>\n",
              "      <td>746.00</td>\n",
              "    </tr>\n",
              "    <tr>\n",
              "      <th>4</th>\n",
              "      <td>0</td>\n",
              "      <td>0</td>\n",
              "      <td>0</td>\n",
              "      <td>1</td>\n",
              "      <td>0</td>\n",
              "      <td>0</td>\n",
              "      <td>False</td>\n",
              "      <td>0.00</td>\n",
              "      <td>680.00</td>\n",
              "    </tr>\n",
              "  </tbody>\n",
              "</table>\n",
              "</div>"
            ],
            "text/plain": [
              "   Length of Credit History (avg credit lifespan in yrs)  \\\n",
              "0                                                      8   \n",
              "1                                                     16   \n",
              "2                                                     31   \n",
              "3                                                      7   \n",
              "4                                                      0   \n",
              "\n",
              "   Credit Mix (# of types of credit)  \\\n",
              "0                                  5   \n",
              "1                                  1   \n",
              "2                                  1   \n",
              "3                                  1   \n",
              "4                                  0   \n",
              "\n",
              "   Recent Activity - Time since newest acct  \\\n",
              "0                                         3   \n",
              "1                                        16   \n",
              "2                                        28   \n",
              "3                                         7   \n",
              "4                                         0   \n",
              "\n",
              "   Recent Activity - # accts applied in last year  \\\n",
              "0                                               0   \n",
              "1                                               0   \n",
              "2                                               1   \n",
              "3                                               1   \n",
              "4                                               1   \n",
              "\n",
              "   Payment History - # payments currently past due  \\\n",
              "0                                                0   \n",
              "1                                                0   \n",
              "2                                                0   \n",
              "3                                                0   \n",
              "4                                                0   \n",
              "\n",
              "   Payment History - # yrs ago last payment missed  \\\n",
              "0                                                0   \n",
              "1                                                3   \n",
              "2                                                0   \n",
              "3                                                0   \n",
              "4                                                0   \n",
              "\n",
              "   Payment History -  Bankruptcy/Reposession/Acct_in_Collection in past  \\\n",
              "0                                                                  True   \n",
              "1                                                                 False   \n",
              "2                                                                 False   \n",
              "3                                                                 False   \n",
              "4                                                                 False   \n",
              "\n",
              "   Credit Utilization   FICO  \n",
              "0                0.01 731.00  \n",
              "1                0.04 700.00  \n",
              "2                0.12 712.00  \n",
              "3                0.02 746.00  \n",
              "4                0.00 680.00  "
            ]
          },
          "metadata": {
            "tags": []
          },
          "execution_count": 84
        }
      ]
    },
    {
      "cell_type": "code",
      "metadata": {
        "id": "Vq_3iqTRjoiR",
        "colab_type": "code",
        "outputId": "db0a8bf6-95a4-4f58-8159-4df9d6f2dfa2",
        "colab": {
          "base_uri": "https://localhost:8080/",
          "height": 293
        }
      },
      "source": [
        "X_test_fico.describe()"
      ],
      "execution_count": 0,
      "outputs": [
        {
          "output_type": "execute_result",
          "data": {
            "text/html": [
              "<div>\n",
              "<style scoped>\n",
              "    .dataframe tbody tr th:only-of-type {\n",
              "        vertical-align: middle;\n",
              "    }\n",
              "\n",
              "    .dataframe tbody tr th {\n",
              "        vertical-align: top;\n",
              "    }\n",
              "\n",
              "    .dataframe thead th {\n",
              "        text-align: right;\n",
              "    }\n",
              "</style>\n",
              "<table border=\"1\" class=\"dataframe\">\n",
              "  <thead>\n",
              "    <tr style=\"text-align: right;\">\n",
              "      <th></th>\n",
              "      <th>Length of Credit History (avg credit lifespan in yrs)</th>\n",
              "      <th>Credit Mix (# of types of credit)</th>\n",
              "      <th>Recent Activity - Time since newest acct</th>\n",
              "      <th>Recent Activity - # accts applied in last year</th>\n",
              "      <th>Payment History - # payments currently past due</th>\n",
              "      <th>Payment History - # yrs ago last payment missed</th>\n",
              "      <th>Credit Utilization</th>\n",
              "      <th>FICO</th>\n",
              "    </tr>\n",
              "  </thead>\n",
              "  <tbody>\n",
              "    <tr>\n",
              "      <th>count</th>\n",
              "      <td>900000.00</td>\n",
              "      <td>900000.00</td>\n",
              "      <td>900000.00</td>\n",
              "      <td>900000.00</td>\n",
              "      <td>900000.00</td>\n",
              "      <td>900000.00</td>\n",
              "      <td>900000.00</td>\n",
              "      <td>900000.00</td>\n",
              "    </tr>\n",
              "    <tr>\n",
              "      <th>mean</th>\n",
              "      <td>12.00</td>\n",
              "      <td>1.83</td>\n",
              "      <td>9.65</td>\n",
              "      <td>0.54</td>\n",
              "      <td>0.47</td>\n",
              "      <td>1.24</td>\n",
              "      <td>0.10</td>\n",
              "      <td>685.04</td>\n",
              "    </tr>\n",
              "    <tr>\n",
              "      <th>std</th>\n",
              "      <td>9.78</td>\n",
              "      <td>1.36</td>\n",
              "      <td>8.43</td>\n",
              "      <td>0.73</td>\n",
              "      <td>0.94</td>\n",
              "      <td>2.07</td>\n",
              "      <td>0.11</td>\n",
              "      <td>56.35</td>\n",
              "    </tr>\n",
              "    <tr>\n",
              "      <th>min</th>\n",
              "      <td>0.00</td>\n",
              "      <td>0.00</td>\n",
              "      <td>0.00</td>\n",
              "      <td>0.00</td>\n",
              "      <td>0.00</td>\n",
              "      <td>0.00</td>\n",
              "      <td>0.00</td>\n",
              "      <td>410.00</td>\n",
              "    </tr>\n",
              "    <tr>\n",
              "      <th>25%</th>\n",
              "      <td>3.00</td>\n",
              "      <td>1.00</td>\n",
              "      <td>2.00</td>\n",
              "      <td>0.00</td>\n",
              "      <td>0.00</td>\n",
              "      <td>0.00</td>\n",
              "      <td>0.01</td>\n",
              "      <td>649.00</td>\n",
              "    </tr>\n",
              "    <tr>\n",
              "      <th>50%</th>\n",
              "      <td>11.00</td>\n",
              "      <td>2.00</td>\n",
              "      <td>8.00</td>\n",
              "      <td>0.00</td>\n",
              "      <td>0.00</td>\n",
              "      <td>0.00</td>\n",
              "      <td>0.06</td>\n",
              "      <td>685.00</td>\n",
              "    </tr>\n",
              "    <tr>\n",
              "      <th>75%</th>\n",
              "      <td>20.00</td>\n",
              "      <td>3.00</td>\n",
              "      <td>15.00</td>\n",
              "      <td>1.00</td>\n",
              "      <td>1.00</td>\n",
              "      <td>1.00</td>\n",
              "      <td>0.16</td>\n",
              "      <td>729.00</td>\n",
              "    </tr>\n",
              "    <tr>\n",
              "      <th>max</th>\n",
              "      <td>41.00</td>\n",
              "      <td>5.00</td>\n",
              "      <td>41.00</td>\n",
              "      <td>4.00</td>\n",
              "      <td>5.00</td>\n",
              "      <td>10.00</td>\n",
              "      <td>0.49</td>\n",
              "      <td>823.00</td>\n",
              "    </tr>\n",
              "  </tbody>\n",
              "</table>\n",
              "</div>"
            ],
            "text/plain": [
              "       Length of Credit History (avg credit lifespan in yrs)  \\\n",
              "count                                              900000.00   \n",
              "mean                                                   12.00   \n",
              "std                                                     9.78   \n",
              "min                                                     0.00   \n",
              "25%                                                     3.00   \n",
              "50%                                                    11.00   \n",
              "75%                                                    20.00   \n",
              "max                                                    41.00   \n",
              "\n",
              "       Credit Mix (# of types of credit)  \\\n",
              "count                          900000.00   \n",
              "mean                                1.83   \n",
              "std                                 1.36   \n",
              "min                                 0.00   \n",
              "25%                                 1.00   \n",
              "50%                                 2.00   \n",
              "75%                                 3.00   \n",
              "max                                 5.00   \n",
              "\n",
              "       Recent Activity - Time since newest acct  \\\n",
              "count                                 900000.00   \n",
              "mean                                       9.65   \n",
              "std                                        8.43   \n",
              "min                                        0.00   \n",
              "25%                                        2.00   \n",
              "50%                                        8.00   \n",
              "75%                                       15.00   \n",
              "max                                       41.00   \n",
              "\n",
              "       Recent Activity - # accts applied in last year  \\\n",
              "count                                       900000.00   \n",
              "mean                                             0.54   \n",
              "std                                              0.73   \n",
              "min                                              0.00   \n",
              "25%                                              0.00   \n",
              "50%                                              0.00   \n",
              "75%                                              1.00   \n",
              "max                                              4.00   \n",
              "\n",
              "       Payment History - # payments currently past due  \\\n",
              "count                                        900000.00   \n",
              "mean                                              0.47   \n",
              "std                                               0.94   \n",
              "min                                               0.00   \n",
              "25%                                               0.00   \n",
              "50%                                               0.00   \n",
              "75%                                               1.00   \n",
              "max                                               5.00   \n",
              "\n",
              "       Payment History - # yrs ago last payment missed  Credit Utilization  \\\n",
              "count                                        900000.00           900000.00   \n",
              "mean                                              1.24                0.10   \n",
              "std                                               2.07                0.11   \n",
              "min                                               0.00                0.00   \n",
              "25%                                               0.00                0.01   \n",
              "50%                                               0.00                0.06   \n",
              "75%                                               1.00                0.16   \n",
              "max                                              10.00                0.49   \n",
              "\n",
              "           FICO  \n",
              "count 900000.00  \n",
              "mean     685.04  \n",
              "std       56.35  \n",
              "min      410.00  \n",
              "25%      649.00  \n",
              "50%      685.00  \n",
              "75%      729.00  \n",
              "max      823.00  "
            ]
          },
          "metadata": {
            "tags": []
          },
          "execution_count": 85
        }
      ]
    },
    {
      "cell_type": "code",
      "metadata": {
        "id": "XCKbqZukloKf",
        "colab_type": "code",
        "outputId": "7d797e80-e189-4984-da6d-128e2ad278b6",
        "colab": {
          "base_uri": "https://localhost:8080/",
          "height": 603
        }
      },
      "source": [
        "X_test_fico.groupby(pd.cut(X_test_fico[\"FICO\"], np.arange(300, 850+50, 50))).mean()"
      ],
      "execution_count": 0,
      "outputs": [
        {
          "output_type": "execute_result",
          "data": {
            "text/html": [
              "<div>\n",
              "<style scoped>\n",
              "    .dataframe tbody tr th:only-of-type {\n",
              "        vertical-align: middle;\n",
              "    }\n",
              "\n",
              "    .dataframe tbody tr th {\n",
              "        vertical-align: top;\n",
              "    }\n",
              "\n",
              "    .dataframe thead th {\n",
              "        text-align: right;\n",
              "    }\n",
              "</style>\n",
              "<table border=\"1\" class=\"dataframe\">\n",
              "  <thead>\n",
              "    <tr style=\"text-align: right;\">\n",
              "      <th></th>\n",
              "      <th>Length of Credit History (avg credit lifespan in yrs)</th>\n",
              "      <th>Credit Mix (# of types of credit)</th>\n",
              "      <th>Recent Activity - Time since newest acct</th>\n",
              "      <th>Recent Activity - # accts applied in last year</th>\n",
              "      <th>Payment History - # payments currently past due</th>\n",
              "      <th>Payment History - # yrs ago last payment missed</th>\n",
              "      <th>Payment History -  Bankruptcy/Reposession/Acct_in_Collection in past</th>\n",
              "      <th>Credit Utilization</th>\n",
              "      <th>FICO</th>\n",
              "    </tr>\n",
              "    <tr>\n",
              "      <th>FICO</th>\n",
              "      <th></th>\n",
              "      <th></th>\n",
              "      <th></th>\n",
              "      <th></th>\n",
              "      <th></th>\n",
              "      <th></th>\n",
              "      <th></th>\n",
              "      <th></th>\n",
              "      <th></th>\n",
              "    </tr>\n",
              "  </thead>\n",
              "  <tbody>\n",
              "    <tr>\n",
              "      <th>(300, 350]</th>\n",
              "      <td>nan</td>\n",
              "      <td>nan</td>\n",
              "      <td>nan</td>\n",
              "      <td>nan</td>\n",
              "      <td>nan</td>\n",
              "      <td>nan</td>\n",
              "      <td>nan</td>\n",
              "      <td>nan</td>\n",
              "      <td>nan</td>\n",
              "    </tr>\n",
              "    <tr>\n",
              "      <th>(350, 400]</th>\n",
              "      <td>nan</td>\n",
              "      <td>nan</td>\n",
              "      <td>nan</td>\n",
              "      <td>nan</td>\n",
              "      <td>nan</td>\n",
              "      <td>nan</td>\n",
              "      <td>nan</td>\n",
              "      <td>nan</td>\n",
              "      <td>nan</td>\n",
              "    </tr>\n",
              "    <tr>\n",
              "      <th>(400, 450]</th>\n",
              "      <td>10.90</td>\n",
              "      <td>1.59</td>\n",
              "      <td>8.89</td>\n",
              "      <td>0.84</td>\n",
              "      <td>3.51</td>\n",
              "      <td>1.00</td>\n",
              "      <td>0.98</td>\n",
              "      <td>0.42</td>\n",
              "      <td>437.61</td>\n",
              "    </tr>\n",
              "    <tr>\n",
              "      <th>(450, 500]</th>\n",
              "      <td>13.27</td>\n",
              "      <td>1.80</td>\n",
              "      <td>10.76</td>\n",
              "      <td>0.72</td>\n",
              "      <td>3.01</td>\n",
              "      <td>1.02</td>\n",
              "      <td>0.63</td>\n",
              "      <td>0.39</td>\n",
              "      <td>484.82</td>\n",
              "    </tr>\n",
              "    <tr>\n",
              "      <th>(500, 550]</th>\n",
              "      <td>13.60</td>\n",
              "      <td>1.89</td>\n",
              "      <td>10.94</td>\n",
              "      <td>0.63</td>\n",
              "      <td>2.44</td>\n",
              "      <td>1.05</td>\n",
              "      <td>0.18</td>\n",
              "      <td>0.36</td>\n",
              "      <td>533.28</td>\n",
              "    </tr>\n",
              "    <tr>\n",
              "      <th>(550, 600]</th>\n",
              "      <td>13.78</td>\n",
              "      <td>2.03</td>\n",
              "      <td>11.00</td>\n",
              "      <td>0.59</td>\n",
              "      <td>1.83</td>\n",
              "      <td>1.22</td>\n",
              "      <td>0.09</td>\n",
              "      <td>0.27</td>\n",
              "      <td>579.90</td>\n",
              "    </tr>\n",
              "    <tr>\n",
              "      <th>(600, 650]</th>\n",
              "      <td>10.95</td>\n",
              "      <td>1.63</td>\n",
              "      <td>8.77</td>\n",
              "      <td>0.59</td>\n",
              "      <td>1.03</td>\n",
              "      <td>1.83</td>\n",
              "      <td>0.03</td>\n",
              "      <td>0.15</td>\n",
              "      <td>628.99</td>\n",
              "    </tr>\n",
              "    <tr>\n",
              "      <th>(650, 700]</th>\n",
              "      <td>9.23</td>\n",
              "      <td>1.38</td>\n",
              "      <td>7.46</td>\n",
              "      <td>0.59</td>\n",
              "      <td>0.37</td>\n",
              "      <td>1.21</td>\n",
              "      <td>0.01</td>\n",
              "      <td>0.08</td>\n",
              "      <td>676.64</td>\n",
              "    </tr>\n",
              "    <tr>\n",
              "      <th>(700, 750]</th>\n",
              "      <td>14.35</td>\n",
              "      <td>2.08</td>\n",
              "      <td>11.76</td>\n",
              "      <td>0.53</td>\n",
              "      <td>0.03</td>\n",
              "      <td>1.46</td>\n",
              "      <td>0.00</td>\n",
              "      <td>0.09</td>\n",
              "      <td>725.14</td>\n",
              "    </tr>\n",
              "    <tr>\n",
              "      <th>(750, 800]</th>\n",
              "      <td>14.94</td>\n",
              "      <td>2.63</td>\n",
              "      <td>11.68</td>\n",
              "      <td>0.34</td>\n",
              "      <td>0.00</td>\n",
              "      <td>0.30</td>\n",
              "      <td>0.00</td>\n",
              "      <td>0.03</td>\n",
              "      <td>763.80</td>\n",
              "    </tr>\n",
              "    <tr>\n",
              "      <th>(800, 850]</th>\n",
              "      <td>16.20</td>\n",
              "      <td>5.00</td>\n",
              "      <td>11.45</td>\n",
              "      <td>0.36</td>\n",
              "      <td>0.00</td>\n",
              "      <td>0.05</td>\n",
              "      <td>0.00</td>\n",
              "      <td>0.00</td>\n",
              "      <td>809.55</td>\n",
              "    </tr>\n",
              "  </tbody>\n",
              "</table>\n",
              "</div>"
            ],
            "text/plain": [
              "            Length of Credit History (avg credit lifespan in yrs)  \\\n",
              "FICO                                                                \n",
              "(300, 350]                                                    nan   \n",
              "(350, 400]                                                    nan   \n",
              "(400, 450]                                                  10.90   \n",
              "(450, 500]                                                  13.27   \n",
              "(500, 550]                                                  13.60   \n",
              "(550, 600]                                                  13.78   \n",
              "(600, 650]                                                  10.95   \n",
              "(650, 700]                                                   9.23   \n",
              "(700, 750]                                                  14.35   \n",
              "(750, 800]                                                  14.94   \n",
              "(800, 850]                                                  16.20   \n",
              "\n",
              "            Credit Mix (# of types of credit)  \\\n",
              "FICO                                            \n",
              "(300, 350]                                nan   \n",
              "(350, 400]                                nan   \n",
              "(400, 450]                               1.59   \n",
              "(450, 500]                               1.80   \n",
              "(500, 550]                               1.89   \n",
              "(550, 600]                               2.03   \n",
              "(600, 650]                               1.63   \n",
              "(650, 700]                               1.38   \n",
              "(700, 750]                               2.08   \n",
              "(750, 800]                               2.63   \n",
              "(800, 850]                               5.00   \n",
              "\n",
              "            Recent Activity - Time since newest acct  \\\n",
              "FICO                                                   \n",
              "(300, 350]                                       nan   \n",
              "(350, 400]                                       nan   \n",
              "(400, 450]                                      8.89   \n",
              "(450, 500]                                     10.76   \n",
              "(500, 550]                                     10.94   \n",
              "(550, 600]                                     11.00   \n",
              "(600, 650]                                      8.77   \n",
              "(650, 700]                                      7.46   \n",
              "(700, 750]                                     11.76   \n",
              "(750, 800]                                     11.68   \n",
              "(800, 850]                                     11.45   \n",
              "\n",
              "            Recent Activity - # accts applied in last year  \\\n",
              "FICO                                                         \n",
              "(300, 350]                                             nan   \n",
              "(350, 400]                                             nan   \n",
              "(400, 450]                                            0.84   \n",
              "(450, 500]                                            0.72   \n",
              "(500, 550]                                            0.63   \n",
              "(550, 600]                                            0.59   \n",
              "(600, 650]                                            0.59   \n",
              "(650, 700]                                            0.59   \n",
              "(700, 750]                                            0.53   \n",
              "(750, 800]                                            0.34   \n",
              "(800, 850]                                            0.36   \n",
              "\n",
              "            Payment History - # payments currently past due  \\\n",
              "FICO                                                          \n",
              "(300, 350]                                              nan   \n",
              "(350, 400]                                              nan   \n",
              "(400, 450]                                             3.51   \n",
              "(450, 500]                                             3.01   \n",
              "(500, 550]                                             2.44   \n",
              "(550, 600]                                             1.83   \n",
              "(600, 650]                                             1.03   \n",
              "(650, 700]                                             0.37   \n",
              "(700, 750]                                             0.03   \n",
              "(750, 800]                                             0.00   \n",
              "(800, 850]                                             0.00   \n",
              "\n",
              "            Payment History - # yrs ago last payment missed  \\\n",
              "FICO                                                          \n",
              "(300, 350]                                              nan   \n",
              "(350, 400]                                              nan   \n",
              "(400, 450]                                             1.00   \n",
              "(450, 500]                                             1.02   \n",
              "(500, 550]                                             1.05   \n",
              "(550, 600]                                             1.22   \n",
              "(600, 650]                                             1.83   \n",
              "(650, 700]                                             1.21   \n",
              "(700, 750]                                             1.46   \n",
              "(750, 800]                                             0.30   \n",
              "(800, 850]                                             0.05   \n",
              "\n",
              "            Payment History -  Bankruptcy/Reposession/Acct_in_Collection in past  \\\n",
              "FICO                                                                               \n",
              "(300, 350]                                                                   nan   \n",
              "(350, 400]                                                                   nan   \n",
              "(400, 450]                                                                  0.98   \n",
              "(450, 500]                                                                  0.63   \n",
              "(500, 550]                                                                  0.18   \n",
              "(550, 600]                                                                  0.09   \n",
              "(600, 650]                                                                  0.03   \n",
              "(650, 700]                                                                  0.01   \n",
              "(700, 750]                                                                  0.00   \n",
              "(750, 800]                                                                  0.00   \n",
              "(800, 850]                                                                  0.00   \n",
              "\n",
              "            Credit Utilization   FICO  \n",
              "FICO                                   \n",
              "(300, 350]                 nan    nan  \n",
              "(350, 400]                 nan    nan  \n",
              "(400, 450]                0.42 437.61  \n",
              "(450, 500]                0.39 484.82  \n",
              "(500, 550]                0.36 533.28  \n",
              "(550, 600]                0.27 579.90  \n",
              "(600, 650]                0.15 628.99  \n",
              "(650, 700]                0.08 676.64  \n",
              "(700, 750]                0.09 725.14  \n",
              "(750, 800]                0.03 763.80  \n",
              "(800, 850]                0.00 809.55  "
            ]
          },
          "metadata": {
            "tags": []
          },
          "execution_count": 86
        }
      ]
    },
    {
      "cell_type": "code",
      "metadata": {
        "id": "LXbSK1EskrXR",
        "colab_type": "code",
        "colab": {}
      },
      "source": [
        "def fico_decision(row):\n",
        "  if row['FICO'] >= 800:\n",
        "    return 1  \n",
        "  elif row['FICO'] >= 740 and row['FICO'] < 800:\n",
        "    if row['Payment History - # yrs ago last payment missed'] == 0 or row['Payment History - # yrs ago last payment missed'] >= 6:\n",
        "      return 1\n",
        "    else:\n",
        "      return 0\n",
        "  elif row['FICO'] >= 670 and row['FICO'] < 740:\n",
        "    if row['Payment History - # yrs ago last payment missed'] == 0 or row['Payment History - # yrs ago last payment missed'] >= 6:\n",
        "      if row['Payment History - # payments currently past due'] <= 1 and row['Credit Utilization'] <= 0.15:\n",
        "        return 1\n",
        "      else:\n",
        "        return 0\n",
        "    else:\n",
        "      return 0\n",
        "  elif row['FICO'] >= 560 and row['FICO'] < 670:\n",
        "    if row['Payment History - # yrs ago last payment missed'] == 0 or row['Payment History - # yrs ago last payment missed'] >= 6:\n",
        "      if row['Payment History - # payments currently past due'] == 0 and row['Credit Utilization'] <= 0.15:\n",
        "        if row['Recent Activity - # accts applied in last year'] <= 1:\n",
        "          return 1\n",
        "        else:\n",
        "          return 0\n",
        "      else:\n",
        "        return 0\n",
        "    else:\n",
        "      return 0\n",
        "  else:\n",
        "    return 0\n",
        "\n"
      ],
      "execution_count": 0,
      "outputs": []
    },
    {
      "cell_type": "code",
      "metadata": {
        "id": "jBdsdT5yjvt4",
        "colab_type": "code",
        "outputId": "d4b6dd0a-0985-442d-84f8-f7b5240b03b4",
        "colab": {
          "base_uri": "https://localhost:8080/",
          "height": 115
        }
      },
      "source": [
        "X_test_fico['FICO Based Decision'] = X_test_fico.apply(fico_decision,axis=1)"
      ],
      "execution_count": 0,
      "outputs": [
        {
          "output_type": "stream",
          "text": [
            "/usr/local/lib/python3.6/dist-packages/ipykernel_launcher.py:1: SettingWithCopyWarning: \n",
            "A value is trying to be set on a copy of a slice from a DataFrame.\n",
            "Try using .loc[row_indexer,col_indexer] = value instead\n",
            "\n",
            "See the caveats in the documentation: https://pandas.pydata.org/pandas-docs/stable/user_guide/indexing.html#returning-a-view-versus-a-copy\n",
            "  \"\"\"Entry point for launching an IPython kernel.\n"
          ],
          "name": "stderr"
        }
      ]
    },
    {
      "cell_type": "code",
      "metadata": {
        "id": "IDNEiWrlz1ro",
        "colab_type": "code",
        "outputId": "faab66e0-59a7-405e-8284-700e993e2943",
        "colab": {
          "base_uri": "https://localhost:8080/",
          "height": 407
        }
      },
      "source": [
        "X_test_fico[['FICO','FICO Based Decision']].groupby([pd.cut(X_test_fico[\"FICO\"], np.arange(300, 850+50, 50)),'FICO Based Decision'])['FICO Based Decision'].count()\n"
      ],
      "execution_count": 0,
      "outputs": [
        {
          "output_type": "execute_result",
          "data": {
            "text/plain": [
              "FICO        FICO Based Decision\n",
              "(300, 350]  0                           0\n",
              "            1                           0\n",
              "(350, 400]  0                           0\n",
              "            1                           0\n",
              "(400, 450]  0                          61\n",
              "            1                           0\n",
              "(450, 500]  0                        1269\n",
              "            1                           0\n",
              "(500, 550]  0                       13646\n",
              "            1                           0\n",
              "(550, 600]  0                       53224\n",
              "            1                          17\n",
              "(600, 650]  0                      160430\n",
              "            1                        1165\n",
              "(650, 700]  0                      207240\n",
              "            1                      107551\n",
              "(700, 750]  0                       84011\n",
              "            1                      132223\n",
              "(750, 800]  0                         516\n",
              "            1                      138431\n",
              "(800, 850]  0                           0\n",
              "            1                         216\n",
              "Name: FICO Based Decision, dtype: int64"
            ]
          },
          "metadata": {
            "tags": []
          },
          "execution_count": 89
        }
      ]
    },
    {
      "cell_type": "code",
      "metadata": {
        "id": "HfqP5Q8T5bnR",
        "colab_type": "code",
        "outputId": "8da14ac2-aff5-4e2c-c157-02f5cc804167",
        "colab": {
          "base_uri": "https://localhost:8080/",
          "height": 228
        }
      },
      "source": [
        "X_test_fico[['FICO','FICO Based Decision']].groupby(pd.cut(X_test_fico[\"FICO\"], np.arange(300, 850+50, 50)))['FICO Based Decision'].mean()\n"
      ],
      "execution_count": 0,
      "outputs": [
        {
          "output_type": "execute_result",
          "data": {
            "text/plain": [
              "FICO\n",
              "(300, 350]    nan\n",
              "(350, 400]    nan\n",
              "(400, 450]   0.00\n",
              "(450, 500]   0.00\n",
              "(500, 550]   0.00\n",
              "(550, 600]   0.00\n",
              "(600, 650]   0.01\n",
              "(650, 700]   0.34\n",
              "(700, 750]   0.61\n",
              "(750, 800]   1.00\n",
              "(800, 850]   1.00\n",
              "Name: FICO Based Decision, dtype: float64"
            ]
          },
          "metadata": {
            "tags": []
          },
          "execution_count": 90
        }
      ]
    },
    {
      "cell_type": "code",
      "metadata": {
        "id": "1d_SijP15g9a",
        "colab_type": "code",
        "outputId": "1791ad15-e2b4-4d9c-fef4-dfb0d3260270",
        "colab": {
          "base_uri": "https://localhost:8080/",
          "height": 66
        }
      },
      "source": [
        "X_test_fico['FICO Based Decision'].value_counts(normalize=True)"
      ],
      "execution_count": 0,
      "outputs": [
        {
          "output_type": "execute_result",
          "data": {
            "text/plain": [
              "0   0.58\n",
              "1   0.42\n",
              "Name: FICO Based Decision, dtype: float64"
            ]
          },
          "metadata": {
            "tags": []
          },
          "execution_count": 91
        }
      ]
    },
    {
      "cell_type": "code",
      "metadata": {
        "id": "5R2xCsKi5nui",
        "colab_type": "code",
        "outputId": "36cdcf00-8ed1-4df4-d0ac-77d3e8602101",
        "colab": {
          "base_uri": "https://localhost:8080/",
          "height": 66
        }
      },
      "source": [
        "X_test_fico['FICO Based Decision'].value_counts()"
      ],
      "execution_count": 0,
      "outputs": [
        {
          "output_type": "execute_result",
          "data": {
            "text/plain": [
              "0    520397\n",
              "1    379603\n",
              "Name: FICO Based Decision, dtype: int64"
            ]
          },
          "metadata": {
            "tags": []
          },
          "execution_count": 92
        }
      ]
    },
    {
      "cell_type": "code",
      "metadata": {
        "id": "Qg-FOKEF6EgM",
        "colab_type": "code",
        "outputId": "3efaaa77-8119-40eb-a496-d8bddaf30ce9",
        "colab": {
          "base_uri": "https://localhost:8080/",
          "height": 66
        }
      },
      "source": [
        "xg_dec = pd.DataFrame(Y_pred)\n",
        "xg_dec = xg_dec.rename(columns={0:\"XGBoost Based Decision\"})\n",
        "xg_dec['XGBoost Based Decision'].value_counts(normalize=True)"
      ],
      "execution_count": 0,
      "outputs": [
        {
          "output_type": "execute_result",
          "data": {
            "text/plain": [
              "0   0.92\n",
              "1   0.08\n",
              "Name: XGBoost Based Decision, dtype: float64"
            ]
          },
          "metadata": {
            "tags": []
          },
          "execution_count": 93
        }
      ]
    },
    {
      "cell_type": "markdown",
      "metadata": {
        "id": "-ZhNWzrlOcdw",
        "colab_type": "text"
      },
      "source": [
        "# getting results columns in one dataframe"
      ]
    },
    {
      "cell_type": "code",
      "metadata": {
        "id": "ITyA59PuOhVI",
        "colab_type": "code",
        "outputId": "7526f8a5-2690-452d-89e3-5b51a8db6f7e",
        "colab": {
          "base_uri": "https://localhost:8080/",
          "height": 115
        }
      },
      "source": [
        "results = X_test_fico['FICO Based Decision']\n",
        "results.head()"
      ],
      "execution_count": 0,
      "outputs": [
        {
          "output_type": "execute_result",
          "data": {
            "text/plain": [
              "0    1\n",
              "1    0\n",
              "2    1\n",
              "3    1\n",
              "4    1\n",
              "Name: FICO Based Decision, dtype: int64"
            ]
          },
          "metadata": {
            "tags": []
          },
          "execution_count": 94
        }
      ]
    },
    {
      "cell_type": "code",
      "metadata": {
        "id": "ku5GOCuRQhWx",
        "colab_type": "code",
        "colab": {}
      },
      "source": [
        "results_id = test['id']"
      ],
      "execution_count": 0,
      "outputs": []
    },
    {
      "cell_type": "code",
      "metadata": {
        "id": "5x8j40P7RHqF",
        "colab_type": "code",
        "colab": {}
      },
      "source": [
        "results_id.reset_index(drop=True, inplace=True)\n",
        "results.reset_index(drop=True, inplace=True)"
      ],
      "execution_count": 0,
      "outputs": []
    },
    {
      "cell_type": "code",
      "metadata": {
        "id": "-YwzhaQjQxAT",
        "colab_type": "code",
        "colab": {}
      },
      "source": [
        "results =  pd.concat([results_id,results],axis=1)"
      ],
      "execution_count": 0,
      "outputs": []
    },
    {
      "cell_type": "code",
      "metadata": {
        "id": "GjmbHJ88Q99p",
        "colab_type": "code",
        "outputId": "f7251be7-9e08-4750-8bd9-43e819f81a11",
        "colab": {
          "base_uri": "https://localhost:8080/",
          "height": 191
        }
      },
      "source": [
        "results.head()"
      ],
      "execution_count": 0,
      "outputs": [
        {
          "output_type": "execute_result",
          "data": {
            "text/html": [
              "<div>\n",
              "<style scoped>\n",
              "    .dataframe tbody tr th:only-of-type {\n",
              "        vertical-align: middle;\n",
              "    }\n",
              "\n",
              "    .dataframe tbody tr th {\n",
              "        vertical-align: top;\n",
              "    }\n",
              "\n",
              "    .dataframe thead th {\n",
              "        text-align: right;\n",
              "    }\n",
              "</style>\n",
              "<table border=\"1\" class=\"dataframe\">\n",
              "  <thead>\n",
              "    <tr style=\"text-align: right;\">\n",
              "      <th></th>\n",
              "      <th>id</th>\n",
              "      <th>FICO Based Decision</th>\n",
              "    </tr>\n",
              "  </thead>\n",
              "  <tbody>\n",
              "    <tr>\n",
              "      <th>0</th>\n",
              "      <td>2306153</td>\n",
              "      <td>1</td>\n",
              "    </tr>\n",
              "    <tr>\n",
              "      <th>1</th>\n",
              "      <td>2742880</td>\n",
              "      <td>0</td>\n",
              "    </tr>\n",
              "    <tr>\n",
              "      <th>2</th>\n",
              "      <td>1960543</td>\n",
              "      <td>1</td>\n",
              "    </tr>\n",
              "    <tr>\n",
              "      <th>3</th>\n",
              "      <td>2405658</td>\n",
              "      <td>1</td>\n",
              "    </tr>\n",
              "    <tr>\n",
              "      <th>4</th>\n",
              "      <td>1597534</td>\n",
              "      <td>1</td>\n",
              "    </tr>\n",
              "  </tbody>\n",
              "</table>\n",
              "</div>"
            ],
            "text/plain": [
              "        id  FICO Based Decision\n",
              "0  2306153                    1\n",
              "1  2742880                    0\n",
              "2  1960543                    1\n",
              "3  2405658                    1\n",
              "4  1597534                    1"
            ]
          },
          "metadata": {
            "tags": []
          },
          "execution_count": 98
        }
      ]
    },
    {
      "cell_type": "code",
      "metadata": {
        "id": "ZLwcW1GrSH4o",
        "colab_type": "code",
        "outputId": "fc1a7728-b157-4d6b-af18-56a250f828b9",
        "colab": {
          "base_uri": "https://localhost:8080/",
          "height": 191
        }
      },
      "source": [
        "xgg = pd.DataFrame(Y_pred)\n",
        "xgg = xgg.rename(columns={0:\"XGB Decision\"})\n",
        "xgg.head()"
      ],
      "execution_count": 0,
      "outputs": [
        {
          "output_type": "execute_result",
          "data": {
            "text/html": [
              "<div>\n",
              "<style scoped>\n",
              "    .dataframe tbody tr th:only-of-type {\n",
              "        vertical-align: middle;\n",
              "    }\n",
              "\n",
              "    .dataframe tbody tr th {\n",
              "        vertical-align: top;\n",
              "    }\n",
              "\n",
              "    .dataframe thead th {\n",
              "        text-align: right;\n",
              "    }\n",
              "</style>\n",
              "<table border=\"1\" class=\"dataframe\">\n",
              "  <thead>\n",
              "    <tr style=\"text-align: right;\">\n",
              "      <th></th>\n",
              "      <th>XGB Decision</th>\n",
              "    </tr>\n",
              "  </thead>\n",
              "  <tbody>\n",
              "    <tr>\n",
              "      <th>0</th>\n",
              "      <td>0</td>\n",
              "    </tr>\n",
              "    <tr>\n",
              "      <th>1</th>\n",
              "      <td>0</td>\n",
              "    </tr>\n",
              "    <tr>\n",
              "      <th>2</th>\n",
              "      <td>0</td>\n",
              "    </tr>\n",
              "    <tr>\n",
              "      <th>3</th>\n",
              "      <td>0</td>\n",
              "    </tr>\n",
              "    <tr>\n",
              "      <th>4</th>\n",
              "      <td>0</td>\n",
              "    </tr>\n",
              "  </tbody>\n",
              "</table>\n",
              "</div>"
            ],
            "text/plain": [
              "   XGB Decision\n",
              "0             0\n",
              "1             0\n",
              "2             0\n",
              "3             0\n",
              "4             0"
            ]
          },
          "metadata": {
            "tags": []
          },
          "execution_count": 99
        }
      ]
    },
    {
      "cell_type": "code",
      "metadata": {
        "id": "k0tynXrxSeLh",
        "colab_type": "code",
        "colab": {}
      },
      "source": [
        "xgg.reset_index(drop=True, inplace=True)\n",
        "results.reset_index(drop=True, inplace=True)"
      ],
      "execution_count": 0,
      "outputs": []
    },
    {
      "cell_type": "code",
      "metadata": {
        "id": "gw-8-sv5SjUf",
        "colab_type": "code",
        "colab": {}
      },
      "source": [
        "results =  pd.concat([results,xgg],axis=1)"
      ],
      "execution_count": 0,
      "outputs": []
    },
    {
      "cell_type": "code",
      "metadata": {
        "id": "BnzctIh_S4O8",
        "colab_type": "code",
        "colab": {}
      },
      "source": [
        "ficot = fico_and_id_test['FICO']"
      ],
      "execution_count": 0,
      "outputs": []
    },
    {
      "cell_type": "code",
      "metadata": {
        "id": "IxSBaqSSTDBS",
        "colab_type": "code",
        "colab": {}
      },
      "source": [
        "results =  pd.concat([results,ficot],axis=1)"
      ],
      "execution_count": 0,
      "outputs": []
    },
    {
      "cell_type": "code",
      "metadata": {
        "id": "Gr2JuZODscsz",
        "colab_type": "code",
        "colab": {}
      },
      "source": [
        "actual_dec = pd.DataFrame(Y_test_fico)"
      ],
      "execution_count": 0,
      "outputs": []
    },
    {
      "cell_type": "code",
      "metadata": {
        "id": "gX6Ui9dRswYW",
        "colab_type": "code",
        "colab": {}
      },
      "source": [
        "actual_dec = actual_dec.rename(columns={0:\"Actual Decision\"})"
      ],
      "execution_count": 0,
      "outputs": []
    },
    {
      "cell_type": "code",
      "metadata": {
        "id": "6hRYqJW_tDGF",
        "colab_type": "code",
        "colab": {}
      },
      "source": [
        "actual_dec.reset_index(drop=True, inplace=True)\n",
        "results.reset_index(drop=True, inplace=True)"
      ],
      "execution_count": 0,
      "outputs": []
    },
    {
      "cell_type": "code",
      "metadata": {
        "id": "OvRVvrOItIi8",
        "colab_type": "code",
        "colab": {}
      },
      "source": [
        "results =  pd.concat([results,actual_dec],axis=1)"
      ],
      "execution_count": 0,
      "outputs": []
    },
    {
      "cell_type": "code",
      "metadata": {
        "id": "gE5qDbPsSuNG",
        "colab_type": "code",
        "outputId": "ae3fe0e8-65a0-4681-fc23-b8d687cce7f6",
        "colab": {
          "base_uri": "https://localhost:8080/",
          "height": 191
        }
      },
      "source": [
        "results.head()"
      ],
      "execution_count": 0,
      "outputs": [
        {
          "output_type": "execute_result",
          "data": {
            "text/html": [
              "<div>\n",
              "<style scoped>\n",
              "    .dataframe tbody tr th:only-of-type {\n",
              "        vertical-align: middle;\n",
              "    }\n",
              "\n",
              "    .dataframe tbody tr th {\n",
              "        vertical-align: top;\n",
              "    }\n",
              "\n",
              "    .dataframe thead th {\n",
              "        text-align: right;\n",
              "    }\n",
              "</style>\n",
              "<table border=\"1\" class=\"dataframe\">\n",
              "  <thead>\n",
              "    <tr style=\"text-align: right;\">\n",
              "      <th></th>\n",
              "      <th>id</th>\n",
              "      <th>FICO Based Decision</th>\n",
              "      <th>XGB Decision</th>\n",
              "      <th>FICO</th>\n",
              "      <th>Final Decision 2</th>\n",
              "    </tr>\n",
              "  </thead>\n",
              "  <tbody>\n",
              "    <tr>\n",
              "      <th>0</th>\n",
              "      <td>2306153</td>\n",
              "      <td>1</td>\n",
              "      <td>0</td>\n",
              "      <td>731.00</td>\n",
              "      <td>0</td>\n",
              "    </tr>\n",
              "    <tr>\n",
              "      <th>1</th>\n",
              "      <td>2742880</td>\n",
              "      <td>0</td>\n",
              "      <td>0</td>\n",
              "      <td>700.00</td>\n",
              "      <td>0</td>\n",
              "    </tr>\n",
              "    <tr>\n",
              "      <th>2</th>\n",
              "      <td>1960543</td>\n",
              "      <td>1</td>\n",
              "      <td>0</td>\n",
              "      <td>712.00</td>\n",
              "      <td>0</td>\n",
              "    </tr>\n",
              "    <tr>\n",
              "      <th>3</th>\n",
              "      <td>2405658</td>\n",
              "      <td>1</td>\n",
              "      <td>0</td>\n",
              "      <td>746.00</td>\n",
              "      <td>0</td>\n",
              "    </tr>\n",
              "    <tr>\n",
              "      <th>4</th>\n",
              "      <td>1597534</td>\n",
              "      <td>1</td>\n",
              "      <td>0</td>\n",
              "      <td>680.00</td>\n",
              "      <td>0</td>\n",
              "    </tr>\n",
              "  </tbody>\n",
              "</table>\n",
              "</div>"
            ],
            "text/plain": [
              "        id  FICO Based Decision  XGB Decision   FICO  Final Decision 2\n",
              "0  2306153                    1             0 731.00                 0\n",
              "1  2742880                    0             0 700.00                 0\n",
              "2  1960543                    1             0 712.00                 0\n",
              "3  2405658                    1             0 746.00                 0\n",
              "4  1597534                    1             0 680.00                 0"
            ]
          },
          "metadata": {
            "tags": []
          },
          "execution_count": 108
        }
      ]
    },
    {
      "cell_type": "code",
      "metadata": {
        "id": "UP6c72FpTWZu",
        "colab_type": "code",
        "colab": {}
      },
      "source": [
        "results = results.astype(int)"
      ],
      "execution_count": 0,
      "outputs": []
    },
    {
      "cell_type": "code",
      "metadata": {
        "id": "YdlKXzB5TjmJ",
        "colab_type": "code",
        "outputId": "6b748c07-cb0d-432f-fef4-ee8ab32e3a47",
        "colab": {
          "base_uri": "https://localhost:8080/",
          "height": 191
        }
      },
      "source": [
        "results.head()"
      ],
      "execution_count": 0,
      "outputs": [
        {
          "output_type": "execute_result",
          "data": {
            "text/html": [
              "<div>\n",
              "<style scoped>\n",
              "    .dataframe tbody tr th:only-of-type {\n",
              "        vertical-align: middle;\n",
              "    }\n",
              "\n",
              "    .dataframe tbody tr th {\n",
              "        vertical-align: top;\n",
              "    }\n",
              "\n",
              "    .dataframe thead th {\n",
              "        text-align: right;\n",
              "    }\n",
              "</style>\n",
              "<table border=\"1\" class=\"dataframe\">\n",
              "  <thead>\n",
              "    <tr style=\"text-align: right;\">\n",
              "      <th></th>\n",
              "      <th>id</th>\n",
              "      <th>FICO Based Decision</th>\n",
              "      <th>XGB Decision</th>\n",
              "      <th>FICO</th>\n",
              "      <th>Final Decision 2</th>\n",
              "    </tr>\n",
              "  </thead>\n",
              "  <tbody>\n",
              "    <tr>\n",
              "      <th>0</th>\n",
              "      <td>2306153</td>\n",
              "      <td>1</td>\n",
              "      <td>0</td>\n",
              "      <td>731</td>\n",
              "      <td>0</td>\n",
              "    </tr>\n",
              "    <tr>\n",
              "      <th>1</th>\n",
              "      <td>2742880</td>\n",
              "      <td>0</td>\n",
              "      <td>0</td>\n",
              "      <td>700</td>\n",
              "      <td>0</td>\n",
              "    </tr>\n",
              "    <tr>\n",
              "      <th>2</th>\n",
              "      <td>1960543</td>\n",
              "      <td>1</td>\n",
              "      <td>0</td>\n",
              "      <td>712</td>\n",
              "      <td>0</td>\n",
              "    </tr>\n",
              "    <tr>\n",
              "      <th>3</th>\n",
              "      <td>2405658</td>\n",
              "      <td>1</td>\n",
              "      <td>0</td>\n",
              "      <td>746</td>\n",
              "      <td>0</td>\n",
              "    </tr>\n",
              "    <tr>\n",
              "      <th>4</th>\n",
              "      <td>1597534</td>\n",
              "      <td>1</td>\n",
              "      <td>0</td>\n",
              "      <td>680</td>\n",
              "      <td>0</td>\n",
              "    </tr>\n",
              "  </tbody>\n",
              "</table>\n",
              "</div>"
            ],
            "text/plain": [
              "        id  FICO Based Decision  XGB Decision  FICO  Final Decision 2\n",
              "0  2306153                    1             0   731                 0\n",
              "1  2742880                    0             0   700                 0\n",
              "2  1960543                    1             0   712                 0\n",
              "3  2405658                    1             0   746                 0\n",
              "4  1597534                    1             0   680                 0"
            ]
          },
          "metadata": {
            "tags": []
          },
          "execution_count": 110
        }
      ]
    },
    {
      "cell_type": "code",
      "metadata": {
        "id": "IflV9uRrPjQP",
        "colab_type": "code",
        "outputId": "6676efd8-4695-4854-c3f2-231b4225aa92",
        "colab": {
          "base_uri": "https://localhost:8080/",
          "height": 228
        }
      },
      "source": [
        "X_test_fico[['FICO','FICO Based Decision']].groupby(pd.cut(X_test_fico[\"FICO\"], np.arange(300, 850+50, 50)))['FICO Based Decision'].mean()\n"
      ],
      "execution_count": 0,
      "outputs": [
        {
          "output_type": "execute_result",
          "data": {
            "text/plain": [
              "FICO\n",
              "(300, 350]    nan\n",
              "(350, 400]    nan\n",
              "(400, 450]   0.00\n",
              "(450, 500]   0.00\n",
              "(500, 550]   0.00\n",
              "(550, 600]   0.00\n",
              "(600, 650]   0.01\n",
              "(650, 700]   0.34\n",
              "(700, 750]   0.61\n",
              "(750, 800]   1.00\n",
              "(800, 850]   1.00\n",
              "Name: FICO Based Decision, dtype: float64"
            ]
          },
          "metadata": {
            "tags": []
          },
          "execution_count": 111
        }
      ]
    },
    {
      "cell_type": "code",
      "metadata": {
        "id": "YFsJ2VXXPMia",
        "colab_type": "code",
        "outputId": "3df20a17-7a13-45df-dc11-475f07d3eb2d",
        "colab": {
          "base_uri": "https://localhost:8080/",
          "height": 228
        }
      },
      "source": [
        "results[['FICO','XGB Decision']].groupby(pd.cut(X_test_fico[\"FICO\"], np.arange(300, 850+50, 50)))['XGB Decision'].count()\n"
      ],
      "execution_count": 0,
      "outputs": [
        {
          "output_type": "execute_result",
          "data": {
            "text/plain": [
              "FICO\n",
              "(300, 350]         0\n",
              "(350, 400]         0\n",
              "(400, 450]        61\n",
              "(450, 500]      1269\n",
              "(500, 550]     13646\n",
              "(550, 600]     53241\n",
              "(600, 650]    161595\n",
              "(650, 700]    314791\n",
              "(700, 750]    216234\n",
              "(750, 800]    138947\n",
              "(800, 850]       216\n",
              "Name: XGB Decision, dtype: int64"
            ]
          },
          "metadata": {
            "tags": []
          },
          "execution_count": 112
        }
      ]
    },
    {
      "cell_type": "code",
      "metadata": {
        "id": "ySCFy3vSJOzd",
        "colab_type": "code",
        "colab": {}
      },
      "source": [
        "dtis = test[['Debt/Income Ratio']]"
      ],
      "execution_count": 0,
      "outputs": []
    },
    {
      "cell_type": "code",
      "metadata": {
        "id": "PRvm3iAzJ9UT",
        "colab_type": "code",
        "colab": {}
      },
      "source": [
        "dtis.reset_index(drop=True, inplace=True)\n",
        "results.reset_index(drop=True, inplace=True)"
      ],
      "execution_count": 0,
      "outputs": []
    },
    {
      "cell_type": "code",
      "metadata": {
        "id": "UTU39-CSJjfx",
        "colab_type": "code",
        "colab": {}
      },
      "source": [
        "results =  pd.concat([results,dtis],axis=1)"
      ],
      "execution_count": 0,
      "outputs": []
    },
    {
      "cell_type": "code",
      "metadata": {
        "id": "egbpRmL2rFUF",
        "colab_type": "code",
        "colab": {}
      },
      "source": [
        "accept_score = test[['Acceptance Score 2']]"
      ],
      "execution_count": 0,
      "outputs": []
    },
    {
      "cell_type": "code",
      "metadata": {
        "id": "pshjGvAsra9j",
        "colab_type": "code",
        "colab": {}
      },
      "source": [
        "accept_score.reset_index(drop=True, inplace=True)\n",
        "results.reset_index(drop=True, inplace=True)"
      ],
      "execution_count": 0,
      "outputs": []
    },
    {
      "cell_type": "code",
      "metadata": {
        "id": "HIf6tiZYrdJM",
        "colab_type": "code",
        "colab": {}
      },
      "source": [
        "results =  pd.concat([results,accept_score],axis=1)"
      ],
      "execution_count": 0,
      "outputs": []
    },
    {
      "cell_type": "code",
      "metadata": {
        "id": "FavAIVvlJ2YL",
        "colab_type": "code",
        "outputId": "16aaa8dd-a035-42a3-b13c-4526e670733f",
        "colab": {
          "base_uri": "https://localhost:8080/",
          "height": 133
        }
      },
      "source": [
        "results.head(3)"
      ],
      "execution_count": 0,
      "outputs": [
        {
          "output_type": "execute_result",
          "data": {
            "text/html": [
              "<div>\n",
              "<style scoped>\n",
              "    .dataframe tbody tr th:only-of-type {\n",
              "        vertical-align: middle;\n",
              "    }\n",
              "\n",
              "    .dataframe tbody tr th {\n",
              "        vertical-align: top;\n",
              "    }\n",
              "\n",
              "    .dataframe thead th {\n",
              "        text-align: right;\n",
              "    }\n",
              "</style>\n",
              "<table border=\"1\" class=\"dataframe\">\n",
              "  <thead>\n",
              "    <tr style=\"text-align: right;\">\n",
              "      <th></th>\n",
              "      <th>id</th>\n",
              "      <th>FICO Based Decision</th>\n",
              "      <th>XGB Decision</th>\n",
              "      <th>FICO</th>\n",
              "      <th>Final Decision 2</th>\n",
              "      <th>Debt/Income Ratio</th>\n",
              "      <th>Acceptance Score 2</th>\n",
              "    </tr>\n",
              "  </thead>\n",
              "  <tbody>\n",
              "    <tr>\n",
              "      <th>0</th>\n",
              "      <td>2306153</td>\n",
              "      <td>1</td>\n",
              "      <td>0</td>\n",
              "      <td>731</td>\n",
              "      <td>0</td>\n",
              "      <td>0.50</td>\n",
              "      <td>3.69</td>\n",
              "    </tr>\n",
              "    <tr>\n",
              "      <th>1</th>\n",
              "      <td>2742880</td>\n",
              "      <td>0</td>\n",
              "      <td>0</td>\n",
              "      <td>700</td>\n",
              "      <td>0</td>\n",
              "      <td>0.03</td>\n",
              "      <td>5.05</td>\n",
              "    </tr>\n",
              "    <tr>\n",
              "      <th>2</th>\n",
              "      <td>1960543</td>\n",
              "      <td>1</td>\n",
              "      <td>0</td>\n",
              "      <td>712</td>\n",
              "      <td>0</td>\n",
              "      <td>0.11</td>\n",
              "      <td>5.82</td>\n",
              "    </tr>\n",
              "  </tbody>\n",
              "</table>\n",
              "</div>"
            ],
            "text/plain": [
              "        id  FICO Based Decision  XGB Decision  FICO  Final Decision 2  \\\n",
              "0  2306153                    1             0   731                 0   \n",
              "1  2742880                    0             0   700                 0   \n",
              "2  1960543                    1             0   712                 0   \n",
              "\n",
              "   Debt/Income Ratio  Acceptance Score 2  \n",
              "0               0.50                3.69  \n",
              "1               0.03                5.05  \n",
              "2               0.11                5.82  "
            ]
          },
          "metadata": {
            "tags": []
          },
          "execution_count": 119
        }
      ]
    },
    {
      "cell_type": "code",
      "metadata": {
        "id": "F4ixF8CqTw9U",
        "colab_type": "code",
        "colab": {}
      },
      "source": [
        "def defaulted(row):\n",
        "  if row['Acceptance Score 2'] <= 4:\n",
        "    return random.choices(population=[0,1],  weights=[0.95, 0.05],  k=1)[0]\n",
        "  else:\n",
        "    if row['FICO'] < 520:\n",
        "      return random.choices(population=[0,1],  weights=[0.41, 0.59],  k=1)[0]\n",
        "    elif row['FICO'] >= 520 and row['FICO'] < 560:\n",
        "      return random.choices(population=[0,1],  weights=[0.28, 0.72],  k=1)[0]\n",
        "    elif row['FICO'] >= 560 and row['FICO'] < 600:\n",
        "      return random.choices(population=[0,1],  weights=[0.23, 0.77],  k=1)[0]\n",
        "    elif row['FICO'] >= 600 and row['FICO'] < 640:\n",
        "      return random.choices(population=[0,1],  weights=[0.16, 0.84],  k=1)[0]\n",
        "    elif row['FICO'] >= 640 and row['FICO'] < 680:\n",
        "      return random.choices(population=[0,1],  weights=[0.9, 0.91],  k=1)[0]\n",
        "    elif row['FICO'] >= 680 and row['FICO'] < 720:\n",
        "      return random.choices(population=[0,1],  weights=[0.044, 0.956],  k=1)[0]\n",
        "    elif row['FICO'] >= 720:\n",
        "      return random.choices(population=[0,1],  weights=[0.008, 0.992],  k=1)[0]\n",
        "    else:\n",
        "      return 0\n"
      ],
      "execution_count": 0,
      "outputs": []
    },
    {
      "cell_type": "code",
      "metadata": {
        "id": "X3W60XMJYeNt",
        "colab_type": "code",
        "colab": {}
      },
      "source": [
        "results['Defaulted (1 is DID NOT default)'] = results.apply(defaulted,axis=1)"
      ],
      "execution_count": 0,
      "outputs": []
    },
    {
      "cell_type": "code",
      "metadata": {
        "id": "YuatOAu0colf",
        "colab_type": "code",
        "colab": {}
      },
      "source": [
        "def FICO_rating(row):\n",
        "  if row['FICO'] < 560:\n",
        "    return 'Poor'\n",
        "  elif row['FICO'] >= 560 and row['FICO'] < 670:\n",
        "    return 'Fair'\n",
        "  elif row['FICO'] >= 670 and row['FICO'] < 740:\n",
        "    return 'Good'\n",
        "  elif row['FICO'] >= 740 and row['FICO'] < 800:\n",
        "    return 'Very Good'\n",
        "  elif row['FICO'] >= 800:\n",
        "    return 'Excellent'\n",
        "  else:\n",
        "    return 'Poor'"
      ],
      "execution_count": 0,
      "outputs": []
    },
    {
      "cell_type": "code",
      "metadata": {
        "id": "j3kIS3v0eXDr",
        "colab_type": "code",
        "colab": {}
      },
      "source": [
        "results['FICO Rating'] = results.apply(FICO_rating,axis=1)"
      ],
      "execution_count": 0,
      "outputs": []
    },
    {
      "cell_type": "code",
      "metadata": {
        "id": "7KOXtAILedwt",
        "colab_type": "code",
        "colab": {}
      },
      "source": [
        "results = results[['id','FICO','FICO Rating','FICO Based Decision','XGB Decision','Defaulted (1 is DID NOT default)','Acceptance Score 2','Final Decision 2']]"
      ],
      "execution_count": 0,
      "outputs": []
    },
    {
      "cell_type": "code",
      "metadata": {
        "id": "d_n00dTfY_wA",
        "colab_type": "code",
        "outputId": "2d413972-6189-4449-e74e-9c2af3a23066",
        "colab": {
          "base_uri": "https://localhost:8080/",
          "height": 191
        }
      },
      "source": [
        "results.head()"
      ],
      "execution_count": 0,
      "outputs": [
        {
          "output_type": "execute_result",
          "data": {
            "text/html": [
              "<div>\n",
              "<style scoped>\n",
              "    .dataframe tbody tr th:only-of-type {\n",
              "        vertical-align: middle;\n",
              "    }\n",
              "\n",
              "    .dataframe tbody tr th {\n",
              "        vertical-align: top;\n",
              "    }\n",
              "\n",
              "    .dataframe thead th {\n",
              "        text-align: right;\n",
              "    }\n",
              "</style>\n",
              "<table border=\"1\" class=\"dataframe\">\n",
              "  <thead>\n",
              "    <tr style=\"text-align: right;\">\n",
              "      <th></th>\n",
              "      <th>id</th>\n",
              "      <th>FICO</th>\n",
              "      <th>FICO Rating</th>\n",
              "      <th>FICO Based Decision</th>\n",
              "      <th>XGB Decision</th>\n",
              "      <th>Defaulted (1 is DID NOT default)</th>\n",
              "      <th>Acceptance Score 2</th>\n",
              "      <th>Final Decision 2</th>\n",
              "    </tr>\n",
              "  </thead>\n",
              "  <tbody>\n",
              "    <tr>\n",
              "      <th>0</th>\n",
              "      <td>2306153</td>\n",
              "      <td>731</td>\n",
              "      <td>Good</td>\n",
              "      <td>1</td>\n",
              "      <td>0</td>\n",
              "      <td>0</td>\n",
              "      <td>3.69</td>\n",
              "      <td>0</td>\n",
              "    </tr>\n",
              "    <tr>\n",
              "      <th>1</th>\n",
              "      <td>2742880</td>\n",
              "      <td>700</td>\n",
              "      <td>Good</td>\n",
              "      <td>0</td>\n",
              "      <td>0</td>\n",
              "      <td>1</td>\n",
              "      <td>5.05</td>\n",
              "      <td>0</td>\n",
              "    </tr>\n",
              "    <tr>\n",
              "      <th>2</th>\n",
              "      <td>1960543</td>\n",
              "      <td>712</td>\n",
              "      <td>Good</td>\n",
              "      <td>1</td>\n",
              "      <td>0</td>\n",
              "      <td>1</td>\n",
              "      <td>5.82</td>\n",
              "      <td>0</td>\n",
              "    </tr>\n",
              "    <tr>\n",
              "      <th>3</th>\n",
              "      <td>2405658</td>\n",
              "      <td>746</td>\n",
              "      <td>Very Good</td>\n",
              "      <td>1</td>\n",
              "      <td>0</td>\n",
              "      <td>1</td>\n",
              "      <td>4.61</td>\n",
              "      <td>0</td>\n",
              "    </tr>\n",
              "    <tr>\n",
              "      <th>4</th>\n",
              "      <td>1597534</td>\n",
              "      <td>680</td>\n",
              "      <td>Good</td>\n",
              "      <td>1</td>\n",
              "      <td>0</td>\n",
              "      <td>1</td>\n",
              "      <td>5.01</td>\n",
              "      <td>0</td>\n",
              "    </tr>\n",
              "  </tbody>\n",
              "</table>\n",
              "</div>"
            ],
            "text/plain": [
              "        id  FICO FICO Rating  FICO Based Decision  XGB Decision  \\\n",
              "0  2306153   731        Good                    1             0   \n",
              "1  2742880   700        Good                    0             0   \n",
              "2  1960543   712        Good                    1             0   \n",
              "3  2405658   746   Very Good                    1             0   \n",
              "4  1597534   680        Good                    1             0   \n",
              "\n",
              "   Defaulted (1 is DID NOT default)  Acceptance Score 2  Final Decision 2  \n",
              "0                                 0                3.69                 0  \n",
              "1                                 1                5.05                 0  \n",
              "2                                 1                5.82                 0  \n",
              "3                                 1                4.61                 0  \n",
              "4                                 1                5.01                 0  "
            ]
          },
          "metadata": {
            "tags": []
          },
          "execution_count": 125
        }
      ]
    },
    {
      "cell_type": "code",
      "metadata": {
        "id": "AukZekXkZy39",
        "colab_type": "code",
        "outputId": "43ab2192-5bc4-4f18-ab8f-4e1c9ea72e21",
        "colab": {
          "base_uri": "https://localhost:8080/",
          "height": 248
        }
      },
      "source": [
        "results.corr()"
      ],
      "execution_count": 0,
      "outputs": [
        {
          "output_type": "execute_result",
          "data": {
            "text/html": [
              "<div>\n",
              "<style scoped>\n",
              "    .dataframe tbody tr th:only-of-type {\n",
              "        vertical-align: middle;\n",
              "    }\n",
              "\n",
              "    .dataframe tbody tr th {\n",
              "        vertical-align: top;\n",
              "    }\n",
              "\n",
              "    .dataframe thead th {\n",
              "        text-align: right;\n",
              "    }\n",
              "</style>\n",
              "<table border=\"1\" class=\"dataframe\">\n",
              "  <thead>\n",
              "    <tr style=\"text-align: right;\">\n",
              "      <th></th>\n",
              "      <th>id</th>\n",
              "      <th>FICO</th>\n",
              "      <th>FICO Based Decision</th>\n",
              "      <th>XGB Decision</th>\n",
              "      <th>Defaulted (1 is DID NOT default)</th>\n",
              "      <th>Acceptance Score 2</th>\n",
              "      <th>Final Decision 2</th>\n",
              "    </tr>\n",
              "  </thead>\n",
              "  <tbody>\n",
              "    <tr>\n",
              "      <th>id</th>\n",
              "      <td>1.00</td>\n",
              "      <td>0.00</td>\n",
              "      <td>0.00</td>\n",
              "      <td>-0.00</td>\n",
              "      <td>0.00</td>\n",
              "      <td>0.00</td>\n",
              "      <td>-0.00</td>\n",
              "    </tr>\n",
              "    <tr>\n",
              "      <th>FICO</th>\n",
              "      <td>0.00</td>\n",
              "      <td>1.00</td>\n",
              "      <td>0.67</td>\n",
              "      <td>0.13</td>\n",
              "      <td>0.31</td>\n",
              "      <td>0.27</td>\n",
              "      <td>0.15</td>\n",
              "    </tr>\n",
              "    <tr>\n",
              "      <th>FICO Based Decision</th>\n",
              "      <td>0.00</td>\n",
              "      <td>0.67</td>\n",
              "      <td>1.00</td>\n",
              "      <td>0.08</td>\n",
              "      <td>0.27</td>\n",
              "      <td>0.20</td>\n",
              "      <td>0.10</td>\n",
              "    </tr>\n",
              "    <tr>\n",
              "      <th>XGB Decision</th>\n",
              "      <td>-0.00</td>\n",
              "      <td>0.13</td>\n",
              "      <td>0.08</td>\n",
              "      <td>1.00</td>\n",
              "      <td>0.11</td>\n",
              "      <td>0.52</td>\n",
              "      <td>0.83</td>\n",
              "    </tr>\n",
              "    <tr>\n",
              "      <th>Defaulted (1 is DID NOT default)</th>\n",
              "      <td>0.00</td>\n",
              "      <td>0.31</td>\n",
              "      <td>0.27</td>\n",
              "      <td>0.11</td>\n",
              "      <td>1.00</td>\n",
              "      <td>0.46</td>\n",
              "      <td>0.12</td>\n",
              "    </tr>\n",
              "    <tr>\n",
              "      <th>Acceptance Score 2</th>\n",
              "      <td>0.00</td>\n",
              "      <td>0.27</td>\n",
              "      <td>0.20</td>\n",
              "      <td>0.52</td>\n",
              "      <td>0.46</td>\n",
              "      <td>1.00</td>\n",
              "      <td>0.56</td>\n",
              "    </tr>\n",
              "    <tr>\n",
              "      <th>Final Decision 2</th>\n",
              "      <td>-0.00</td>\n",
              "      <td>0.15</td>\n",
              "      <td>0.10</td>\n",
              "      <td>0.83</td>\n",
              "      <td>0.12</td>\n",
              "      <td>0.56</td>\n",
              "      <td>1.00</td>\n",
              "    </tr>\n",
              "  </tbody>\n",
              "</table>\n",
              "</div>"
            ],
            "text/plain": [
              "                                    id  FICO  FICO Based Decision  \\\n",
              "id                                1.00  0.00                 0.00   \n",
              "FICO                              0.00  1.00                 0.67   \n",
              "FICO Based Decision               0.00  0.67                 1.00   \n",
              "XGB Decision                     -0.00  0.13                 0.08   \n",
              "Defaulted (1 is DID NOT default)  0.00  0.31                 0.27   \n",
              "Acceptance Score 2                0.00  0.27                 0.20   \n",
              "Final Decision 2                 -0.00  0.15                 0.10   \n",
              "\n",
              "                                  XGB Decision  \\\n",
              "id                                       -0.00   \n",
              "FICO                                      0.13   \n",
              "FICO Based Decision                       0.08   \n",
              "XGB Decision                              1.00   \n",
              "Defaulted (1 is DID NOT default)          0.11   \n",
              "Acceptance Score 2                        0.52   \n",
              "Final Decision 2                          0.83   \n",
              "\n",
              "                                  Defaulted (1 is DID NOT default)  \\\n",
              "id                                                            0.00   \n",
              "FICO                                                          0.31   \n",
              "FICO Based Decision                                           0.27   \n",
              "XGB Decision                                                  0.11   \n",
              "Defaulted (1 is DID NOT default)                              1.00   \n",
              "Acceptance Score 2                                            0.46   \n",
              "Final Decision 2                                              0.12   \n",
              "\n",
              "                                  Acceptance Score 2  Final Decision 2  \n",
              "id                                              0.00             -0.00  \n",
              "FICO                                            0.27              0.15  \n",
              "FICO Based Decision                             0.20              0.10  \n",
              "XGB Decision                                    0.52              0.83  \n",
              "Defaulted (1 is DID NOT default)                0.46              0.12  \n",
              "Acceptance Score 2                              1.00              0.56  \n",
              "Final Decision 2                                0.56              1.00  "
            ]
          },
          "metadata": {
            "tags": []
          },
          "execution_count": 126
        }
      ]
    },
    {
      "cell_type": "code",
      "metadata": {
        "id": "TO_-tZldb12S",
        "colab_type": "code",
        "outputId": "17f46a8d-b75c-4b66-aa6e-ddf8f27da528",
        "colab": {
          "base_uri": "https://localhost:8080/",
          "height": 212
        }
      },
      "source": [
        "results[['Defaulted (1 is DID NOT default)','FICO Rating']].groupby('FICO Rating')['Defaulted (1 is DID NOT default)'].value_counts(normalize=True)"
      ],
      "execution_count": 0,
      "outputs": [
        {
          "output_type": "execute_result",
          "data": {
            "text/plain": [
              "FICO Rating  Defaulted (1 is DID NOT default)\n",
              "Excellent    1                                  0.98\n",
              "             0                                  0.02\n",
              "Fair         1                                  0.54\n",
              "             0                                  0.46\n",
              "Good         1                                  0.81\n",
              "             0                                  0.19\n",
              "Poor         0                                  0.52\n",
              "             1                                  0.48\n",
              "Very Good    1                                  0.92\n",
              "             0                                  0.08\n",
              "Name: Defaulted (1 is DID NOT default), dtype: float64"
            ]
          },
          "metadata": {
            "tags": []
          },
          "execution_count": 127
        }
      ]
    },
    {
      "cell_type": "code",
      "metadata": {
        "id": "UE_5VugfaXQH",
        "colab_type": "code",
        "outputId": "ae4b0cb1-30d7-4c27-b6c4-1b0e6b24ed02",
        "colab": {
          "base_uri": "https://localhost:8080/",
          "height": 33
        }
      },
      "source": [
        "acc = accuracy_score(results['Defaulted (1 is DID NOT default)'].values,results['XGB Decision'].values)\n",
        "print(\"Accuracy of XGB Decision: %.2f\" % (acc*100),'%')"
      ],
      "execution_count": 0,
      "outputs": [
        {
          "output_type": "stream",
          "text": [
            "Accuracy of XGB Decision: 32.88 %\n"
          ],
          "name": "stdout"
        }
      ]
    },
    {
      "cell_type": "code",
      "metadata": {
        "id": "VDdOe6wUav7s",
        "colab_type": "code",
        "outputId": "d417a171-036e-4347-f0f8-4b5669a44a6a",
        "colab": {
          "base_uri": "https://localhost:8080/",
          "height": 33
        }
      },
      "source": [
        "acc = accuracy_score(results['Defaulted (1 is DID NOT default)'].values,results['FICO Based Decision'].values)\n",
        "print(\"Accuracy of FICO Based (Banker's Perspective) Decision: %.2f\" % (acc*100),'%')"
      ],
      "execution_count": 0,
      "outputs": [
        {
          "output_type": "stream",
          "text": [
            "Accuracy of FICO Based (Banker's Perspective) Decision: 58.10 %\n"
          ],
          "name": "stdout"
        }
      ]
    },
    {
      "cell_type": "code",
      "metadata": {
        "id": "idzxfon2f6_i",
        "colab_type": "code",
        "colab": {}
      },
      "source": [
        "approved_xgb = results[results['XGB Decision'] == 1]\n",
        "approved_fico = results[results['FICO Based Decision'] == 1]"
      ],
      "execution_count": 0,
      "outputs": []
    },
    {
      "cell_type": "code",
      "metadata": {
        "id": "32QzdwzYloaq",
        "colab_type": "code",
        "outputId": "f5d5b376-c763-47fc-d7da-f993274d3bba",
        "colab": {
          "base_uri": "https://localhost:8080/",
          "height": 50
        }
      },
      "source": [
        "approved_xgb['XGB Decision'].value_counts()"
      ],
      "execution_count": 0,
      "outputs": [
        {
          "output_type": "execute_result",
          "data": {
            "text/plain": [
              "1    70698\n",
              "Name: XGB Decision, dtype: int64"
            ]
          },
          "metadata": {
            "tags": []
          },
          "execution_count": 131
        }
      ]
    },
    {
      "cell_type": "code",
      "metadata": {
        "id": "qG-G90yjlrCm",
        "colab_type": "code",
        "outputId": "56abcf67-3fde-46a1-bd65-1f7cf53c484f",
        "colab": {
          "base_uri": "https://localhost:8080/",
          "height": 50
        }
      },
      "source": [
        "approved_fico['FICO Based Decision'].value_counts()"
      ],
      "execution_count": 0,
      "outputs": [
        {
          "output_type": "execute_result",
          "data": {
            "text/plain": [
              "1    379603\n",
              "Name: FICO Based Decision, dtype: int64"
            ]
          },
          "metadata": {
            "tags": []
          },
          "execution_count": 132
        }
      ]
    },
    {
      "cell_type": "code",
      "metadata": {
        "id": "pPrBy73ohTd1",
        "colab_type": "code",
        "outputId": "9fc33f6a-a016-426f-d081-15bfa1ccc549",
        "colab": {
          "base_uri": "https://localhost:8080/",
          "height": 33
        }
      },
      "source": [
        "acc = accuracy_score(approved_xgb['Defaulted (1 is DID NOT default)'].values,approved_xgb['XGB Decision'].values)\n",
        "print(\"Default Rate of XGB Decision: %.2f\" % (abs((acc*100)-100)),'%')"
      ],
      "execution_count": 0,
      "outputs": [
        {
          "output_type": "stream",
          "text": [
            "Default Rate of XGB Decision: 10.72 %\n"
          ],
          "name": "stdout"
        }
      ]
    },
    {
      "cell_type": "code",
      "metadata": {
        "id": "m7dpw3HAhtuq",
        "colab_type": "code",
        "outputId": "f86e383b-1709-454a-d576-713612be79a1",
        "colab": {
          "base_uri": "https://localhost:8080/",
          "height": 33
        }
      },
      "source": [
        "acc = accuracy_score(approved_fico['Defaulted (1 is DID NOT default)'].values,approved_fico['FICO Based Decision'].values)\n",
        "print(\"Default Rate of FICO Based (Banker's Perspective) Decision: %.2f\" % (abs((acc*100)-100)),'%')"
      ],
      "execution_count": 0,
      "outputs": [
        {
          "output_type": "stream",
          "text": [
            "Default Rate of FICO Based (Banker's Perspective) Decision: 12.79 %\n"
          ],
          "name": "stdout"
        }
      ]
    },
    {
      "cell_type": "code",
      "metadata": {
        "id": "UxHE9Gz84UQR",
        "colab_type": "code",
        "outputId": "f1eb3fca-3921-47ff-9d6b-c712f7b884b9",
        "colab": {
          "base_uri": "https://localhost:8080/",
          "height": 191
        }
      },
      "source": [
        "logg = pd.DataFrame(Y_pred_logreg)\n",
        "logg = logg.rename(columns={0:\"LogReg Decision\"})\n",
        "logg.head()"
      ],
      "execution_count": 0,
      "outputs": [
        {
          "output_type": "execute_result",
          "data": {
            "text/html": [
              "<div>\n",
              "<style scoped>\n",
              "    .dataframe tbody tr th:only-of-type {\n",
              "        vertical-align: middle;\n",
              "    }\n",
              "\n",
              "    .dataframe tbody tr th {\n",
              "        vertical-align: top;\n",
              "    }\n",
              "\n",
              "    .dataframe thead th {\n",
              "        text-align: right;\n",
              "    }\n",
              "</style>\n",
              "<table border=\"1\" class=\"dataframe\">\n",
              "  <thead>\n",
              "    <tr style=\"text-align: right;\">\n",
              "      <th></th>\n",
              "      <th>LogReg Decision</th>\n",
              "    </tr>\n",
              "  </thead>\n",
              "  <tbody>\n",
              "    <tr>\n",
              "      <th>0</th>\n",
              "      <td>0</td>\n",
              "    </tr>\n",
              "    <tr>\n",
              "      <th>1</th>\n",
              "      <td>0</td>\n",
              "    </tr>\n",
              "    <tr>\n",
              "      <th>2</th>\n",
              "      <td>0</td>\n",
              "    </tr>\n",
              "    <tr>\n",
              "      <th>3</th>\n",
              "      <td>0</td>\n",
              "    </tr>\n",
              "    <tr>\n",
              "      <th>4</th>\n",
              "      <td>0</td>\n",
              "    </tr>\n",
              "  </tbody>\n",
              "</table>\n",
              "</div>"
            ],
            "text/plain": [
              "   LogReg Decision\n",
              "0                0\n",
              "1                0\n",
              "2                0\n",
              "3                0\n",
              "4                0"
            ]
          },
          "metadata": {
            "tags": []
          },
          "execution_count": 135
        }
      ]
    },
    {
      "cell_type": "code",
      "metadata": {
        "id": "9JWtQ2tv4e7f",
        "colab_type": "code",
        "colab": {}
      },
      "source": [
        "logg.reset_index(drop=True, inplace=True)\n",
        "results.reset_index(drop=True, inplace=True)"
      ],
      "execution_count": 0,
      "outputs": []
    },
    {
      "cell_type": "code",
      "metadata": {
        "id": "cpnDXlQ95LYV",
        "colab_type": "code",
        "colab": {}
      },
      "source": [
        "results =  pd.concat([results,logg],axis=1)"
      ],
      "execution_count": 0,
      "outputs": []
    },
    {
      "cell_type": "code",
      "metadata": {
        "id": "xOM9_0Fm4vst",
        "colab_type": "code",
        "outputId": "29b09376-8341-400c-b228-c5b12fab4b87",
        "colab": {
          "base_uri": "https://localhost:8080/",
          "height": 191
        }
      },
      "source": [
        "naive = pd.DataFrame(Y_pred_naive)\n",
        "naive = naive.rename(columns={0:\"Naive Bayes Decision\"})\n",
        "naive.head()"
      ],
      "execution_count": 0,
      "outputs": [
        {
          "output_type": "execute_result",
          "data": {
            "text/html": [
              "<div>\n",
              "<style scoped>\n",
              "    .dataframe tbody tr th:only-of-type {\n",
              "        vertical-align: middle;\n",
              "    }\n",
              "\n",
              "    .dataframe tbody tr th {\n",
              "        vertical-align: top;\n",
              "    }\n",
              "\n",
              "    .dataframe thead th {\n",
              "        text-align: right;\n",
              "    }\n",
              "</style>\n",
              "<table border=\"1\" class=\"dataframe\">\n",
              "  <thead>\n",
              "    <tr style=\"text-align: right;\">\n",
              "      <th></th>\n",
              "      <th>Naive Bayes Decision</th>\n",
              "    </tr>\n",
              "  </thead>\n",
              "  <tbody>\n",
              "    <tr>\n",
              "      <th>0</th>\n",
              "      <td>0</td>\n",
              "    </tr>\n",
              "    <tr>\n",
              "      <th>1</th>\n",
              "      <td>0</td>\n",
              "    </tr>\n",
              "    <tr>\n",
              "      <th>2</th>\n",
              "      <td>1</td>\n",
              "    </tr>\n",
              "    <tr>\n",
              "      <th>3</th>\n",
              "      <td>0</td>\n",
              "    </tr>\n",
              "    <tr>\n",
              "      <th>4</th>\n",
              "      <td>0</td>\n",
              "    </tr>\n",
              "  </tbody>\n",
              "</table>\n",
              "</div>"
            ],
            "text/plain": [
              "   Naive Bayes Decision\n",
              "0                     0\n",
              "1                     0\n",
              "2                     1\n",
              "3                     0\n",
              "4                     0"
            ]
          },
          "metadata": {
            "tags": []
          },
          "execution_count": 138
        }
      ]
    },
    {
      "cell_type": "code",
      "metadata": {
        "id": "GHB_VPzP4wOD",
        "colab_type": "code",
        "colab": {}
      },
      "source": [
        "naive.reset_index(drop=True, inplace=True)\n",
        "results.reset_index(drop=True, inplace=True)"
      ],
      "execution_count": 0,
      "outputs": []
    },
    {
      "cell_type": "code",
      "metadata": {
        "id": "LTyCBgZt5jvG",
        "colab_type": "code",
        "colab": {}
      },
      "source": [
        "results =  pd.concat([results,naive],axis=1)"
      ],
      "execution_count": 0,
      "outputs": []
    },
    {
      "cell_type": "code",
      "metadata": {
        "id": "qggmqSe310tC",
        "colab_type": "code",
        "colab": {}
      },
      "source": [
        "xgb_nocredit = pd.DataFrame(Y_pred_nocredit)\n",
        "xgb_nocredit = xgb_nocredit.rename(columns={0:\"XGB Decision (No Credit)\"})\n",
        "\n",
        "naive_nocredit = pd.DataFrame(Y_pred_naive_nocredit)\n",
        "naive_nocredit = naive_nocredit.rename(columns={0:\"Naive Bayes Decision (No Credit)\"})\n",
        "\n",
        "logreg_nocredit = pd.DataFrame(Y_pred_logreg_nocredit)\n",
        "logreg_nocredit = logreg_nocredit.rename(columns={0:\"LogReg Decision (No Credit)\"})"
      ],
      "execution_count": 0,
      "outputs": []
    },
    {
      "cell_type": "code",
      "metadata": {
        "id": "KHEN6Fm03k5A",
        "colab_type": "code",
        "colab": {}
      },
      "source": [
        "xgb_nocredit.reset_index(drop=True, inplace=True)\n",
        "naive_nocredit.reset_index(drop=True, inplace=True)\n",
        "logreg_nocredit.reset_index(drop=True, inplace=True)\n",
        "results.reset_index(drop=True, inplace=True)"
      ],
      "execution_count": 0,
      "outputs": []
    },
    {
      "cell_type": "code",
      "metadata": {
        "id": "xl12WdDE3vUb",
        "colab_type": "code",
        "colab": {}
      },
      "source": [
        "results =  pd.concat([results,xgb_nocredit,naive_nocredit,logreg_nocredit],axis=1)"
      ],
      "execution_count": 0,
      "outputs": []
    },
    {
      "cell_type": "code",
      "metadata": {
        "id": "Qwsruds85uIh",
        "colab_type": "code",
        "colab": {}
      },
      "source": [
        "results = results[['id','FICO','FICO Rating','FICO Based Decision','XGB Decision','LogReg Decision','Naive Bayes Decision','XGB Decision (No Credit)','LogReg Decision (No Credit)','Naive Bayes Decision (No Credit)','Defaulted (1 is DID NOT default)','Acceptance Score 2','Final Decision 2']]"
      ],
      "execution_count": 0,
      "outputs": []
    },
    {
      "cell_type": "code",
      "metadata": {
        "id": "_TQDzkrg6HxG",
        "colab_type": "code",
        "outputId": "04859f55-714f-46d9-958b-487f6afe2e2e",
        "colab": {
          "base_uri": "https://localhost:8080/",
          "height": 121
        }
      },
      "source": [
        "results.head(2)"
      ],
      "execution_count": 0,
      "outputs": [
        {
          "output_type": "execute_result",
          "data": {
            "text/html": [
              "<div>\n",
              "<style scoped>\n",
              "    .dataframe tbody tr th:only-of-type {\n",
              "        vertical-align: middle;\n",
              "    }\n",
              "\n",
              "    .dataframe tbody tr th {\n",
              "        vertical-align: top;\n",
              "    }\n",
              "\n",
              "    .dataframe thead th {\n",
              "        text-align: right;\n",
              "    }\n",
              "</style>\n",
              "<table border=\"1\" class=\"dataframe\">\n",
              "  <thead>\n",
              "    <tr style=\"text-align: right;\">\n",
              "      <th></th>\n",
              "      <th>id</th>\n",
              "      <th>FICO</th>\n",
              "      <th>FICO Rating</th>\n",
              "      <th>FICO Based Decision</th>\n",
              "      <th>XGB Decision</th>\n",
              "      <th>LogReg Decision</th>\n",
              "      <th>Naive Bayes Decision</th>\n",
              "      <th>XGB Decision (No Credit)</th>\n",
              "      <th>LogReg Decision (No Credit)</th>\n",
              "      <th>Naive Bayes Decision (No Credit)</th>\n",
              "      <th>Defaulted (1 is DID NOT default)</th>\n",
              "      <th>Acceptance Score 2</th>\n",
              "      <th>Final Decision 2</th>\n",
              "    </tr>\n",
              "  </thead>\n",
              "  <tbody>\n",
              "    <tr>\n",
              "      <th>0</th>\n",
              "      <td>2306153</td>\n",
              "      <td>731</td>\n",
              "      <td>Good</td>\n",
              "      <td>1</td>\n",
              "      <td>0</td>\n",
              "      <td>0</td>\n",
              "      <td>0</td>\n",
              "      <td>0</td>\n",
              "      <td>0</td>\n",
              "      <td>0</td>\n",
              "      <td>0</td>\n",
              "      <td>3.69</td>\n",
              "      <td>0</td>\n",
              "    </tr>\n",
              "    <tr>\n",
              "      <th>1</th>\n",
              "      <td>2742880</td>\n",
              "      <td>700</td>\n",
              "      <td>Good</td>\n",
              "      <td>0</td>\n",
              "      <td>0</td>\n",
              "      <td>0</td>\n",
              "      <td>0</td>\n",
              "      <td>0</td>\n",
              "      <td>0</td>\n",
              "      <td>0</td>\n",
              "      <td>1</td>\n",
              "      <td>5.05</td>\n",
              "      <td>0</td>\n",
              "    </tr>\n",
              "  </tbody>\n",
              "</table>\n",
              "</div>"
            ],
            "text/plain": [
              "        id  FICO FICO Rating  FICO Based Decision  XGB Decision  \\\n",
              "0  2306153   731        Good                    1             0   \n",
              "1  2742880   700        Good                    0             0   \n",
              "\n",
              "   LogReg Decision  Naive Bayes Decision  XGB Decision (No Credit)  \\\n",
              "0                0                     0                         0   \n",
              "1                0                     0                         0   \n",
              "\n",
              "   LogReg Decision (No Credit)  Naive Bayes Decision (No Credit)  \\\n",
              "0                            0                                 0   \n",
              "1                            0                                 0   \n",
              "\n",
              "   Defaulted (1 is DID NOT default)  Acceptance Score 2  Final Decision 2  \n",
              "0                                 0                3.69                 0  \n",
              "1                                 1                5.05                 0  "
            ]
          },
          "metadata": {
            "tags": []
          },
          "execution_count": 145
        }
      ]
    },
    {
      "cell_type": "code",
      "metadata": {
        "id": "qEn-PBJJ6SMo",
        "colab_type": "code",
        "colab": {}
      },
      "source": [
        "approved_xgb = results[results['XGB Decision'] == 1]\n",
        "approved_fico = results[results['FICO Based Decision'] == 1]\n",
        "approved_logreg = results[results['LogReg Decision'] == 1]\n",
        "approved_naive = results[results['Naive Bayes Decision'] == 1]\n",
        "approved_xgb_nocredit = results[results['XGB Decision (No Credit)'] == 1]\n",
        "approved_logreg_nocredit = results[results['LogReg Decision (No Credit)'] == 1]\n",
        "approved_naive_nocredit = results[results['Naive Bayes Decision (No Credit)'] == 1]"
      ],
      "execution_count": 0,
      "outputs": []
    },
    {
      "cell_type": "code",
      "metadata": {
        "id": "IGAp8Eii6cNd",
        "colab_type": "code",
        "outputId": "29b9dfa6-83c7-4e4b-a7d1-573eea25aabb",
        "colab": {
          "base_uri": "https://localhost:8080/",
          "height": 163
        }
      },
      "source": [
        "acc2 = accuracy_score(approved_fico['Defaulted (1 is DID NOT default)'].values,approved_fico['FICO Based Decision'].values)\n",
        "print(\"Default Rate of FICO Based Decision: %.2f\" % (abs((acc2*100)-100)),'%')\n",
        "print('---------------------------------------------------------')\n",
        "acc = accuracy_score(approved_xgb['Defaulted (1 is DID NOT default)'].values,approved_xgb['XGB Decision'].values)\n",
        "print(\"Default Rate of XGB Decision: %.2f\" % (abs((acc*100)-100)),'%')\n",
        "\n",
        "acc3 = accuracy_score(approved_logreg['Defaulted (1 is DID NOT default)'].values,approved_logreg['LogReg Decision'].values)\n",
        "print(\"Default Rate of LogReg Decision: %.2f\" % (abs((acc3*100)-100)),'%')\n",
        "\n",
        "acc4 = accuracy_score(approved_naive['Defaulted (1 is DID NOT default)'].values,approved_naive['Naive Bayes Decision'].values)\n",
        "print(\"Default Rate of Naive Bayes Decision: %.2f\" % (abs((acc4*100)-100)),'%')\n",
        "print('---------------------------------------------------------')\n",
        "\n",
        "acc5 = accuracy_score(approved_xgb_nocredit['Defaulted (1 is DID NOT default)'].values,approved_xgb_nocredit['XGB Decision (No Credit)'].values)\n",
        "print(\"Default Rate of XGB (No Credit) Decision: %.2f\" % (abs((acc2*100)-100)),'%')\n",
        "\n",
        "acc6 = accuracy_score(approved_logreg_nocredit['Defaulted (1 is DID NOT default)'].values,approved_logreg_nocredit['LogReg Decision (No Credit)'].values)\n",
        "print(\"Default Rate of LogReg (No Credit) Decision: %.2f\" % (abs((acc3*100)-100)),'%')\n",
        "\n",
        "acc7 = accuracy_score(approved_naive_nocredit['Defaulted (1 is DID NOT default)'].values,approved_naive_nocredit['Naive Bayes Decision (No Credit)'].values)\n",
        "print(\"Default Rate of Naive Bayes (No Credit) Decision: %.2f\" % (abs((acc4*100)-100)),'%')"
      ],
      "execution_count": 0,
      "outputs": [
        {
          "output_type": "stream",
          "text": [
            "Default Rate of FICO Based Decision: 12.79 %\n",
            "---------------------------------------------------------\n",
            "Default Rate of XGB Decision: 10.72 %\n",
            "Default Rate of LogReg Decision: 12.64 %\n",
            "Default Rate of Naive Bayes Decision: 13.27 %\n",
            "---------------------------------------------------------\n",
            "Default Rate of XGB (No Credit) Decision: 12.79 %\n",
            "Default Rate of LogReg (No Credit) Decision: 12.64 %\n",
            "Default Rate of Naive Bayes (No Credit) Decision: 13.27 %\n"
          ],
          "name": "stdout"
        }
      ]
    },
    {
      "cell_type": "code",
      "metadata": {
        "id": "VtzM-3YXMr_4",
        "colab_type": "code",
        "outputId": "cfe49853-2803-4a55-ade5-58e96f291e02",
        "colab": {
          "base_uri": "https://localhost:8080/",
          "height": 33
        }
      },
      "source": [
        "approved_xgb_nocredit['XGB Decision (No Credit)'].count()\n"
      ],
      "execution_count": 0,
      "outputs": [
        {
          "output_type": "execute_result",
          "data": {
            "text/plain": [
              "70624"
            ]
          },
          "metadata": {
            "tags": []
          },
          "execution_count": 250
        }
      ]
    },
    {
      "cell_type": "code",
      "metadata": {
        "id": "rD5Isc-9M7Fl",
        "colab_type": "code",
        "outputId": "3f48bba9-4927-4ab9-bfc6-84a12b618002",
        "colab": {
          "base_uri": "https://localhost:8080/",
          "height": 33
        }
      },
      "source": [
        "approved_xgb['XGB Decision'].count()"
      ],
      "execution_count": 0,
      "outputs": [
        {
          "output_type": "execute_result",
          "data": {
            "text/plain": [
              "70698"
            ]
          },
          "metadata": {
            "tags": []
          },
          "execution_count": 251
        }
      ]
    },
    {
      "cell_type": "code",
      "metadata": {
        "id": "QD9bK59SM_eE",
        "colab_type": "code",
        "outputId": "84fba1d0-0998-4e45-cfe2-342d3ea4b9b5",
        "colab": {
          "base_uri": "https://localhost:8080/",
          "height": 33
        }
      },
      "source": [
        "approved_fico['FICO Based Decision'].count()"
      ],
      "execution_count": 0,
      "outputs": [
        {
          "output_type": "execute_result",
          "data": {
            "text/plain": [
              "379603"
            ]
          },
          "metadata": {
            "tags": []
          },
          "execution_count": 252
        }
      ]
    },
    {
      "cell_type": "code",
      "metadata": {
        "id": "Qa7p_nfMAc_l",
        "colab_type": "code",
        "outputId": "02eae377-fd3b-4f54-c8d9-42f700de2233",
        "colab": {
          "base_uri": "https://localhost:8080/",
          "height": 223
        }
      },
      "source": [
        "results.head()"
      ],
      "execution_count": 0,
      "outputs": [
        {
          "output_type": "execute_result",
          "data": {
            "text/html": [
              "<div>\n",
              "<style scoped>\n",
              "    .dataframe tbody tr th:only-of-type {\n",
              "        vertical-align: middle;\n",
              "    }\n",
              "\n",
              "    .dataframe tbody tr th {\n",
              "        vertical-align: top;\n",
              "    }\n",
              "\n",
              "    .dataframe thead th {\n",
              "        text-align: right;\n",
              "    }\n",
              "</style>\n",
              "<table border=\"1\" class=\"dataframe\">\n",
              "  <thead>\n",
              "    <tr style=\"text-align: right;\">\n",
              "      <th></th>\n",
              "      <th>id</th>\n",
              "      <th>FICO</th>\n",
              "      <th>FICO Rating</th>\n",
              "      <th>FICO Based Decision</th>\n",
              "      <th>XGB Decision</th>\n",
              "      <th>LogReg Decision</th>\n",
              "      <th>Naive Bayes Decision</th>\n",
              "      <th>XGB Decision (No Credit)</th>\n",
              "      <th>LogReg Decision (No Credit)</th>\n",
              "      <th>Naive Bayes Decision (No Credit)</th>\n",
              "      <th>Defaulted (1 is DID NOT default)</th>\n",
              "      <th>Acceptance Score 2</th>\n",
              "      <th>Final Decision 2</th>\n",
              "    </tr>\n",
              "  </thead>\n",
              "  <tbody>\n",
              "    <tr>\n",
              "      <th>0</th>\n",
              "      <td>2306153</td>\n",
              "      <td>731</td>\n",
              "      <td>Good</td>\n",
              "      <td>1</td>\n",
              "      <td>0</td>\n",
              "      <td>0</td>\n",
              "      <td>0</td>\n",
              "      <td>0</td>\n",
              "      <td>0</td>\n",
              "      <td>0</td>\n",
              "      <td>0</td>\n",
              "      <td>3.69</td>\n",
              "      <td>0</td>\n",
              "    </tr>\n",
              "    <tr>\n",
              "      <th>1</th>\n",
              "      <td>2742880</td>\n",
              "      <td>700</td>\n",
              "      <td>Good</td>\n",
              "      <td>0</td>\n",
              "      <td>0</td>\n",
              "      <td>0</td>\n",
              "      <td>0</td>\n",
              "      <td>0</td>\n",
              "      <td>0</td>\n",
              "      <td>0</td>\n",
              "      <td>1</td>\n",
              "      <td>5.05</td>\n",
              "      <td>0</td>\n",
              "    </tr>\n",
              "    <tr>\n",
              "      <th>2</th>\n",
              "      <td>1960543</td>\n",
              "      <td>712</td>\n",
              "      <td>Good</td>\n",
              "      <td>1</td>\n",
              "      <td>0</td>\n",
              "      <td>0</td>\n",
              "      <td>1</td>\n",
              "      <td>0</td>\n",
              "      <td>0</td>\n",
              "      <td>1</td>\n",
              "      <td>1</td>\n",
              "      <td>5.82</td>\n",
              "      <td>0</td>\n",
              "    </tr>\n",
              "    <tr>\n",
              "      <th>3</th>\n",
              "      <td>2405658</td>\n",
              "      <td>746</td>\n",
              "      <td>Very Good</td>\n",
              "      <td>1</td>\n",
              "      <td>0</td>\n",
              "      <td>0</td>\n",
              "      <td>0</td>\n",
              "      <td>0</td>\n",
              "      <td>0</td>\n",
              "      <td>0</td>\n",
              "      <td>1</td>\n",
              "      <td>4.61</td>\n",
              "      <td>0</td>\n",
              "    </tr>\n",
              "    <tr>\n",
              "      <th>4</th>\n",
              "      <td>1597534</td>\n",
              "      <td>680</td>\n",
              "      <td>Good</td>\n",
              "      <td>1</td>\n",
              "      <td>0</td>\n",
              "      <td>0</td>\n",
              "      <td>0</td>\n",
              "      <td>0</td>\n",
              "      <td>0</td>\n",
              "      <td>0</td>\n",
              "      <td>1</td>\n",
              "      <td>5.01</td>\n",
              "      <td>0</td>\n",
              "    </tr>\n",
              "  </tbody>\n",
              "</table>\n",
              "</div>"
            ],
            "text/plain": [
              "        id  FICO FICO Rating  FICO Based Decision  XGB Decision  \\\n",
              "0  2306153   731        Good                    1             0   \n",
              "1  2742880   700        Good                    0             0   \n",
              "2  1960543   712        Good                    1             0   \n",
              "3  2405658   746   Very Good                    1             0   \n",
              "4  1597534   680        Good                    1             0   \n",
              "\n",
              "   LogReg Decision  Naive Bayes Decision  XGB Decision (No Credit)  \\\n",
              "0                0                     0                         0   \n",
              "1                0                     0                         0   \n",
              "2                0                     1                         0   \n",
              "3                0                     0                         0   \n",
              "4                0                     0                         0   \n",
              "\n",
              "   LogReg Decision (No Credit)  Naive Bayes Decision (No Credit)  \\\n",
              "0                            0                                 0   \n",
              "1                            0                                 0   \n",
              "2                            0                                 1   \n",
              "3                            0                                 0   \n",
              "4                            0                                 0   \n",
              "\n",
              "   Defaulted (1 is DID NOT default)  Acceptance Score 2  Final Decision 2  \n",
              "0                                 0                3.69                 0  \n",
              "1                                 1                5.05                 0  \n",
              "2                                 1                5.82                 0  \n",
              "3                                 1                4.61                 0  \n",
              "4                                 1                5.01                 0  "
            ]
          },
          "metadata": {
            "tags": []
          },
          "execution_count": 152
        }
      ]
    },
    {
      "cell_type": "markdown",
      "metadata": {
        "id": "bne7-iYw7iOf",
        "colab_type": "text"
      },
      "source": [
        "# Combined Decision"
      ]
    },
    {
      "cell_type": "code",
      "metadata": {
        "id": "bEXhH-KY8una",
        "colab_type": "code",
        "colab": {}
      },
      "source": [
        "xgb_prob = model.predict_proba(X_test)[:,1]\n",
        "xgb_prob_nocredit = model_nocredit.predict_proba(X_test_nocredit)[:,1]"
      ],
      "execution_count": 0,
      "outputs": []
    },
    {
      "cell_type": "code",
      "metadata": {
        "id": "dBkibLqY-VOC",
        "colab_type": "code",
        "colab": {}
      },
      "source": [
        "xgb_prob_df = pd.DataFrame(xgb_prob)\n",
        "xgb_prob_df = xgb_prob_df.rename(columns={0:\"XGB Prob\"})"
      ],
      "execution_count": 0,
      "outputs": []
    },
    {
      "cell_type": "code",
      "metadata": {
        "id": "dqquo4UE-4nY",
        "colab_type": "code",
        "colab": {}
      },
      "source": [
        "xgb_prob_nocredit_df = pd.DataFrame(xgb_prob_nocredit)\n",
        "xgb_prob_nocredit_df = xgb_prob_nocredit_df.rename(columns={0:\"XGB Prob (No Credit)\"})"
      ],
      "execution_count": 0,
      "outputs": []
    },
    {
      "cell_type": "code",
      "metadata": {
        "id": "RLoopdfd_aJ3",
        "colab_type": "code",
        "colab": {}
      },
      "source": [
        "xgb_prob_df.reset_index(drop=True, inplace=True)\n",
        "xgb_prob_nocredit_df.reset_index(drop=True, inplace=True)\n",
        "results.reset_index(drop=True, inplace=True)"
      ],
      "execution_count": 0,
      "outputs": []
    },
    {
      "cell_type": "code",
      "metadata": {
        "id": "lNTB5kaH_eoC",
        "colab_type": "code",
        "colab": {}
      },
      "source": [
        "results =  pd.concat([results,xgb_prob_df,xgb_prob_nocredit_df],axis=1)"
      ],
      "execution_count": 0,
      "outputs": []
    },
    {
      "cell_type": "code",
      "metadata": {
        "id": "VnipnDtDPlhq",
        "colab_type": "code",
        "colab": {}
      },
      "source": [
        "import math"
      ],
      "execution_count": 0,
      "outputs": []
    },
    {
      "cell_type": "code",
      "metadata": {
        "id": "W3GJMol9V6gR",
        "colab_type": "code",
        "colab": {}
      },
      "source": [
        "results = results.loc[:,~results.columns.duplicated()]"
      ],
      "execution_count": 0,
      "outputs": []
    },
    {
      "cell_type": "code",
      "metadata": {
        "id": "Ib1Ac57HUKTl",
        "colab_type": "code",
        "colab": {}
      },
      "source": [
        "def combined_score(row):\n",
        "  return round((row['FICO Based Decision'] + (row['XGB Prob']*1.5)) / 2.5 * 1000)"
      ],
      "execution_count": 0,
      "outputs": []
    },
    {
      "cell_type": "code",
      "metadata": {
        "id": "O0uHITR5UbbI",
        "colab_type": "code",
        "colab": {}
      },
      "source": [
        "def combined_score_nocredit(row):\n",
        "  return round((row['FICO Based Decision'] + (row['XGB Prob (No Credit)']*1.5)) / 2.5 * 1000)"
      ],
      "execution_count": 0,
      "outputs": []
    },
    {
      "cell_type": "code",
      "metadata": {
        "id": "It3ZcuHCDJex",
        "colab_type": "code",
        "colab": {}
      },
      "source": [
        "results['Combined Score'] = results.apply(combined_score, axis=1)"
      ],
      "execution_count": 0,
      "outputs": []
    },
    {
      "cell_type": "code",
      "metadata": {
        "id": "k3GCbEFvDZvg",
        "colab_type": "code",
        "colab": {}
      },
      "source": [
        "results['Combined Score (No Credit)'] = results.apply(combined_score_nocredit, axis=1)"
      ],
      "execution_count": 0,
      "outputs": []
    },
    {
      "cell_type": "code",
      "metadata": {
        "id": "wmh1laB5FXcu",
        "colab_type": "code",
        "colab": {}
      },
      "source": [
        "#results = results.drop(['Combined Score','Combined Score (No Credit)'],axis=1)"
      ],
      "execution_count": 0,
      "outputs": []
    },
    {
      "cell_type": "code",
      "metadata": {
        "id": "3YotD2pYEKwz",
        "colab_type": "code",
        "outputId": "9505d842-e0d6-4484-a01d-fc36a94b2cbe",
        "colab": {
          "base_uri": "https://localhost:8080/",
          "height": 163
        }
      },
      "source": [
        "results['Combined Score'].describe()"
      ],
      "execution_count": 0,
      "outputs": [
        {
          "output_type": "execute_result",
          "data": {
            "text/plain": [
              "count   900000.00\n",
              "mean       225.78\n",
              "std        248.87\n",
              "min          0.00\n",
              "25%          1.00\n",
              "50%         66.00\n",
              "75%        404.00\n",
              "max        997.00\n",
              "Name: Combined Score, dtype: float64"
            ]
          },
          "metadata": {
            "tags": []
          },
          "execution_count": 397
        }
      ]
    },
    {
      "cell_type": "code",
      "metadata": {
        "id": "09R7EVWWENZl",
        "colab_type": "code",
        "outputId": "6fb030a5-d0da-44fe-e352-f0a1fa161ef8",
        "colab": {
          "base_uri": "https://localhost:8080/",
          "height": 163
        }
      },
      "source": [
        "results['Combined Score (No Credit)'].describe()"
      ],
      "execution_count": 0,
      "outputs": [
        {
          "output_type": "execute_result",
          "data": {
            "text/plain": [
              "count   900000.00\n",
              "mean       225.78\n",
              "std        248.75\n",
              "min          0.00\n",
              "25%          1.00\n",
              "50%         66.00\n",
              "75%        404.00\n",
              "max        997.00\n",
              "Name: Combined Score (No Credit), dtype: float64"
            ]
          },
          "metadata": {
            "tags": []
          },
          "execution_count": 398
        }
      ]
    },
    {
      "cell_type": "code",
      "metadata": {
        "id": "bTTnVB47FBlB",
        "colab_type": "code",
        "colab": {}
      },
      "source": [
        "def combined_decision(row):\n",
        "  if row['Combined Score'] >= 500:\n",
        "    return 1\n",
        "  else:\n",
        "    return 0"
      ],
      "execution_count": 0,
      "outputs": []
    },
    {
      "cell_type": "code",
      "metadata": {
        "id": "w0PzpNk3FuK2",
        "colab_type": "code",
        "colab": {}
      },
      "source": [
        "def combined_decision_nocredit(row):\n",
        "  if row['Combined Score (No Credit)'] >= 500:\n",
        "    return 1\n",
        "  else:\n",
        "    return 0"
      ],
      "execution_count": 0,
      "outputs": []
    },
    {
      "cell_type": "code",
      "metadata": {
        "id": "nCaRfKfjGL_B",
        "colab_type": "code",
        "colab": {}
      },
      "source": [
        "results['Combined Decision'] = results.apply(combined_decision, axis=1)"
      ],
      "execution_count": 0,
      "outputs": []
    },
    {
      "cell_type": "code",
      "metadata": {
        "id": "VlziMOY3GNlX",
        "colab_type": "code",
        "colab": {}
      },
      "source": [
        "results['Combined Decision (No Credit)'] = results.apply(combined_decision_nocredit, axis=1)"
      ],
      "execution_count": 0,
      "outputs": []
    },
    {
      "cell_type": "code",
      "metadata": {
        "id": "NQ3xDiB_KHtC",
        "colab_type": "code",
        "colab": {}
      },
      "source": [
        "approved_combined_decision = results[results['Combined Decision'] == 1]\n",
        "approved_combined_decision_nocredit = results[results['Combined Decision (No Credit)'] == 1]"
      ],
      "execution_count": 0,
      "outputs": []
    },
    {
      "cell_type": "code",
      "metadata": {
        "id": "2t0htsTeGoZv",
        "colab_type": "code",
        "outputId": "510fdc44-b6d4-4fae-b67a-ed2475dd3b6b",
        "colab": {
          "base_uri": "https://localhost:8080/",
          "height": 50
        }
      },
      "source": [
        "acc = accuracy_score(approved_combined_decision['Defaulted (1 is DID NOT default)'].values,approved_combined_decision['Combined Decision'].values)\n",
        "print(\"Default Rate of Combined Decision: %.2f\" % (abs((acc*100)-100)),'%')\n",
        "\n",
        "acc = accuracy_score(approved_combined_decision_nocredit['Defaulted (1 is DID NOT default)'].values,approved_combined_decision_nocredit['Combined Decision (No Credit)'].values)\n",
        "print(\"Default Rate of Combined Decision (No Credit): %.2f\" % (abs((acc*100)-100)),'%')"
      ],
      "execution_count": 0,
      "outputs": [
        {
          "output_type": "stream",
          "text": [
            "Default Rate of Combined Decision: 6.16 %\n",
            "Default Rate of Combined Decision (No Credit): 6.16 %\n"
          ],
          "name": "stdout"
        }
      ]
    },
    {
      "cell_type": "code",
      "metadata": {
        "id": "adTKVL5EMEVg",
        "colab_type": "code",
        "outputId": "f4bf5baf-21a3-4dfb-94e8-a516776a5031",
        "colab": {
          "base_uri": "https://localhost:8080/",
          "height": 33
        }
      },
      "source": [
        "approved_combined_decision['Combined Decision'].count()"
      ],
      "execution_count": 0,
      "outputs": [
        {
          "output_type": "execute_result",
          "data": {
            "text/plain": [
              "86062"
            ]
          },
          "metadata": {
            "tags": []
          },
          "execution_count": 406
        }
      ]
    },
    {
      "cell_type": "code",
      "metadata": {
        "id": "AYa3FHWNNVwy",
        "colab_type": "code",
        "outputId": "923ba72f-2d2e-4142-e9ca-5343e7820c4a",
        "colab": {
          "base_uri": "https://localhost:8080/",
          "height": 33
        }
      },
      "source": [
        "approved_combined_decision_nocredit['Combined Decision (No Credit)'].count()"
      ],
      "execution_count": 0,
      "outputs": [
        {
          "output_type": "execute_result",
          "data": {
            "text/plain": [
              "86201"
            ]
          },
          "metadata": {
            "tags": []
          },
          "execution_count": 407
        }
      ]
    },
    {
      "cell_type": "code",
      "metadata": {
        "id": "tpmK3c0qYoMB",
        "colab_type": "code",
        "outputId": "59ce1121-60b1-41f7-c87b-ca11d3c3a1c6",
        "colab": {
          "base_uri": "https://localhost:8080/",
          "height": 256
        }
      },
      "source": [
        "results.head()"
      ],
      "execution_count": 0,
      "outputs": [
        {
          "output_type": "execute_result",
          "data": {
            "text/html": [
              "<div>\n",
              "<style scoped>\n",
              "    .dataframe tbody tr th:only-of-type {\n",
              "        vertical-align: middle;\n",
              "    }\n",
              "\n",
              "    .dataframe tbody tr th {\n",
              "        vertical-align: top;\n",
              "    }\n",
              "\n",
              "    .dataframe thead th {\n",
              "        text-align: right;\n",
              "    }\n",
              "</style>\n",
              "<table border=\"1\" class=\"dataframe\">\n",
              "  <thead>\n",
              "    <tr style=\"text-align: right;\">\n",
              "      <th></th>\n",
              "      <th>id</th>\n",
              "      <th>FICO</th>\n",
              "      <th>FICO Rating</th>\n",
              "      <th>FICO Based Decision</th>\n",
              "      <th>XGB Decision</th>\n",
              "      <th>LogReg Decision</th>\n",
              "      <th>Naive Bayes Decision</th>\n",
              "      <th>XGB Decision (No Credit)</th>\n",
              "      <th>LogReg Decision (No Credit)</th>\n",
              "      <th>Naive Bayes Decision (No Credit)</th>\n",
              "      <th>Defaulted (1 is DID NOT default)</th>\n",
              "      <th>Acceptance Score 2</th>\n",
              "      <th>Final Decision 2</th>\n",
              "      <th>XGB Prob</th>\n",
              "      <th>XGB Prob (No Credit)</th>\n",
              "      <th>Combined Score</th>\n",
              "      <th>Combined Score (No Credit)</th>\n",
              "      <th>Combined Decision</th>\n",
              "      <th>Combined Decision (No Credit)</th>\n",
              "    </tr>\n",
              "  </thead>\n",
              "  <tbody>\n",
              "    <tr>\n",
              "      <th>0</th>\n",
              "      <td>2306153</td>\n",
              "      <td>731</td>\n",
              "      <td>Good</td>\n",
              "      <td>1</td>\n",
              "      <td>0</td>\n",
              "      <td>0</td>\n",
              "      <td>0</td>\n",
              "      <td>0</td>\n",
              "      <td>0</td>\n",
              "      <td>0</td>\n",
              "      <td>0</td>\n",
              "      <td>3.69</td>\n",
              "      <td>0</td>\n",
              "      <td>0.00</td>\n",
              "      <td>0.00</td>\n",
              "      <td>400</td>\n",
              "      <td>400</td>\n",
              "      <td>0</td>\n",
              "      <td>0</td>\n",
              "    </tr>\n",
              "    <tr>\n",
              "      <th>1</th>\n",
              "      <td>2742880</td>\n",
              "      <td>700</td>\n",
              "      <td>Good</td>\n",
              "      <td>0</td>\n",
              "      <td>0</td>\n",
              "      <td>0</td>\n",
              "      <td>0</td>\n",
              "      <td>0</td>\n",
              "      <td>0</td>\n",
              "      <td>0</td>\n",
              "      <td>1</td>\n",
              "      <td>5.05</td>\n",
              "      <td>0</td>\n",
              "      <td>0.00</td>\n",
              "      <td>0.00</td>\n",
              "      <td>3</td>\n",
              "      <td>2</td>\n",
              "      <td>0</td>\n",
              "      <td>0</td>\n",
              "    </tr>\n",
              "    <tr>\n",
              "      <th>2</th>\n",
              "      <td>1960543</td>\n",
              "      <td>712</td>\n",
              "      <td>Good</td>\n",
              "      <td>1</td>\n",
              "      <td>0</td>\n",
              "      <td>0</td>\n",
              "      <td>1</td>\n",
              "      <td>0</td>\n",
              "      <td>0</td>\n",
              "      <td>1</td>\n",
              "      <td>1</td>\n",
              "      <td>5.82</td>\n",
              "      <td>0</td>\n",
              "      <td>0.04</td>\n",
              "      <td>0.04</td>\n",
              "      <td>426</td>\n",
              "      <td>427</td>\n",
              "      <td>0</td>\n",
              "      <td>0</td>\n",
              "    </tr>\n",
              "    <tr>\n",
              "      <th>3</th>\n",
              "      <td>2405658</td>\n",
              "      <td>746</td>\n",
              "      <td>Very Good</td>\n",
              "      <td>1</td>\n",
              "      <td>0</td>\n",
              "      <td>0</td>\n",
              "      <td>0</td>\n",
              "      <td>0</td>\n",
              "      <td>0</td>\n",
              "      <td>0</td>\n",
              "      <td>1</td>\n",
              "      <td>4.61</td>\n",
              "      <td>0</td>\n",
              "      <td>0.00</td>\n",
              "      <td>0.00</td>\n",
              "      <td>401</td>\n",
              "      <td>401</td>\n",
              "      <td>0</td>\n",
              "      <td>0</td>\n",
              "    </tr>\n",
              "    <tr>\n",
              "      <th>4</th>\n",
              "      <td>1597534</td>\n",
              "      <td>680</td>\n",
              "      <td>Good</td>\n",
              "      <td>1</td>\n",
              "      <td>0</td>\n",
              "      <td>0</td>\n",
              "      <td>0</td>\n",
              "      <td>0</td>\n",
              "      <td>0</td>\n",
              "      <td>0</td>\n",
              "      <td>1</td>\n",
              "      <td>5.01</td>\n",
              "      <td>0</td>\n",
              "      <td>0.00</td>\n",
              "      <td>0.00</td>\n",
              "      <td>401</td>\n",
              "      <td>401</td>\n",
              "      <td>0</td>\n",
              "      <td>0</td>\n",
              "    </tr>\n",
              "  </tbody>\n",
              "</table>\n",
              "</div>"
            ],
            "text/plain": [
              "        id  FICO FICO Rating  FICO Based Decision  XGB Decision  \\\n",
              "0  2306153   731        Good                    1             0   \n",
              "1  2742880   700        Good                    0             0   \n",
              "2  1960543   712        Good                    1             0   \n",
              "3  2405658   746   Very Good                    1             0   \n",
              "4  1597534   680        Good                    1             0   \n",
              "\n",
              "   LogReg Decision  Naive Bayes Decision  XGB Decision (No Credit)  \\\n",
              "0                0                     0                         0   \n",
              "1                0                     0                         0   \n",
              "2                0                     1                         0   \n",
              "3                0                     0                         0   \n",
              "4                0                     0                         0   \n",
              "\n",
              "   LogReg Decision (No Credit)  Naive Bayes Decision (No Credit)  \\\n",
              "0                            0                                 0   \n",
              "1                            0                                 0   \n",
              "2                            0                                 1   \n",
              "3                            0                                 0   \n",
              "4                            0                                 0   \n",
              "\n",
              "   Defaulted (1 is DID NOT default)  Acceptance Score 2  Final Decision 2  \\\n",
              "0                                 0                3.69                 0   \n",
              "1                                 1                5.05                 0   \n",
              "2                                 1                5.82                 0   \n",
              "3                                 1                4.61                 0   \n",
              "4                                 1                5.01                 0   \n",
              "\n",
              "   XGB Prob  XGB Prob (No Credit)  Combined Score  Combined Score (No Credit)  \\\n",
              "0      0.00                  0.00             400                         400   \n",
              "1      0.00                  0.00               3                           2   \n",
              "2      0.04                  0.04             426                         427   \n",
              "3      0.00                  0.00             401                         401   \n",
              "4      0.00                  0.00             401                         401   \n",
              "\n",
              "   Combined Decision  Combined Decision (No Credit)  \n",
              "0                  0                              0  \n",
              "1                  0                              0  \n",
              "2                  0                              0  \n",
              "3                  0                              0  \n",
              "4                  0                              0  "
            ]
          },
          "metadata": {
            "tags": []
          },
          "execution_count": 409
        }
      ]
    },
    {
      "cell_type": "markdown",
      "metadata": {
        "id": "WhIk5oiLE9dG",
        "colab_type": "text"
      },
      "source": [
        "***\n",
        "***\n",
        "\n",
        "#Confusion Matrix - XGBoost"
      ]
    },
    {
      "cell_type": "code",
      "metadata": {
        "id": "pkiwALX04OE4",
        "colab_type": "code",
        "colab": {}
      },
      "source": [
        "confusion_mat = confusion_matrix(y_test,Y_pred_nocredit)"
      ],
      "execution_count": 0,
      "outputs": []
    },
    {
      "cell_type": "code",
      "metadata": {
        "id": "kIYvdhkCF0R_",
        "colab_type": "code",
        "outputId": "431a8bb3-395e-4cea-d7d4-ffc11077907a",
        "colab": {
          "base_uri": "https://localhost:8080/",
          "height": 513
        }
      },
      "source": [
        "confusion_mat_df = pd.DataFrame(confusion_mat, index = [0,1],\n",
        "                  columns = [0,1])\n",
        "plt.figure(figsize = (10,8))\n",
        "sb.heatmap(confusion_mat_df, annot=True)\n",
        "plt.xlabel('Predicted')\n",
        "plt.ylabel('True')"
      ],
      "execution_count": 154,
      "outputs": [
        {
          "output_type": "execute_result",
          "data": {
            "text/plain": [
              "Text(69.0, 0.5, 'True')"
            ]
          },
          "metadata": {
            "tags": []
          },
          "execution_count": 154
        },
        {
          "output_type": "display_data",
          "data": {
            "image/png": "[encoded data removed]",
            "text/plain": [
              "<Figure size 720x576 with 2 Axes>"
            ]
          },
          "metadata": {
            "tags": [],
            "needs_background": "light"
          }
        }
      ]
    },
    {
      "cell_type": "markdown",
      "metadata": {
        "id": "RrVVE6RuHYJB",
        "colab_type": "text"
      },
      "source": [
        "***\n",
        "***\n"
      ]
    },
    {
      "cell_type": "markdown",
      "metadata": {
        "id": "4dqk-uHOOguD",
        "colab_type": "text"
      },
      "source": [
        "# Confusion Matrix - Naive Bayes\n",
        "\n"
      ]
    },
    {
      "cell_type": "code",
      "metadata": {
        "id": "BvKDZnUSOlhu",
        "colab_type": "code",
        "colab": {}
      },
      "source": [
        "confusion_mat = confusion_matrix(y_test,Y_pred_naive_nocredit)"
      ],
      "execution_count": 0,
      "outputs": []
    },
    {
      "cell_type": "code",
      "metadata": {
        "id": "nkLSZvlyOlnn",
        "colab_type": "code",
        "colab": {
          "base_uri": "https://localhost:8080/",
          "height": 513
        },
        "outputId": "d5badbb9-450e-469c-a420-7dbc56b57ee4"
      },
      "source": [
        "confusion_mat_df = pd.DataFrame(confusion_mat, index = [0,1],\n",
        "                  columns = [0,1])\n",
        "plt.figure(figsize = (10,8))\n",
        "sb.heatmap(confusion_mat_df, annot=True)\n",
        "plt.xlabel('Predicted')\n",
        "plt.ylabel('True')"
      ],
      "execution_count": 63,
      "outputs": [
        {
          "output_type": "execute_result",
          "data": {
            "text/plain": [
              "Text(69.0, 0.5, 'True')"
            ]
          },
          "metadata": {
            "tags": []
          },
          "execution_count": 63
        },
        {
          "output_type": "display_data",
          "data": {
            "image/png": "[encoded data removed]",
            "text/plain": [
              "<Figure size 720x576 with 2 Axes>"
            ]
          },
          "metadata": {
            "tags": [],
            "needs_background": "light"
          }
        }
      ]
    },
    {
      "cell_type": "markdown",
      "metadata": {
        "id": "_Y_LP3TwehwN",
        "colab_type": "text"
      },
      "source": [
        "# Confusion Matrix - Logistic Regression"
      ]
    },
    {
      "cell_type": "code",
      "metadata": {
        "id": "L_xhMEhufBDX",
        "colab_type": "code",
        "colab": {}
      },
      "source": [
        "confusion_mat = confusion_matrix(y_test,Y_pred_logreg_nocredit)"
      ],
      "execution_count": 0,
      "outputs": []
    },
    {
      "cell_type": "code",
      "metadata": {
        "id": "IqG4FsEpfBHW",
        "colab_type": "code",
        "colab": {
          "base_uri": "https://localhost:8080/",
          "height": 513
        },
        "outputId": "1572258c-34a8-44c0-c8cd-e9a9db086cd0"
      },
      "source": [
        "confusion_mat_df = pd.DataFrame(confusion_mat, index = [0,1],\n",
        "                  columns = [0,1])\n",
        "plt.figure(figsize = (10,8))\n",
        "sb.heatmap(confusion_mat_df, annot=True)\n",
        "plt.xlabel('Predicted')\n",
        "plt.ylabel('True')"
      ],
      "execution_count": 81,
      "outputs": [
        {
          "output_type": "execute_result",
          "data": {
            "text/plain": [
              "Text(69.0, 0.5, 'True')"
            ]
          },
          "metadata": {
            "tags": []
          },
          "execution_count": 81
        },
        {
          "output_type": "display_data",
          "data": {
            "image/png": "[encoded data removed]",
            "text/plain": [
              "<Figure size 720x576 with 2 Axes>"
            ]
          },
          "metadata": {
            "tags": [],
            "needs_background": "light"
          }
        }
      ]
    },
    {
      "cell_type": "markdown",
      "metadata": {
        "id": "I8zdzHZpE3Iq",
        "colab_type": "text"
      },
      "source": [
        "***\n",
        "***\n",
        "\n",
        "#Classification accuracy - XGBoost"
      ]
    },
    {
      "cell_type": "code",
      "metadata": {
        "id": "XdTQ78Fz5L4R",
        "colab_type": "code",
        "outputId": "7bc1116b-f759-47cb-e521-3340c4ba9d53",
        "colab": {
          "base_uri": "https://localhost:8080/",
          "height": 33
        }
      },
      "source": [
        "acc = accuracy_score(y_test,Y_pred_nocredit)\n",
        "print(\"Accuracy: %.2f\" % (acc*100),'%')"
      ],
      "execution_count": 155,
      "outputs": [
        {
          "output_type": "stream",
          "text": [
            "Accuracy: 97.18 %\n"
          ],
          "name": "stdout"
        }
      ]
    },
    {
      "cell_type": "markdown",
      "metadata": {
        "id": "c740U8nfPlUw",
        "colab_type": "text"
      },
      "source": [
        "# Classification Accuracy - Naive Bayes"
      ]
    },
    {
      "cell_type": "code",
      "metadata": {
        "id": "nIarHBLjPp4e",
        "colab_type": "code",
        "colab": {
          "base_uri": "https://localhost:8080/",
          "height": 33
        },
        "outputId": "7e8b83b6-acfd-414a-a71d-19b76c4cea7e"
      },
      "source": [
        "acc = accuracy_score(y_test,Y_pred_naive_nocredit)\n",
        "print(\"Accuracy: %.2f\" % (acc*100),'%')"
      ],
      "execution_count": 64,
      "outputs": [
        {
          "output_type": "stream",
          "text": [
            "Accuracy: 77.36 %\n"
          ],
          "name": "stdout"
        }
      ]
    },
    {
      "cell_type": "markdown",
      "metadata": {
        "id": "F3ChmIQLfMzR",
        "colab_type": "text"
      },
      "source": [
        "# Classification Accuracy - Logistic Regression"
      ]
    },
    {
      "cell_type": "code",
      "metadata": {
        "id": "h2LDHbHufSky",
        "colab_type": "code",
        "colab": {
          "base_uri": "https://localhost:8080/",
          "height": 33
        },
        "outputId": "a9409446-35e3-4586-816d-e9ed745e9dee"
      },
      "source": [
        "acc = accuracy_score(y_test,Y_pred_logreg_nocredit)\n",
        "print(\"Accuracy: %.2f\" % (acc*100),'%')"
      ],
      "execution_count": 82,
      "outputs": [
        {
          "output_type": "stream",
          "text": [
            "Accuracy: 91.60 %\n"
          ],
          "name": "stdout"
        }
      ]
    },
    {
      "cell_type": "markdown",
      "metadata": {
        "id": "M9VdHgSGNxtr",
        "colab_type": "text"
      },
      "source": [
        "***\n",
        "***\n",
        "# Logarithmic loss - XGBoost"
      ]
    },
    {
      "cell_type": "code",
      "metadata": {
        "id": "EN1fhbKANW2d",
        "colab_type": "code",
        "colab": {}
      },
      "source": [
        "Y_pred_prob = model_nocredit.predict_proba(X_test_nocredit)"
      ],
      "execution_count": 0,
      "outputs": []
    },
    {
      "cell_type": "code",
      "metadata": {
        "id": "LhUW0Rd54qG6",
        "colab_type": "code",
        "outputId": "c47dc799-e1e2-478d-bfc6-dfef8ad3f077",
        "colab": {
          "base_uri": "https://localhost:8080/",
          "height": 33
        }
      },
      "source": [
        "logloss = log_loss(y_test, Y_pred_prob)\n",
        "print(\"Log-loss: %.2f\" % (logloss))"
      ],
      "execution_count": 158,
      "outputs": [
        {
          "output_type": "stream",
          "text": [
            "Log-loss: 0.08\n"
          ],
          "name": "stdout"
        }
      ]
    },
    {
      "cell_type": "markdown",
      "metadata": {
        "id": "R9sKbZHUPy5n",
        "colab_type": "text"
      },
      "source": [
        "# Logarithmic Loss - Naive Bayes"
      ]
    },
    {
      "cell_type": "code",
      "metadata": {
        "id": "rIPt4fuIP52U",
        "colab_type": "code",
        "colab": {}
      },
      "source": [
        "Y_pred_prob = naive_model_nocredit.predict_proba(X_test_nocredit)"
      ],
      "execution_count": 0,
      "outputs": []
    },
    {
      "cell_type": "code",
      "metadata": {
        "id": "PCzSWCW7P568",
        "colab_type": "code",
        "colab": {
          "base_uri": "https://localhost:8080/",
          "height": 33
        },
        "outputId": "70fda4de-51f5-4999-9d7a-9b404217c353"
      },
      "source": [
        "logloss = log_loss(y_test, Y_pred_prob)\n",
        "print(\"Log-loss: %.2f\" % (logloss))"
      ],
      "execution_count": 68,
      "outputs": [
        {
          "output_type": "stream",
          "text": [
            "Log-loss: 0.73\n"
          ],
          "name": "stdout"
        }
      ]
    },
    {
      "cell_type": "markdown",
      "metadata": {
        "id": "bX04nHUJfXjo",
        "colab_type": "text"
      },
      "source": [
        "# Logarithmic Loss - Logistic Regression"
      ]
    },
    {
      "cell_type": "code",
      "metadata": {
        "id": "uKYjWCAHfa_L",
        "colab_type": "code",
        "colab": {}
      },
      "source": [
        "Y_pred_prob = logreg_nocredit.predict_proba(X_test_nocredit)"
      ],
      "execution_count": 0,
      "outputs": []
    },
    {
      "cell_type": "code",
      "metadata": {
        "id": "3u2T3xTyfifz",
        "colab_type": "code",
        "colab": {
          "base_uri": "https://localhost:8080/",
          "height": 33
        },
        "outputId": "5be1d1f9-4104-4fcb-c5d5-86579849ea0e"
      },
      "source": [
        "logloss = log_loss(y_test, Y_pred_prob)\n",
        "print(\"Log-loss: %.2f\" % (logloss))"
      ],
      "execution_count": 84,
      "outputs": [
        {
          "output_type": "stream",
          "text": [
            "Log-loss: 0.21\n"
          ],
          "name": "stdout"
        }
      ]
    },
    {
      "cell_type": "markdown",
      "metadata": {
        "id": "MGieqZR1MXaW",
        "colab_type": "text"
      },
      "source": [
        "***\n",
        "***\n",
        "# Area under ROC curve - XGBoost"
      ]
    },
    {
      "cell_type": "code",
      "metadata": {
        "id": "-Ka4ZJRBOgaq",
        "colab_type": "code",
        "outputId": "44348c1b-06d7-435c-e33d-405a26a88e81",
        "colab": {
          "base_uri": "https://localhost:8080/",
          "height": 33
        }
      },
      "source": [
        "Y_pred_prob_positives = Y_pred_prob[:, 1]\n",
        "\n",
        "auc = roc_auc_score(y_test, Y_pred_prob_positives)\n",
        "print('AUC: %.2f%%' % (auc*100))"
      ],
      "execution_count": 159,
      "outputs": [
        {
          "output_type": "stream",
          "text": [
            "AUC: 99.33%\n"
          ],
          "name": "stdout"
        }
      ]
    },
    {
      "cell_type": "code",
      "metadata": {
        "id": "HZPA9PwlPjGF",
        "colab_type": "code",
        "outputId": "3a8c736f-2080-49c0-9608-4af22028106a",
        "colab": {
          "base_uri": "https://localhost:8080/",
          "height": 265
        }
      },
      "source": [
        "FPR, TPR, thresholds = roc_curve(y_test, Y_pred_prob_positives)\n",
        "plt.plot([0, 1], [0, 1], linestyle='--')\n",
        "plt.plot(FPR, TPR, marker='.')\n",
        "plt.show()"
      ],
      "execution_count": 160,
      "outputs": [
        {
          "output_type": "display_data",
          "data": {
            "image/png": "[encoded data removed]",
            "text/plain": [
              "<Figure size 432x288 with 1 Axes>"
            ]
          },
          "metadata": {
            "tags": [],
            "needs_background": "light"
          }
        }
      ]
    },
    {
      "cell_type": "markdown",
      "metadata": {
        "id": "zeL16s4DUiGo",
        "colab_type": "text"
      },
      "source": [
        "# Area under ROC Curve - Naive Bayes"
      ]
    },
    {
      "cell_type": "code",
      "metadata": {
        "id": "7KteEludUsnG",
        "colab_type": "code",
        "colab": {
          "base_uri": "https://localhost:8080/",
          "height": 33
        },
        "outputId": "df69b930-0b5e-4872-acfc-0a1b54fc7f41"
      },
      "source": [
        "Y_pred_prob_positives = Y_pred_prob[:, 1]\n",
        "\n",
        "auc = roc_auc_score(y_test, Y_pred_prob_positives)\n",
        "print('AUC: %.2f%%' % (auc*100))"
      ],
      "execution_count": 69,
      "outputs": [
        {
          "output_type": "stream",
          "text": [
            "AUC - Test Set: 87.13%\n"
          ],
          "name": "stdout"
        }
      ]
    },
    {
      "cell_type": "code",
      "metadata": {
        "id": "rvTiN0TMUsu6",
        "colab_type": "code",
        "colab": {
          "base_uri": "https://localhost:8080/",
          "height": 265
        },
        "outputId": "a3435fac-ca50-467f-85be-10b71b0560b8"
      },
      "source": [
        "FPR, TPR, thresholds = roc_curve(y_test, Y_pred_prob_positives)\n",
        "plt.plot([0, 1], [0, 1], linestyle='--')\n",
        "plt.plot(FPR, TPR, marker='.')\n",
        "plt.show()"
      ],
      "execution_count": 70,
      "outputs": [
        {
          "output_type": "display_data",
          "data": {
            "image/png": "[encoded data removed]",
            "text/plain": [
              "<Figure size 432x288 with 1 Axes>"
            ]
          },
          "metadata": {
            "tags": [],
            "needs_background": "light"
          }
        }
      ]
    },
    {
      "cell_type": "markdown",
      "metadata": {
        "id": "bmAJYjwvfrNW",
        "colab_type": "text"
      },
      "source": [
        "# Area under ROC Curve - Logistic Regression"
      ]
    },
    {
      "cell_type": "code",
      "metadata": {
        "id": "2CaZrq3dfuyW",
        "colab_type": "code",
        "colab": {
          "base_uri": "https://localhost:8080/",
          "height": 33
        },
        "outputId": "b2bbc691-31f5-4b10-e728-36689068851c"
      },
      "source": [
        "Y_pred_prob_positives = Y_pred_prob[:, 1]\n",
        "\n",
        "auc = roc_auc_score(y_test, Y_pred_prob_positives)\n",
        "print('AUC: %.2f%%' % (auc*100))"
      ],
      "execution_count": 87,
      "outputs": [
        {
          "output_type": "stream",
          "text": [
            "AUC: 90.22%\n"
          ],
          "name": "stdout"
        }
      ]
    },
    {
      "cell_type": "code",
      "metadata": {
        "id": "nT_O0Eu9fxHw",
        "colab_type": "code",
        "colab": {
          "base_uri": "https://localhost:8080/",
          "height": 265
        },
        "outputId": "40a2baa2-607b-4d48-bad7-e458c97915cb"
      },
      "source": [
        "FPR, TPR, thresholds = roc_curve(y_test, Y_pred_prob_positives)\n",
        "plt.plot([0, 1], [0, 1], linestyle='--')\n",
        "plt.plot(FPR, TPR, marker='.')\n",
        "plt.show()"
      ],
      "execution_count": 88,
      "outputs": [
        {
          "output_type": "display_data",
          "data": {
            "image/png": "[encoded data removed]",
            "text/plain": [
              "<Figure size 432x288 with 1 Axes>"
            ]
          },
          "metadata": {
            "tags": [],
            "needs_background": "light"
          }
        }
      ]
    },
    {
      "cell_type": "markdown",
      "metadata": {
        "id": "EW9ZEmrTOVdx",
        "colab_type": "text"
      },
      "source": [
        "***\n",
        "***\n",
        "# F-Measure (or F-Score) - XGBoost\n"
      ]
    },
    {
      "cell_type": "code",
      "metadata": {
        "id": "1mfxdIp-QIWG",
        "colab_type": "code",
        "outputId": "1774cb93-af47-402a-9819-74b1300f5b05",
        "colab": {
          "base_uri": "https://localhost:8080/",
          "height": 33
        }
      },
      "source": [
        "precision = precision_score(y_test, Y_pred_nocredit)\n",
        "print('Precision: %f' % precision)"
      ],
      "execution_count": 161,
      "outputs": [
        {
          "output_type": "stream",
          "text": [
            "Precision: 0.926288\n"
          ],
          "name": "stdout"
        }
      ]
    },
    {
      "cell_type": "markdown",
      "metadata": {
        "id": "RMUrSYrdRMmo",
        "colab_type": "text"
      },
      "source": [
        "Recall: True positives / (True positives + false negatives)"
      ]
    },
    {
      "cell_type": "code",
      "metadata": {
        "id": "MGoFo5lOQUy3",
        "colab_type": "code",
        "outputId": "472ba080-37c7-48e6-d4f4-82c9b31bcc66",
        "colab": {
          "base_uri": "https://localhost:8080/",
          "height": 33
        }
      },
      "source": [
        "\n",
        "recall = recall_score(y_test, Y_pred_nocredit)\n",
        "print('Recall: %f' % recall)"
      ],
      "execution_count": 162,
      "outputs": [
        {
          "output_type": "stream",
          "text": [
            "Recall: 0.765013\n"
          ],
          "name": "stdout"
        }
      ]
    },
    {
      "cell_type": "markdown",
      "metadata": {
        "id": "YvTsU8NSRDEy",
        "colab_type": "text"
      },
      "source": [
        "F1: True positives / (True positives + False positives + false negatives)"
      ]
    },
    {
      "cell_type": "code",
      "metadata": {
        "id": "5KCdLPb0QU_r",
        "colab_type": "code",
        "outputId": "c2c39138-42be-4227-c6bb-f45a10b43363",
        "colab": {
          "base_uri": "https://localhost:8080/",
          "height": 33
        }
      },
      "source": [
        "\n",
        "f1 = f1_score(y_test, Y_pred_nocredit)\n",
        "print('F1 score: %f' % f1)"
      ],
      "execution_count": 163,
      "outputs": [
        {
          "output_type": "stream",
          "text": [
            "F1 score: 0.837961\n"
          ],
          "name": "stdout"
        }
      ]
    },
    {
      "cell_type": "markdown",
      "metadata": {
        "id": "rdxXD1jhVBZm",
        "colab_type": "text"
      },
      "source": [
        "# F-Measure (or F-Score) - Naive Bayes"
      ]
    },
    {
      "cell_type": "code",
      "metadata": {
        "id": "WMnuM2A6VEKA",
        "colab_type": "code",
        "colab": {
          "base_uri": "https://localhost:8080/",
          "height": 33
        },
        "outputId": "632941e5-0d53-41d2-a6f5-1300bb6be5a3"
      },
      "source": [
        "precision = precision_score(y_test, Y_pred_naive_nocredit)\n",
        "print('Precision: %f' % precision)"
      ],
      "execution_count": 71,
      "outputs": [
        {
          "output_type": "stream",
          "text": [
            "Precision: 0.278992\n"
          ],
          "name": "stdout"
        }
      ]
    },
    {
      "cell_type": "code",
      "metadata": {
        "id": "Sw16oKFAVENj",
        "colab_type": "code",
        "colab": {
          "base_uri": "https://localhost:8080/",
          "height": 33
        },
        "outputId": "914b9aa3-4dcd-4085-928b-b63dcf6369a4"
      },
      "source": [
        "recall = recall_score(y_test, Y_pred_naive_nocredit)\n",
        "print('Recall: %f' % recall)"
      ],
      "execution_count": 72,
      "outputs": [
        {
          "output_type": "stream",
          "text": [
            "Recall: 0.867773\n"
          ],
          "name": "stdout"
        }
      ]
    },
    {
      "cell_type": "code",
      "metadata": {
        "id": "lysD4jr7VER4",
        "colab_type": "code",
        "colab": {
          "base_uri": "https://localhost:8080/",
          "height": 33
        },
        "outputId": "165ba0fb-5cda-415b-aa7e-6f0d07915b7d"
      },
      "source": [
        "f1 = f1_score(y_test, Y_pred_naive_nocredit)\n",
        "print('F1 score: %f' % f1)"
      ],
      "execution_count": 73,
      "outputs": [
        {
          "output_type": "stream",
          "text": [
            "F1 score: 0.422234\n"
          ],
          "name": "stdout"
        }
      ]
    },
    {
      "cell_type": "markdown",
      "metadata": {
        "id": "6sZEvduagLxF",
        "colab_type": "text"
      },
      "source": [
        "# F-Measure (or F-Score) - Logistic Regression"
      ]
    },
    {
      "cell_type": "code",
      "metadata": {
        "id": "-ziwofe_gRHh",
        "colab_type": "code",
        "colab": {
          "base_uri": "https://localhost:8080/",
          "height": 33
        },
        "outputId": "801dec2a-a9b5-42d7-c65f-1e74ea158944"
      },
      "source": [
        "precision = precision_score(y_test, Y_pred_logreg_nocredit)\n",
        "print('Precision: %f' % precision)"
      ],
      "execution_count": 89,
      "outputs": [
        {
          "output_type": "stream",
          "text": [
            "Precision: 0.612865\n"
          ],
          "name": "stdout"
        }
      ]
    },
    {
      "cell_type": "code",
      "metadata": {
        "id": "vz0eiIxtgRP6",
        "colab_type": "code",
        "colab": {
          "base_uri": "https://localhost:8080/",
          "height": 33
        },
        "outputId": "b8ebc9ae-602b-4fe5-8e84-deea317b4225"
      },
      "source": [
        "recall = recall_score(y_test, Y_pred_logreg_nocredit)\n",
        "print('Recall: %f' % recall)"
      ],
      "execution_count": 90,
      "outputs": [
        {
          "output_type": "stream",
          "text": [
            "Recall: 0.322678\n"
          ],
          "name": "stdout"
        }
      ]
    },
    {
      "cell_type": "code",
      "metadata": {
        "id": "cYnfJHmJgRS3",
        "colab_type": "code",
        "colab": {
          "base_uri": "https://localhost:8080/",
          "height": 33
        },
        "outputId": "9dc0e646-184e-49b7-ae9b-73c0240312b0"
      },
      "source": [
        "f1 = f1_score(y_test, Y_pred_logreg_nocredit)\n",
        "print('F1 score: %f' % f1)"
      ],
      "execution_count": 91,
      "outputs": [
        {
          "output_type": "stream",
          "text": [
            "F1 score: 0.422766\n"
          ],
          "name": "stdout"
        }
      ]
    },
    {
      "cell_type": "markdown",
      "metadata": {
        "id": "OM7v82FHQ3cQ",
        "colab_type": "text"
      },
      "source": [
        "***\n",
        "***"
      ]
    },
    {
      "cell_type": "markdown",
      "metadata": {
        "id": "Kdz2oP3fk2AI",
        "colab_type": "text"
      },
      "source": [
        "# Saving the model state\n",
        "\n"
      ]
    },
    {
      "cell_type": "code",
      "metadata": {
        "id": "rl5hKsb2k4Tl",
        "colab_type": "code",
        "colab": {}
      },
      "source": [
        "import pickle"
      ],
      "execution_count": 0,
      "outputs": []
    },
    {
      "cell_type": "code",
      "metadata": {
        "id": "0NgxJrV26A5Z",
        "colab_type": "code",
        "colab": {}
      },
      "source": [
        "\n",
        "model_nocredit.save_model('xgbmodel_nocredit.model')"
      ],
      "execution_count": 0,
      "outputs": []
    },
    {
      "cell_type": "code",
      "metadata": {
        "id": "VCIC7_Ri74oE",
        "colab_type": "code",
        "outputId": "b56fe12f-e854-4b30-92f2-617f57978779",
        "colab": {
          "base_uri": "https://localhost:8080/",
          "height": 33
        }
      },
      "source": [
        "uploaded = drive.CreateFile({'xgbmodel_nocredit.model': 'xgbmodel_nocredit.model'})\n",
        "uploaded.SetContentFile('xgbmodel_nocredit.model')\n",
        "uploaded.Upload()\n",
        "print('Uploaded file with ID {}'.format(uploaded.get('id')))"
      ],
      "execution_count": 0,
      "outputs": [
        {
          "output_type": "stream",
          "text": [
            "Uploaded file with ID 1hcyZvBxmXGanVY9g7JU3hTf1IZf5OioW\n"
          ],
          "name": "stdout"
        }
      ]
    },
    {
      "cell_type": "markdown",
      "metadata": {
        "id": "UdoV1tFj51RU",
        "colab_type": "text"
      },
      "source": [
        "# Random Forest Training "
      ]
    },
    {
      "cell_type": "code",
      "metadata": {
        "id": "uj9GWCA5whoF",
        "colab_type": "code",
        "outputId": "ae3cfe37-2c13-4c5f-8632-131f903f0ea7",
        "colab": {
          "base_uri": "https://localhost:8080/",
          "height": 131
        }
      },
      "source": [
        "from sklearn.ensemble import RandomForestClassifier\n",
        "model = RandomForestClassifier(n_estimators=3,max_depth=2)\n",
        "start = time.time()\n",
        "print(\"Starting Training...\\n\")\n",
        "model.fit(X_train,Y_train)\n",
        "print(\"------------------------------------------------\\nDone!\\n\\nElapsed Time: \")\n",
        "end = time.time()\n",
        "print(end - start)"
      ],
      "execution_count": 0,
      "outputs": [
        {
          "output_type": "stream",
          "text": [
            "Starting Training...\n",
            "\n",
            "------------------------------------------------\n",
            "Done!\n",
            "\n",
            "Elapsed Time: \n",
            "11.242786645889282\n"
          ],
          "name": "stdout"
        }
      ]
    },
    {
      "cell_type": "code",
      "metadata": {
        "id": "v_3d39uiw5l8",
        "colab_type": "code",
        "colab": {}
      },
      "source": [
        "Y_pred_rf_nocredit = model.predict(X_test_nocredit)"
      ],
      "execution_count": 0,
      "outputs": []
    },
    {
      "cell_type": "code",
      "metadata": {
        "id": "exBvoTTRxKGv",
        "colab_type": "code",
        "outputId": "5a49cc97-4d11-4d48-e4e8-afbf5f39bdd7",
        "colab": {
          "base_uri": "https://localhost:8080/",
          "height": 33
        }
      },
      "source": [
        "acc = accuracy_score(y_test,Y_pred_rf_nocredit)\n",
        "print(\"Accuracy: %.2f\" % (acc*100),'%')"
      ],
      "execution_count": 0,
      "outputs": [
        {
          "output_type": "stream",
          "text": [
            "Accuracy: 80.26 %\n"
          ],
          "name": "stdout"
        }
      ]
    },
    {
      "cell_type": "markdown",
      "metadata": {
        "id": "I5vmOL5TxPoB",
        "colab_type": "text"
      },
      "source": [
        "***\n",
        "***"
      ]
    }
  ]
}